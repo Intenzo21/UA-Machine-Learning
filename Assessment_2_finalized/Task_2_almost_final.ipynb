{
 "cells": [
  {
   "cell_type": "markdown",
   "id": "worse-welding",
   "metadata": {
    "id": "worse-welding"
   },
   "source": [
    "# Task 2: Develop Recurrent Neural Network(s) For Sequence-to-Sequence Classification\n",
    "\n",
    "**Note**: I have run the code on a local machine GPU due to limited resources provided by the Google Colab platform. Therefore, you might get different results than mine even though the reproducibility measures applied below. That's just how GPUs work...\n",
    "\n",
    "To begin with, we provide a walkthrough on how to replicate the task on Google Colab. First, we need to extract the soybean dataset from the ZIP file (download from MyAberdeen). Therefore, we first mount our drive:"
   ]
  },
  {
   "cell_type": "code",
   "execution_count": 1,
   "id": "W1b50T6RwUp1",
   "metadata": {
    "colab": {
     "base_uri": "https://localhost:8080/",
     "height": 221
    },
    "executionInfo": {
     "elapsed": 196,
     "status": "error",
     "timestamp": 1635958507876,
     "user": {
      "displayName": "Casp3r",
      "photoUrl": "https://lh3.googleusercontent.com/a/default-user=s64",
      "userId": "17722606493291528264"
     },
     "user_tz": 0
    },
    "id": "W1b50T6RwUp1",
    "outputId": "e3e82998-c749-4944-c809-e1cf6b9bfcec"
   },
   "outputs": [],
   "source": [
    "from google.colab import drive\n",
    "drive.mount('/content/drive')"
   ]
  },
  {
   "cell_type": "markdown",
   "id": "lUM3PgdkEYNq",
   "metadata": {
    "id": "lUM3PgdkEYNq"
   },
   "source": [
    "\n",
    "Then, we upload the dataset ZIP file to our google drive and execute:\n",
    "\n",
    "    !unzip your_drive_path_to_data.zip -d './data/' \n",
    "\n",
    "where *your_drive_path_to_data.zip* (*CS5062_AssessmentII_Dataset.zip* in our case) should be replaced by the actual path of the dataset ZIP file on your drive.\n",
    "\n",
    "Alternatively, we can place the dataset zip file in the current directory and execute (tested in colab):\n",
    "\n",
    "    !unzip 'CS5062_AssessmentII_Dataset.zip' -d './data/' \n",
    "\n",
    "Below is the location of the dataset ZIP file on my Google Drive. This will differ in your case, so please adjust as needed."
   ]
  },
  {
   "cell_type": "code",
   "execution_count": 1,
   "id": "ANVyR_zbChB_",
   "metadata": {
    "colab": {
     "base_uri": "https://localhost:8080/"
    },
    "executionInfo": {
     "elapsed": 113,
     "status": "ok",
     "timestamp": 1635958498872,
     "user": {
      "displayName": "Casp3r",
      "photoUrl": "https://lh3.googleusercontent.com/a/default-user=s64",
      "userId": "17722606493291528264"
     },
     "user_tz": 0
    },
    "id": "ANVyR_zbChB_",
    "outputId": "b0823b9f-c962-49e5-fc80-8d357b1f4433"
   },
   "outputs": [],
   "source": [
    "!unzip -q '/content/drive/MyDrive/Colab Notebooks/Assessment_2/CS5062_AssessmentII_Dataset.zip' -d './data/'"
   ]
  },
  {
   "cell_type": "markdown",
   "id": "6-1htWLbt2y5",
   "metadata": {
    "id": "6-1htWLbt2y5"
   },
   "source": [
    "\n",
    "### Setting a Fixed Seed Value for the Random Number Generator and Importing Libraries\n",
    "\n",
    "Randomness is in the nature of neural networks which employ it to ensure a better performance on a specific task. However, we need to seed the random number generator to get reproducible results when training and comparing models. \n",
    "\n",
    "*Note that randomness might still occur such as the random initialisation of model weights when constructing a model. Thus, the output results might differ each time the script is run (generally on GPU). We put great deal of effort into making the script results as repeatable as possible.*\n",
    "\n",
    "- First, we install the new Tensorflow determinism package allowing reproducibility on GPUs.\n",
    "\n",
    "\n",
    "- Then, we seed the random number generators and import the required packages for model development and visualisation (i.e tensorflow, keras, matplotlib)."
   ]
  },
  {
   "cell_type": "code",
   "execution_count": null,
   "id": "w2RNnMLKVPgq",
   "metadata": {
    "colab": {
     "base_uri": "https://localhost:8080/"
    },
    "executionInfo": {
     "elapsed": 5091,
     "status": "ok",
     "timestamp": 1635957099626,
     "user": {
      "displayName": "Casp3r",
      "photoUrl": "https://lh3.googleusercontent.com/a/default-user=s64",
      "userId": "17722606493291528264"
     },
     "user_tz": 0
    },
    "id": "w2RNnMLKVPgq",
    "outputId": "04d10e53-aa04-4065-b833-91bc047eead2"
   },
   "outputs": [],
   "source": [
    "# Install the determinism package of Tensorflow\n",
    "# If the program throws attribute error the simply\n",
    "# uninstall the Keras package (since tensorflow already\n",
    "# provides it)\n",
    "!pip install tensorflow-determinism"
   ]
  },
  {
   "cell_type": "code",
   "execution_count": 1,
   "id": "comparable-minutes",
   "metadata": {
    "colab": {
     "base_uri": "https://localhost:8080/",
     "height": 238
    },
    "executionInfo": {
     "elapsed": 359,
     "status": "error",
     "timestamp": 1635958648060,
     "user": {
      "displayName": "Casp3r",
      "photoUrl": "https://lh3.googleusercontent.com/a/default-user=s64",
      "userId": "17722606493291528264"
     },
     "user_tz": 0
    },
    "id": "comparable-minutes",
    "outputId": "16bf1366-16b1-4dea-dc69-94448726ab74"
   },
   "outputs": [],
   "source": [
    "# Seed value used for achieving reproducibility\n",
    "SEED_VALUE = 1337\n",
    "\n",
    "# 1. Set the `PYTHONHASHSEED` environment variable at a fixed value\n",
    "import os\n",
    "os.environ['TF_DETERMINISTIC_OPS'] = '1'\n",
    "os.environ['TF_CUDNN_DETERMINISM'] = '1'\n",
    "os.environ['PYTHONHASHSEED'] = str(SEED_VALUE)\n",
    "\n",
    "# 2. Set the `python` built-in pseudo-random generator at a fixed value\n",
    "import random\n",
    "random.seed(SEED_VALUE)\n",
    "\n",
    "# 3. Set the `numpy` pseudo-random generator at a fixed value\n",
    "import numpy as np\n",
    "np.random.seed(SEED_VALUE)\n",
    "\n",
    "# 4. Set the `tensorflow` pseudo-random generator at a fixed value\n",
    "import tensorflow as tf\n",
    "tf.random.set_seed(SEED_VALUE)\n",
    "\n",
    "# Import the Keras backend used for freeing the global state\n",
    "# to avoid clutter\n",
    "from tensorflow.keras import backend as K"
   ]
  },
  {
   "cell_type": "markdown",
   "id": "basic-miniature",
   "metadata": {
    "id": "basic-miniature"
   },
   "source": [
    "## Subtask a. Data Preparation and Import"
   ]
  },
  {
   "cell_type": "markdown",
   "id": "5538b2b1",
   "metadata": {
    "id": "v5WYmolWUWMa"
   },
   "source": [
    "### Importing the Data\n",
    "\n",
    "We adopt the `pandas` Python package to read the train and test comma-separated values (csv) dataset files into 2 `DataFrame` structures. Specifically, we use the `read_csv` functions of the package to carry out the task."
   ]
  },
  {
   "cell_type": "code",
   "execution_count": 2,
   "id": "0f87fb9b",
   "metadata": {
    "id": "wuX8-IEbUWw6"
   },
   "outputs": [],
   "source": [
    "# Import the crucial Pandas and Matplotlib packages \n",
    "# used for data preparation and visualisation respectively\n",
    "import pandas as pd\n",
    "import matplotlib.pyplot as plt\n",
    "%matplotlib inline\n",
    "\n",
    "# 'Read' the train and test data into Pandas data frames\n",
    "train_df, test_df = pd.read_csv('data/Train.csv'), pd.read_csv('data/Test.csv')"
   ]
  },
  {
   "cell_type": "markdown",
   "id": "f4261034",
   "metadata": {
    "id": "QAdmwOOXuj4-"
   },
   "source": [
    "#### Describing the Data\n",
    "\n",
    "We employ the `DataFrame.describe()` method of the `pandas` library to display some basic statistical details like percentile, mean, std etc. of our data frame. We also show the shapes of the train and test datasets."
   ]
  },
  {
   "cell_type": "code",
   "execution_count": 3,
   "id": "23dcfddc",
   "metadata": {
    "colab": {
     "base_uri": "https://localhost:8080/",
     "height": 339
    },
    "executionInfo": {
     "elapsed": 15,
     "status": "ok",
     "timestamp": 1635883602849,
     "user": {
      "displayName": "Casp3r",
      "photoUrl": "https://lh3.googleusercontent.com/a/default-user=s64",
      "userId": "17722606493291528264"
     },
     "user_tz": 0
    },
    "id": "bLWYUuKlUW7T",
    "outputId": "a69e4136-fc6f-4290-cf7c-34132ebb42a1"
   },
   "outputs": [
    {
     "name": "stdout",
     "output_type": "stream",
     "text": [
      "Training data shape: (107085, 3)\n",
      "\n"
     ]
    },
    {
     "data": {
      "text/html": [
       "<div>\n",
       "<style scoped>\n",
       "    .dataframe tbody tr th:only-of-type {\n",
       "        vertical-align: middle;\n",
       "    }\n",
       "\n",
       "    .dataframe tbody tr th {\n",
       "        vertical-align: top;\n",
       "    }\n",
       "\n",
       "    .dataframe thead th {\n",
       "        text-align: right;\n",
       "    }\n",
       "</style>\n",
       "<table border=\"1\" class=\"dataframe\">\n",
       "  <thead>\n",
       "    <tr style=\"text-align: right;\">\n",
       "      <th></th>\n",
       "      <th>Trip</th>\n",
       "      <th>VehicleSpeed_km_h_</th>\n",
       "      <th>Battery_Status</th>\n",
       "    </tr>\n",
       "  </thead>\n",
       "  <tbody>\n",
       "    <tr>\n",
       "      <th>count</th>\n",
       "      <td>107085.000000</td>\n",
       "      <td>107085.000000</td>\n",
       "      <td>107085.000000</td>\n",
       "    </tr>\n",
       "    <tr>\n",
       "      <th>mean</th>\n",
       "      <td>2398.752832</td>\n",
       "      <td>34.640675</td>\n",
       "      <td>0.264388</td>\n",
       "    </tr>\n",
       "    <tr>\n",
       "      <th>std</th>\n",
       "      <td>509.159153</td>\n",
       "      <td>22.455519</td>\n",
       "      <td>0.441009</td>\n",
       "    </tr>\n",
       "    <tr>\n",
       "      <th>min</th>\n",
       "      <td>1567.000000</td>\n",
       "      <td>0.000000</td>\n",
       "      <td>0.000000</td>\n",
       "    </tr>\n",
       "    <tr>\n",
       "      <th>25%</th>\n",
       "      <td>1949.000000</td>\n",
       "      <td>15.589999</td>\n",
       "      <td>0.000000</td>\n",
       "    </tr>\n",
       "    <tr>\n",
       "      <th>50%</th>\n",
       "      <td>2384.000000</td>\n",
       "      <td>36.270000</td>\n",
       "      <td>0.000000</td>\n",
       "    </tr>\n",
       "    <tr>\n",
       "      <th>75%</th>\n",
       "      <td>2902.000000</td>\n",
       "      <td>52.529999</td>\n",
       "      <td>1.000000</td>\n",
       "    </tr>\n",
       "    <tr>\n",
       "      <th>max</th>\n",
       "      <td>3263.000000</td>\n",
       "      <td>103.430000</td>\n",
       "      <td>1.000000</td>\n",
       "    </tr>\n",
       "  </tbody>\n",
       "</table>\n",
       "</div>"
      ],
      "text/plain": [
       "                Trip  VehicleSpeed_km_h_  Battery_Status\n",
       "count  107085.000000       107085.000000   107085.000000\n",
       "mean     2398.752832           34.640675        0.264388\n",
       "std       509.159153           22.455519        0.441009\n",
       "min      1567.000000            0.000000        0.000000\n",
       "25%      1949.000000           15.589999        0.000000\n",
       "50%      2384.000000           36.270000        0.000000\n",
       "75%      2902.000000           52.529999        1.000000\n",
       "max      3263.000000          103.430000        1.000000"
      ]
     },
     "execution_count": 3,
     "metadata": {},
     "output_type": "execute_result"
    }
   ],
   "source": [
    "# Print the training dataset shape and describe the set\n",
    "print(f'Training data shape: {train_df.shape}\\n')\n",
    "train_df.describe()"
   ]
  },
  {
   "cell_type": "code",
   "execution_count": 4,
   "id": "6ee6bc8f",
   "metadata": {
    "colab": {
     "base_uri": "https://localhost:8080/",
     "height": 339
    },
    "executionInfo": {
     "elapsed": 9,
     "status": "ok",
     "timestamp": 1635883602849,
     "user": {
      "displayName": "Casp3r",
      "photoUrl": "https://lh3.googleusercontent.com/a/default-user=s64",
      "userId": "17722606493291528264"
     },
     "user_tz": 0
    },
    "id": "lfoVzYBCwAJ9",
    "outputId": "ef85c17b-7205-4218-b360-6bd77319e070"
   },
   "outputs": [
    {
     "name": "stdout",
     "output_type": "stream",
     "text": [
      "Test data shape: (60172, 3)\n",
      "\n"
     ]
    },
    {
     "data": {
      "text/html": [
       "<div>\n",
       "<style scoped>\n",
       "    .dataframe tbody tr th:only-of-type {\n",
       "        vertical-align: middle;\n",
       "    }\n",
       "\n",
       "    .dataframe tbody tr th {\n",
       "        vertical-align: top;\n",
       "    }\n",
       "\n",
       "    .dataframe thead th {\n",
       "        text-align: right;\n",
       "    }\n",
       "</style>\n",
       "<table border=\"1\" class=\"dataframe\">\n",
       "  <thead>\n",
       "    <tr style=\"text-align: right;\">\n",
       "      <th></th>\n",
       "      <th>Trip</th>\n",
       "      <th>VehicleSpeed_km_h_</th>\n",
       "      <th>Battery_Status</th>\n",
       "    </tr>\n",
       "  </thead>\n",
       "  <tbody>\n",
       "    <tr>\n",
       "      <th>count</th>\n",
       "      <td>60172.000000</td>\n",
       "      <td>60172.000000</td>\n",
       "      <td>60172.000000</td>\n",
       "    </tr>\n",
       "    <tr>\n",
       "      <th>mean</th>\n",
       "      <td>2449.359320</td>\n",
       "      <td>34.255137</td>\n",
       "      <td>0.257346</td>\n",
       "    </tr>\n",
       "    <tr>\n",
       "      <th>std</th>\n",
       "      <td>447.700622</td>\n",
       "      <td>22.876331</td>\n",
       "      <td>0.437175</td>\n",
       "    </tr>\n",
       "    <tr>\n",
       "      <th>min</th>\n",
       "      <td>1558.000000</td>\n",
       "      <td>0.000000</td>\n",
       "      <td>0.000000</td>\n",
       "    </tr>\n",
       "    <tr>\n",
       "      <th>25%</th>\n",
       "      <td>2105.000000</td>\n",
       "      <td>13.960000</td>\n",
       "      <td>0.000000</td>\n",
       "    </tr>\n",
       "    <tr>\n",
       "      <th>50%</th>\n",
       "      <td>2533.000000</td>\n",
       "      <td>36.369999</td>\n",
       "      <td>0.000000</td>\n",
       "    </tr>\n",
       "    <tr>\n",
       "      <th>75%</th>\n",
       "      <td>2806.000000</td>\n",
       "      <td>53.590000</td>\n",
       "      <td>1.000000</td>\n",
       "    </tr>\n",
       "    <tr>\n",
       "      <th>max</th>\n",
       "      <td>3271.000000</td>\n",
       "      <td>84.650002</td>\n",
       "      <td>1.000000</td>\n",
       "    </tr>\n",
       "  </tbody>\n",
       "</table>\n",
       "</div>"
      ],
      "text/plain": [
       "               Trip  VehicleSpeed_km_h_  Battery_Status\n",
       "count  60172.000000        60172.000000    60172.000000\n",
       "mean    2449.359320           34.255137        0.257346\n",
       "std      447.700622           22.876331        0.437175\n",
       "min     1558.000000            0.000000        0.000000\n",
       "25%     2105.000000           13.960000        0.000000\n",
       "50%     2533.000000           36.369999        0.000000\n",
       "75%     2806.000000           53.590000        1.000000\n",
       "max     3271.000000           84.650002        1.000000"
      ]
     },
     "execution_count": 4,
     "metadata": {},
     "output_type": "execute_result"
    }
   ],
   "source": [
    "# Print the test dataset shape and describe the set\n",
    "print(f'Test data shape: {test_df.shape}\\n')\n",
    "test_df.describe()"
   ]
  },
  {
   "cell_type": "markdown",
   "id": "0f3a24e5",
   "metadata": {
    "id": "hcjSW4EdUW_K"
   },
   "source": [
    "We notice that the dataset consists only of numeric values. There are 107,058 records of train and 60,172 records of test data, each with 2 features &mdash; `Trip` and `VehicleSpeed_km_h_` &mdash; and a target variable `Battery_Status`. Moreover, it is worth noting that the feature value ranges are different (quantities in the 10s and 1000s thus not scaled) for each feature. Hence, we will need to perform some data scaling on the provided data which is detailed in the sections below. The maximum, minimum, mean values etc. are all observable in the data frame shown above."
   ]
  },
  {
   "cell_type": "markdown",
   "id": "cdb33146",
   "metadata": {},
   "source": [
    "### Preparing the Data\n",
    "\n",
    "In the task requirements it is specifically stated that:\n",
    "\n",
    "- **\"For the sake of reducing time for training and running a model, only speed is used to predict the battery status.\"**\n",
    "\n",
    "Therefore, we need to reduce the dimensionality of the train and test data to 1 feature (`VehicleSpeed_km_h_` column) by removing the 'Trip' feature since we only care about how EV speed affects its battery status. We perform this by using the `drop()` function of the `pandas.DataFrame` package as shown in the code below:"
   ]
  },
  {
   "cell_type": "code",
   "execution_count": 5,
   "id": "f33fc2ba",
   "metadata": {
    "id": "YYbCCGEysrCV"
   },
   "outputs": [],
   "source": [
    "# Drop the 'Trip' column from both training and test data frames\n",
    "train_df_reduced = train_df.drop([\"Trip\"], axis=1)\n",
    "test_df_reduced = test_df.drop([\"Trip\"], axis=1)"
   ]
  },
  {
   "cell_type": "markdown",
   "id": "23a2b4db",
   "metadata": {
    "id": "rN-xTC_2BZBD"
   },
   "source": [
    "\n",
    "#### Handling Missing Values\n",
    "\n",
    "First, we need to check if there are any missing (`NaN`) values our dataset. This can be evaluated via the `isnull()` or `isna()` functions of the `pandas.DataFrame` structure as shown below.\n"
   ]
  },
  {
   "cell_type": "code",
   "execution_count": 6,
   "id": "03f9caa8",
   "metadata": {
    "colab": {
     "base_uri": "https://localhost:8080/"
    },
    "executionInfo": {
     "elapsed": 6,
     "status": "ok",
     "timestamp": 1635883603535,
     "user": {
      "displayName": "Casp3r",
      "photoUrl": "https://lh3.googleusercontent.com/a/default-user=s64",
      "userId": "17722606493291528264"
     },
     "user_tz": 0
    },
    "id": "A9RNIYEbAMY5",
    "outputId": "fb1ffa03-17a7-4b54-bbb9-f628d5729ef2"
   },
   "outputs": [
    {
     "data": {
      "text/plain": [
       "(False, False)"
      ]
     },
     "execution_count": 6,
     "metadata": {},
     "output_type": "execute_result"
    }
   ],
   "source": [
    "# Check for null values\n",
    "train_df_reduced.isnull().values.any(),  test_df_reduced.isnull().values.any()"
   ]
  },
  {
   "cell_type": "markdown",
   "id": "f15a1331",
   "metadata": {
    "id": "UrbeE5ofkgDi"
   },
   "source": [
    "Apparently, there are no missing values in our train and test sets. This is a good thing because e if a dataset is full of `NaN` (junk) values, then the trained model will surely show a poor performance. So taking care of such missing values is indeed an important preprocessing step which is not required in our scenario."
   ]
  },
  {
   "cell_type": "markdown",
   "id": "26bf5aac",
   "metadata": {
    "id": "I9IwcvsABRsT"
   },
   "source": [
    "#### Visualisation"
   ]
  },
  {
   "cell_type": "markdown",
   "id": "01700f04",
   "metadata": {
    "id": "4dBLBAgaAkzP"
   },
   "source": [
    "Next, we plot some figures to visualise our data.\n",
    "\n",
    "First of all, let us see some data histograms for both the training and test datasets. This will show us the actual data distributions over the `VehicleSpeed_km_h_` feature and the `Battery_Status` target variable."
   ]
  },
  {
   "cell_type": "code",
   "execution_count": 7,
   "id": "6257ff5a",
   "metadata": {
    "colab": {
     "base_uri": "https://localhost:8080/",
     "height": 356
    },
    "executionInfo": {
     "elapsed": 6,
     "status": "ok",
     "timestamp": 1635883604562,
     "user": {
      "displayName": "Casp3r",
      "photoUrl": "https://lh3.googleusercontent.com/a/default-user=s64",
      "userId": "17722606493291528264"
     },
     "user_tz": 0
    },
    "id": "BTO-RhITwOyi",
    "outputId": "bf3a943a-944e-4843-fe01-c9cf36eadf35"
   },
   "outputs": [
    {
     "data": {
      "image/png": "[encoded data removed]",
      "text/plain": [
       "<Figure size 720x360 with 2 Axes>"
      ]
     },
     "metadata": {
      "needs_background": "light"
     },
     "output_type": "display_data"
    }
   ],
   "source": [
    "# Plot training data histograms\n",
    "train_df_reduced.hist(bins=20, figsize=(10,5))\n",
    "plt.suptitle(\"Training Data Histograms\", fontsize=16)\n",
    "plt.show()"
   ]
  },
  {
   "cell_type": "code",
   "execution_count": 8,
   "id": "2b072e31",
   "metadata": {
    "colab": {
     "base_uri": "https://localhost:8080/",
     "height": 356
    },
    "executionInfo": {
     "elapsed": 426,
     "status": "ok",
     "timestamp": 1635883604984,
     "user": {
      "displayName": "Casp3r",
      "photoUrl": "https://lh3.googleusercontent.com/a/default-user=s64",
      "userId": "17722606493291528264"
     },
     "user_tz": 0
    },
    "id": "9fxKwNq1y27X",
    "outputId": "eead9282-7d40-4d05-8013-4a003d97af4f"
   },
   "outputs": [
    {
     "data": {
      "image/png": "[encoded data removed]",
      "text/plain": [
       "<Figure size 720x360 with 2 Axes>"
      ]
     },
     "metadata": {
      "needs_background": "light"
     },
     "output_type": "display_data"
    }
   ],
   "source": [
    "# Plot test data histograms\n",
    "test_df_reduced.hist(bins=20, figsize=(10,5), color='orange')\n",
    "plt.suptitle(\"Test Data Histograms\", fontsize=16)\n",
    "plt.show()"
   ]
  },
  {
   "cell_type": "markdown",
   "id": "3e7e0078",
   "metadata": {
    "id": "UUMdp0fk_gPB"
   },
   "source": [
    "The above figures depict that the majority of the `Battery_Status` target variable values are 0 while the rest are 1's. Moreover, the input feature `VehicleSpeed_km_h` comprise values that follow a normal (Gaussian) distribution. Therefore, a suitable scaling method in our case would be standardisation."
   ]
  },
  {
   "cell_type": "code",
   "execution_count": 9,
   "id": "3ffe1164",
   "metadata": {
    "colab": {
     "base_uri": "https://localhost:8080/"
    },
    "executionInfo": {
     "elapsed": 10,
     "status": "ok",
     "timestamp": 1635883604985,
     "user": {
      "displayName": "Casp3r",
      "photoUrl": "https://lh3.googleusercontent.com/a/default-user=s64",
      "userId": "17722606493291528264"
     },
     "user_tz": 0
    },
    "id": "R_63z5KA7Elk",
    "outputId": "649e979c-5ff7-4dec-e4db-6b4315c55729"
   },
   "outputs": [
    {
     "name": "stdout",
     "output_type": "stream",
     "text": [
      "Train data zeroes:ones ratio: 2.7823184515399833\n",
      "\n",
      "Test data zeroes:ones ratio: 2.885824991927672\n"
     ]
    }
   ],
   "source": [
    "# Print the 0's to 1's ratio of the training data\n",
    "all_zeroes_train = train_df[train_df['Battery_Status']==0]['Battery_Status'].count()\n",
    "all_ones_train = train_df[train_df['Battery_Status']==1]['Battery_Status'].count()\n",
    "print(f'Train data zeroes:ones ratio: {(all_zeroes_train/all_ones_train)}\\n')\n",
    "\n",
    "# Print the 0's to 1's ratio of the test data\n",
    "all_zeroes_test = test_df[test_df['Battery_Status']==0]['Battery_Status'].count()\n",
    "all_ones_test = test_df[test_df['Battery_Status']==1]['Battery_Status'].count()\n",
    "print(f'Test data zeroes:ones ratio: {(all_zeroes_test/all_ones_test)}')"
   ]
  },
  {
   "cell_type": "markdown",
   "id": "8083f6be",
   "metadata": {
    "id": "Eqx5zt8B8Tdp"
   },
   "source": [
    "Particularly, we have $\\approx 2.7823$ and $\\approx 2.8858$ or almost 3 times more 0's than 1's in the train and test sets."
   ]
  },
  {
   "cell_type": "markdown",
   "id": "6de08a08",
   "metadata": {
    "id": "8c3vUHTbBiaf"
   },
   "source": [
    "#### Data Types"
   ]
  },
  {
   "cell_type": "code",
   "execution_count": 10,
   "id": "2e94604b",
   "metadata": {
    "colab": {
     "base_uri": "https://localhost:8080/"
    },
    "executionInfo": {
     "elapsed": 8,
     "status": "ok",
     "timestamp": 1635883606085,
     "user": {
      "displayName": "Casp3r",
      "photoUrl": "https://lh3.googleusercontent.com/a/default-user=s64",
      "userId": "17722606493291528264"
     },
     "user_tz": 0
    },
    "id": "3ebjSua3zEwP",
    "outputId": "f85b9dea-a0d7-412a-8ccb-859ed6c285b0"
   },
   "outputs": [
    {
     "name": "stdout",
     "output_type": "stream",
     "text": [
      "Train Data\n",
      "\n",
      "<class 'pandas.core.frame.DataFrame'>\n",
      "RangeIndex: 107085 entries, 0 to 107084\n",
      "Data columns (total 2 columns):\n",
      " #   Column              Non-Null Count   Dtype  \n",
      "---  ------              --------------   -----  \n",
      " 0   VehicleSpeed_km_h_  107085 non-null  float64\n",
      " 1   Battery_Status      107085 non-null  int64  \n",
      "dtypes: float64(1), int64(1)\n",
      "memory usage: 1.6 MB\n",
      "\n",
      "--------------------------------------------------\n",
      "Test Data\n",
      "\n",
      "<class 'pandas.core.frame.DataFrame'>\n",
      "RangeIndex: 60172 entries, 0 to 60171\n",
      "Data columns (total 2 columns):\n",
      " #   Column              Non-Null Count  Dtype  \n",
      "---  ------              --------------  -----  \n",
      " 0   VehicleSpeed_km_h_  60172 non-null  float64\n",
      " 1   Battery_Status      60172 non-null  int64  \n",
      "dtypes: float64(1), int64(1)\n",
      "memory usage: 940.3 KB\n"
     ]
    }
   ],
   "source": [
    "# Print the both dataset data types of each feature\n",
    "# together with the memory usage of the data\n",
    "print('Train Data\\n')\n",
    "train_df_reduced.info()\n",
    "print('\\n' + '-'*50 + '\\nTest Data\\n')\n",
    "test_df_reduced.info()"
   ]
  },
  {
   "cell_type": "markdown",
   "id": "4e02514e",
   "metadata": {
    "id": "xlw5KqNQzFSH"
   },
   "source": [
    "Above we can see that the train and test datasets contain 2 diferent data types `int64` and `float64`. Using 64-bit data consumes great deal of memory and in our case the usage of such data type is inefficient since we are not looking for such a high level of result precision. Hence, we can convert the data type of the data frames to to 32-bit (using `int32` and `float32`) to save some memory and boost the algorithm speed."
   ]
  },
  {
   "cell_type": "code",
   "execution_count": 11,
   "id": "d25e094e",
   "metadata": {
    "id": "lISiSASdzkBe"
   },
   "outputs": [],
   "source": [
    "# Convert both dataset values to 32-bit to save memory usage and boost runtime\n",
    "train_df_32 = train_df_reduced.astype({\"VehicleSpeed_km_h_\": 'float32', \\\n",
    "                               \"Battery_Status\": 'int32'})\n",
    "test_df_32 = test_df_reduced.astype({\"VehicleSpeed_km_h_\": 'float32', \\\n",
    "                             \"Battery_Status\": 'int32'})"
   ]
  },
  {
   "cell_type": "markdown",
   "id": "022cbc5e",
   "metadata": {
    "id": "UYtUX2xnDIVN"
   },
   "source": [
    "#### Separating Features and Labels (Targets)\n",
    "\n",
    "For this we are going to make use of the `DataFrame.iloc[rows, columns]` method offered by the pandas library. "
   ]
  },
  {
   "cell_type": "code",
   "execution_count": 12,
   "id": "eb94743a",
   "metadata": {
    "id": "dSaOLdufDUHK"
   },
   "outputs": [],
   "source": [
    "# Divide the single feature from the target variable\n",
    "X_train, y_train = train_df_32.iloc[:,:-1], train_df_32.iloc[:,-1]\n",
    "X_test, y_test = test_df_32.iloc[:,:-1], test_df_32.iloc[:,-1]"
   ]
  },
  {
   "cell_type": "markdown",
   "id": "9a02c188",
   "metadata": {
    "id": "XUZ1_wjRLn7r"
   },
   "source": [
    "#### Feature Scaling\n",
    "\n",
    "In general, unscaled data can cause a network's learning and convergence to be slowed down and in some cases even prevent it from learning the problem sufficiently.\n",
    "\n",
    "We employ standardisation for feature scaling since is not bounded to a certain range making it more robust to outliers. Thus, it is often prefered over the min-max normalisation. \n",
    "\n",
    "\n",
    "Also, this technique centers the data around the mean (becomes 0 of the new distribution) with a standard deviation of 1. It is useful for the optimization algorithms, such as gradient descent, that are used within machine-learning algorithms that weight inputs (e.g., regression and neural networks)."
   ]
  },
  {
   "cell_type": "code",
   "execution_count": 13,
   "id": "f1e841ec",
   "metadata": {
    "id": "xIhzYTZWPkvt"
   },
   "outputs": [],
   "source": [
    "# Import the StandardScaler class\n",
    "from sklearn.preprocessing import StandardScaler\n",
    "\n",
    "# Create a StandardScaler instance used in standardising our data\n",
    "sc = StandardScaler()\n",
    "\n",
    "# Fit only to the train data to avoid data leakage from the test set.\n",
    "# Then we transform both the train and test sets.\n",
    "X_train_scaled = sc.fit_transform(X_train)\n",
    "X_test_scaled = sc.transform(X_test)"
   ]
  },
  {
   "cell_type": "markdown",
   "id": "refined-vancouver",
   "metadata": {
    "id": "refined-vancouver"
   },
   "source": [
    "### Input Data Reshaping and Coverting Labels\n",
    "\n",
    "Below, we define the input shape or the data format so that it is handled properly by our Recurrent Neural Network (`RNN`) models. We proceed as follows:\n",
    "\n",
    "1. The input to every RNN layer must be 3D (samples $\\times$ time steps $\\times$ features). In other words, when fitting the model and making predictions, the input layer expects a 3D array of data, even if a specific dimension contains a single value, e.g., one sample. \n",
    "\n",
    "    - `RNNs` assume that there are one or more samples at the input layer. \n",
    "    \n",
    "    - Subsequently, `RNNs` demand the specification of the number of time steps and features which can be achieved via the `input_shape` argument of the layer. This argument takes the 2-tuple (time steps $\\times$ features). We omit the specifying the number of samples since this is determined by the batch size during model fitting.\n",
    "    - In our case, the `input_shape=(1,1)` because we want to feed 1 point of observation in the samples considering 1 feature at a time (`VehicleSpeed_km_h_`) into the `RNNs`.\n",
    "\n",
    "\n",
    "2. Next, we reshape our input training and test data (the feature vectors) using the already defined input shape. This way we ensure that it is fed in the correct format into the `RNN`. For the purpose, we adopt the Pandas `reshape()` function.\n",
    "\n",
    "\n",
    "3. Finally, we convert the training and test labels to binary matrix representations. That is, the 0's (discharging) and 1's (charging) classes are now converted to the `[1 0]` and `[0 1]` binary matrices respectively."
   ]
  },
  {
   "cell_type": "code",
   "execution_count": 14,
   "id": "61714780",
   "metadata": {},
   "outputs": [
    {
     "name": "stdout",
     "output_type": "stream",
     "text": [
      "New input data shapes: ((107085, 2), (60172, 2))\n",
      "Default labels: 0, 1\n",
      "Binary matrix representations: [1. 0.], [0. 1.]\n"
     ]
    }
   ],
   "source": [
    "# Define the input shape (batch_size, timesteps, data_dim)\n",
    "# Sample - a batch is comprised of one or more samples (sequences).\n",
    "# Time Step - a point of observation in the samples.\n",
    "# Feature - an observation at a time step.\n",
    "INPUT_SHAPE = 1, 1 \n",
    "\n",
    "# Reshape the train and test input data\n",
    "X_train_rs = X_train_scaled.reshape(-1, *INPUT_SHAPE)\n",
    "X_test_rs = X_test_scaled.reshape(-1, *INPUT_SHAPE)\n",
    "\n",
    "# Specify the number of classes as a constant\n",
    "# which is reused later\n",
    "NUM_CLASSES = 2\n",
    "\n",
    "# Convert our class vector (integers) to binary class matrix.\n",
    "y_train_bm = tf.keras.utils.to_categorical(y_train, num_classes=NUM_CLASSES)\n",
    "y_test_bm = tf.keras.utils.to_categorical(y_test, num_classes=NUM_CLASSES)\n",
    "\n",
    "# Print the changes\n",
    "print(f'New input data shapes: {y_train_bm.shape, y_test_bm.shape}')\n",
    "print(f'Default labels: {y_train[71]}, {y_train[72]}')\n",
    "print(f'Binary matrix representations: {y_train_bm[71]}, {y_train_bm[72]}')"
   ]
  },
  {
   "cell_type": "code",
   "execution_count": 15,
   "id": "6ec28cbe",
   "metadata": {},
   "outputs": [],
   "source": [
    "# Install the Tensorflow addons module which is \n",
    "# used for employing additional binary classification \n",
    "# metrics such as F1 score, precision, recall, etc\n",
    "# !pip install tensorflow-addons[tensorflow]"
   ]
  },
  {
   "cell_type": "code",
   "execution_count": 16,
   "id": "349c4787",
   "metadata": {},
   "outputs": [],
   "source": [
    "# Import the Keras layer used for building our models\n",
    "from tensorflow.keras import Sequential\n",
    "from tensorflow.keras.layers import SimpleRNN, LSTM, Dense, Flatten,\\\n",
    "Dropout, BatchNormalization"
   ]
  },
  {
   "cell_type": "markdown",
   "id": "dc17ddc8",
   "metadata": {},
   "source": [
    "USE RELU FOR HIDDEN AND SIGMOID ON OUTPUT"
   ]
  },
  {
   "cell_type": "markdown",
   "id": "opposed-discovery",
   "metadata": {
    "id": "opposed-discovery"
   },
   "source": [
    "### Developing our Baseline RNN Models\n",
    "\n",
    "In this section we go over our simple `RNN` and `LSTM` baseline models. These will serve as the foundational models for further tuning and improvement. By adopting them, we set a minimum reference model performances for later comparison. Both models are inspirated by <a href=\"https://www.tensorflow.org/guide/keras/rnn\">Tensorflow</a>."
   ]
  },
  {
   "cell_type": "markdown",
   "id": "b057ef3d",
   "metadata": {},
   "source": [
    "#### The Simple RNN Architecture\n",
    "\n",
    "In the field of AI, Recurrent Neural Networks (`RNNs`) are used for modelling data sequences, such as time series or natural language. An `RNN` layer iterates over the time steps of a sequence using a loop, while maintaining an internal state that provides information about the time steps it has observed so far.\n",
    "\n",
    "- Disadvantage &ndash; `RNNs` are prone to the so called vanishing gradient problem. This is caused by the large number of steps being processed. That is, if the gradient gets smaller and smaller at each step of the backpropagation, this causes their exponential shrink and eventually vanish without updating some of the weights. Thus, that would mean that the model would stop learning.\n",
    "\n",
    "\n",
    "We adopt the Keras `Sequential` API when constructing our simple `RNN`. The `RNN` structure is defined below:\n",
    "\n",
    "\n",
    "- `SimpleRNN(128)` &ndash; we define the single `RNN` layer with 128 units\n",
    "\n",
    "\n",
    "- `BatchNormalization()` &ndash; normalisation layer that maintains the mean output close to 0 and the output standard deviation close to 1.\n",
    "\n",
    "\n",
    "- `Dropout(0.25)` &ndash; a dropout layer with 25% drop rate to decrease overfitting\n",
    "\n",
    "\n",
    "- `Dense(10)` &ndash; a fully-connected layer with 10 outputs (units)\n",
    "\n",
    "\n",
    "- `BatchNormalization()` &ndash; normalisation layer\n",
    "\n",
    "\n",
    "- `Dropout(0.25)` &ndash; a dropout layer with 25% drop rate to decrease overfitting\n",
    "\n",
    "\n",
    "- `Dense(NUM_CLASSES)` &ndash; final fully-connected layer with `NUM_CLASSES=2` outputs since we are dealing with binary classification problem\n",
    "\n",
    "<center>\n",
    "    <br>\n",
    "    <figure>\n",
    "        <img src=\"https://drive.google.com/uc?id=1W9nqJYXLLkY7_yGfQivz1drImvIQlOzX\" width=\"350\">\n",
    "        <br>\n",
    "        <figcaption style=\"text-align:center\"><b>Fig. 1.</b> Baseline simple RNN architecture.</figcaption>\n",
    "    </figure>\n",
    "    <br>\n",
    "</center>\n",
    "\n",
    "\n",
    "    Considering `CNNs`, it is recommended to begin with smaller filter sizes for better local information capturing. That is, to enable the model to detect low-level features used in forming complex shapes later on. As we go deeper we gradually increase the filter size which reduces the resulting feature space to reflect higher-level information. Moreover, deepening and narrowing the feature space allows the input to be fed into a `Dense` layer. \n",
    "\n",
    "- Activation function &ndash; We adopt the `ReLU` activation function to achieve nonlinearity. It is preferred over `tanh` and `sigmoid` activation functions due to its trivial implementation (requires only a `max()` function), representational sparsity (outputs a true zero value), linear function characteristics (easier to optimise) and enables proper deep neural network training.\n",
    "\n",
    "\n",
    "- Batch normalisation &ndash; intermediate layers are capable of amending the already normalised input before it gets to the deeper layers of the neural network. This might cause an internal co-variate shift that can influence the model learning. A solution to this problem is adding the `BatchNormalization` layer which standardises (centers the mean and scales the variance) the input passed to the inner layers. This layer is generally placed after the activation function output but before the `Dropout` layer (if any). The <a href=\"https://arxiv.org/abs/1502.03167\">original paper</a> that introduces the technique suggests otherwise. Nevertheless, there are reported <a href=\"https://github.com/ducha-aiki/caffenet-benchmark/blob/master/batchnorm.md\">practical experiments</a> suggesting that the application of the `BatchNormalization` layer after the activation function yields better results. This seems rather reasonable since feeding the batch-normalised output to an activation layer would lead to its alteration and would nullify the conducted normalisation. Hence, we put the `BatchNormalization` layer after the activation function in our `SimpleRNN` and `LSTM` networks."
   ]
  },
  {
   "cell_type": "code",
   "execution_count": 22,
   "id": "4d36b2dd",
   "metadata": {},
   "outputs": [],
   "source": [
    "def simple_rnn_model():\n",
    "    \"\"\"Construct and return the simple RNN model architecture\n",
    "    \"\"\"\n",
    "    model = Sequential()\n",
    "    model.add(SimpleRNN(128, input_shape=(1,1), activation='relu'))\n",
    "    model.add(BatchNormalization())\n",
    "    model.add(Dropout(0.25))\n",
    "    \n",
    "    model.add(Dense(10, activation='relu'))\n",
    "    model.add(BatchNormalization())\n",
    "    model.add(Dropout(0.25))\n",
    "    \n",
    "    model.add(Dense(NUM_CLASSES, activation='sigmoid'))\n",
    "\n",
    "#     model.summary()\n",
    "    return model"
   ]
  },
  {
   "cell_type": "markdown",
   "id": "1fd97aec",
   "metadata": {},
   "source": [
    "#### The LSTM Architecture\n",
    "\n",
    "    The `MLP` architecture we develop vertically stacks  2 LSTM layers together \n",
    "    SAY ABOUT ADVANTAGE OVER RNN\n",
    "\n",
    "    RNN width is defined by (1) # of input channels; (2) # of cell's filters (output channels/units). As with CNN, each RNN filter is an independent feature extractor: more is suited for higher-complexity information, including but not limited to: dimensionality, modality, noise, frequency.\n",
    "    RNN depth is defined by (1) # of stacked layers; (2) # of timesteps. Specifics will vary by architecture, but from information standpoint, unlike CNNs, RNNs are dense: every timestep influences the ultimate output of a layer, hence the ultimate output of the next layer - so it again isn't as simple as \"more nonlinearity\"; stacked RNNs exploit both spatial and temporal information.\n",
    "\n",
    "\n",
    "\n",
    "    In case of a simple feedforward net we stack layers to create a hierarchical feature representation of the input data to then use for some machine learning task. The same applies for stacked LSTM's. If the input is already the result from an LSTM layer (or a feedforward layer) then the current LSTM can create a more complex feature representation of the current input. \n",
    "\n",
    "    As discussed before, the Keras Sequential API is used for creating the model. \n",
    "\n",
    "    Every LSTM layer should be accompanied by a Dropout layer. This layer will help to prevent overfitting by ignoring randomly selected neurons during training, and hence reduces the sensitivity to the specific weights of individual neurons. 20% is often used as a good compromise between retaining model accuracy and preventing overfitting.\n",
    "\n",
    "    In general, width extracts more features, whereas depth extracts richer features - but if there aren't many features to extract from given data, width should be lessened - and the \"simpler\" the data/problem, the less layers are suitable.\n",
    "\n",
    "\n",
    "- `LSTM(128)` &ndash; the first `LSTM` layer with 128 units\n",
    "\n",
    "\n",
    "- `BatchNormalization()` &ndash; normalisation layer that maintains the mean output close to 0 and the output standard deviation close to 1.\n",
    "\n",
    "\n",
    "- `Dropout(0.25)` &ndash; a dropout layer with 25% drop rate to decrease overfitting\n",
    "\n",
    "\n",
    "- `LSTM(64)` &ndash; a second `LSTM` layer with 64 units\n",
    "\n",
    "\n",
    "- `BatchNormalization()` &ndash; normalisation layer\n",
    "\n",
    "\n",
    "- `Dropout(0.25)` &ndash; a dropout layer with 25% drop rate to decrease overfitting\n",
    "\n",
    "\n",
    "- `Dense(10)` &ndash; a fully-connected layer with 10 outputs (units)\n",
    "\n",
    "\n",
    "- `BatchNormalization()` &ndash; normalisation layer\n",
    "\n",
    "\n",
    "- `Dropout(0.25)` &ndash; a dropout layer with 25% drop rate to decrease overfitting\n",
    "\n",
    "\n",
    "- `Dense(NUM_CLASSES)` &ndash; final fully-connected layer with `NUM_CLASSES=2` outputs since we are dealing with binary classification problem\n",
    "\n",
    "\n",
    "<center>\n",
    "<br>\n",
    "<figure>\n",
    "<img src=\"https://drive.google.com/uc?id=1JyzQ-4IsQ5mT6C-lZwXCYo84OGry5jbp\" width=\"350\">\n",
    "<br>\n",
    "<figcaption style=\"text-align:center\"><b>Fig. 2.</b> Baseline simple RNN architecture.</figcaption>\n",
    "</figure>\n",
    "<br>\n",
    "</center>\n",
    "\n",
    "    The final `Dense` layer has 2 output neuron and activates linearly (no function specified). Using the linear function allows us to generate a real-valued or numeric prediction, which is exactly what we need. That is, we do not want to change in any way our prediction output which non-linear activation functions in the last layer might cause.\n",
    "\n",
    "     we consider greater number of features before converging to the actual prediction.\n",
    "\n",
    "    We use `ReLU` based activation because it is one of the standard activation functions used nowadays (as detailed above).\n",
    "\n",
    "    Next, we define the MLP in code:\n",
    "\n",
    "RELU Found much success in computer vision applications"
   ]
  },
  {
   "cell_type": "code",
   "execution_count": 23,
   "id": "45a91c72",
   "metadata": {},
   "outputs": [],
   "source": [
    "def lstm_model():\n",
    "    \"\"\"Construct and return the LSTM model architecture\n",
    "    \"\"\"\n",
    "    model = Sequential()\n",
    "    model.add(LSTM(128, input_shape=(1,1), activation='relu', return_sequences=True)) # return_sequence=True\n",
    "    model.add(BatchNormalization())\n",
    "    model.add(Dropout(0.25))\n",
    "    \n",
    "    model.add(LSTM(64, activation='relu'))\n",
    "    model.add(BatchNormalization())\n",
    "    model.add(Dropout(0.25))\n",
    "\n",
    "    model.add(Dense(10, activation='relu'))\n",
    "    model.add(BatchNormalization())\n",
    "    model.add(Dropout(0.25))\n",
    "    \n",
    "    model.add(Dense(NUM_CLASSES, activation='sigmoid'))\n",
    "#     model.summary()\n",
    "    return model"
   ]
  },
  {
   "cell_type": "markdown",
   "id": "8fb9182c",
   "metadata": {},
   "source": [
    "### Defining the Baseline Model Configuration\n",
    "\n",
    "- **Batch size** &ndash; The batch size is a hyperparameter used for spicifying the amount of samples that will be sent across the network. As a kickoff, we use a batch size of 32 samples which is stated to be a good default value in the <a href=\"https://arxiv.org/abs/1206.5533\">following paper</a>. In general, smaller batch sizes are mainly used because they offer regularisation and improved generalisation.\n",
    "\n",
    "\n",
    "- **Epochs** &ndash; this is the number of passes of the whole training dataset the algorithm is expected to complete. We use 10 epochs to quickly evaluate our baseline models. We will adjust this hyperparameter later on when we conduct the model hyperparameter optimisation procedure.\n",
    "\n",
    "\n",
    "- **Validation split** &ndash; we adopt 25% of the training data, or 20% of the whole dataset, for validation training of our baseline models.\n",
    "\n",
    "\n",
    "- **Optimiser** &ndash; we pick the `Adam` algorithm since it is a popular deep learning method that quickly produces good results. This optimiser combines the advantages of the AdaGrad and RMSProp algorithms into a technique that can tackle sparse gradients on noisy tasks. We use the default `learning_rate=0.001` value of the `Adam` algorithm for our baseline model evaluations which is to be tuned at a later point.\n",
    "\n",
    "\n",
    "- **Loss function** &ndash; we use the Mean Squared Error (`MSE`) loss function which is the default for regression problems. Furthermore, we choose the `RMSE` metric to report the performance of our models. \n",
    "\n",
    "\n",
    "Finally, we wish to see as much output as possible, thus configure the training process to be verbose.\n",
    "Cross-entropy is the default loss function to use for binary classification problems.\n",
    "\n",
    "It is intended for use with binary classification where the target values are in the set {0, 1}.\n",
    "\n",
    "Cross-entropy will calculate a score that summarizes the average difference between the actual and predicted probability distributions for predicting class 1. The score is minimized and a perfect cross-entropy value is 0."
   ]
  },
  {
   "cell_type": "code",
   "execution_count": null,
   "id": "5fb1244f",
   "metadata": {},
   "outputs": [],
   "source": [
    "from tensorflow.keras.optimizers import Adam\n",
    "LOSS = BinaryCrossentropy()\n",
    "OPTIMISER = Adam()\n",
    "METRICS = ['accuracy', F1Score(num_classes=NO_CLASSES, average = 'macro')]"
   ]
  },
  {
   "cell_type": "code",
   "execution_count": 186,
   "id": "f7dfceb7",
   "metadata": {},
   "outputs": [
    {
     "name": "stdout",
     "output_type": "stream",
     "text": [
      "Model: \"sequential_24\"\n",
      "_________________________________________________________________\n",
      "Layer (type)                 Output Shape              Param #   \n",
      "=================================================================\n",
      "simple_rnn_24 (SimpleRNN)    (None, 128)               16640     \n",
      "_________________________________________________________________\n",
      "batch_normalization (BatchNo (None, 128)               512       \n",
      "_________________________________________________________________\n",
      "dropout_44 (Dropout)         (None, 128)               0         \n",
      "_________________________________________________________________\n",
      "dense_44 (Dense)             (None, 10)                1290      \n",
      "_________________________________________________________________\n",
      "batch_normalization_1 (Batch (None, 10)                40        \n",
      "_________________________________________________________________\n",
      "dropout_45 (Dropout)         (None, 10)                0         \n",
      "_________________________________________________________________\n",
      "dense_45 (Dense)             (None, 2)                 22        \n",
      "=================================================================\n",
      "Total params: 18,504\n",
      "Trainable params: 18,228\n",
      "Non-trainable params: 276\n",
      "_________________________________________________________________\n"
     ]
    }
   ],
   "source": [
    "model = simple_rnn_model()"
   ]
  },
  {
   "cell_type": "code",
   "execution_count": 187,
   "id": "e08037a8",
   "metadata": {},
   "outputs": [
    {
     "name": "stdout",
     "output_type": "stream",
     "text": [
      "Epoch 1/10\n",
      " 293/2510 [==>...........................] - ETA: 40s - loss: 0.8208 - accuracy: 0.5234 - f1_score: 0.4803"
     ]
    },
    {
     "ename": "KeyboardInterrupt",
     "evalue": "",
     "output_type": "error",
     "traceback": [
      "\u001b[1;31m---------------------------------------------------------------------------\u001b[0m",
      "\u001b[1;31mKeyboardInterrupt\u001b[0m                         Traceback (most recent call last)",
      "\u001b[1;32m~\\AppData\\Local\\Temp/ipykernel_10472/2401798641.py\u001b[0m in \u001b[0;36m<module>\u001b[1;34m\u001b[0m\n\u001b[0;32m     13\u001b[0m     \u001b[0mEarlyStopping\u001b[0m\u001b[1;33m(\u001b[0m\u001b[0mmonitor\u001b[0m\u001b[1;33m=\u001b[0m\u001b[1;34m'f1_score'\u001b[0m\u001b[1;33m,\u001b[0m \u001b[0mpatience\u001b[0m\u001b[1;33m=\u001b[0m\u001b[1;36m3\u001b[0m\u001b[1;33m)\u001b[0m\u001b[1;33m\u001b[0m\u001b[1;33m\u001b[0m\u001b[0m\n\u001b[0;32m     14\u001b[0m \u001b[1;33m\u001b[0m\u001b[0m\n\u001b[1;32m---> 15\u001b[1;33m model.fit(X_train_rs, y_train_new, epochs=10, \n\u001b[0m\u001b[0;32m     16\u001b[0m                         \u001b[0mvalidation_split\u001b[0m\u001b[1;33m=\u001b[0m\u001b[1;36m.25\u001b[0m\u001b[1;33m,\u001b[0m\u001b[1;33m\u001b[0m\u001b[1;33m\u001b[0m\u001b[0m\n\u001b[0;32m     17\u001b[0m                         \u001b[0mbatch_size\u001b[0m\u001b[1;33m=\u001b[0m\u001b[1;36m32\u001b[0m\u001b[1;33m,\u001b[0m \u001b[0mverbose\u001b[0m\u001b[1;33m=\u001b[0m\u001b[1;36m1\u001b[0m\u001b[1;33m,\u001b[0m\u001b[1;33m\u001b[0m\u001b[1;33m\u001b[0m\u001b[0m\n",
      "\u001b[1;32m~\\AppData\\Roaming\\Python\\Python38\\site-packages\\tensorflow\\python\\keras\\engine\\training.py\u001b[0m in \u001b[0;36mfit\u001b[1;34m(self, x, y, batch_size, epochs, verbose, callbacks, validation_split, validation_data, shuffle, class_weight, sample_weight, initial_epoch, steps_per_epoch, validation_steps, validation_batch_size, validation_freq, max_queue_size, workers, use_multiprocessing)\u001b[0m\n\u001b[0;32m   1191\u001b[0m                 _r=1):\n\u001b[0;32m   1192\u001b[0m               \u001b[0mcallbacks\u001b[0m\u001b[1;33m.\u001b[0m\u001b[0mon_train_batch_begin\u001b[0m\u001b[1;33m(\u001b[0m\u001b[0mstep\u001b[0m\u001b[1;33m)\u001b[0m\u001b[1;33m\u001b[0m\u001b[1;33m\u001b[0m\u001b[0m\n\u001b[1;32m-> 1193\u001b[1;33m               \u001b[0mtmp_logs\u001b[0m \u001b[1;33m=\u001b[0m \u001b[0mself\u001b[0m\u001b[1;33m.\u001b[0m\u001b[0mtrain_function\u001b[0m\u001b[1;33m(\u001b[0m\u001b[0miterator\u001b[0m\u001b[1;33m)\u001b[0m\u001b[1;33m\u001b[0m\u001b[1;33m\u001b[0m\u001b[0m\n\u001b[0m\u001b[0;32m   1194\u001b[0m               \u001b[1;32mif\u001b[0m \u001b[0mdata_handler\u001b[0m\u001b[1;33m.\u001b[0m\u001b[0mshould_sync\u001b[0m\u001b[1;33m:\u001b[0m\u001b[1;33m\u001b[0m\u001b[1;33m\u001b[0m\u001b[0m\n\u001b[0;32m   1195\u001b[0m                 \u001b[0mcontext\u001b[0m\u001b[1;33m.\u001b[0m\u001b[0masync_wait\u001b[0m\u001b[1;33m(\u001b[0m\u001b[1;33m)\u001b[0m\u001b[1;33m\u001b[0m\u001b[1;33m\u001b[0m\u001b[0m\n",
      "\u001b[1;32m~\\AppData\\Roaming\\Python\\Python38\\site-packages\\tensorflow\\python\\eager\\def_function.py\u001b[0m in \u001b[0;36m__call__\u001b[1;34m(self, *args, **kwds)\u001b[0m\n\u001b[0;32m    883\u001b[0m \u001b[1;33m\u001b[0m\u001b[0m\n\u001b[0;32m    884\u001b[0m       \u001b[1;32mwith\u001b[0m \u001b[0mOptionalXlaContext\u001b[0m\u001b[1;33m(\u001b[0m\u001b[0mself\u001b[0m\u001b[1;33m.\u001b[0m\u001b[0m_jit_compile\u001b[0m\u001b[1;33m)\u001b[0m\u001b[1;33m:\u001b[0m\u001b[1;33m\u001b[0m\u001b[1;33m\u001b[0m\u001b[0m\n\u001b[1;32m--> 885\u001b[1;33m         \u001b[0mresult\u001b[0m \u001b[1;33m=\u001b[0m \u001b[0mself\u001b[0m\u001b[1;33m.\u001b[0m\u001b[0m_call\u001b[0m\u001b[1;33m(\u001b[0m\u001b[1;33m*\u001b[0m\u001b[0margs\u001b[0m\u001b[1;33m,\u001b[0m \u001b[1;33m**\u001b[0m\u001b[0mkwds\u001b[0m\u001b[1;33m)\u001b[0m\u001b[1;33m\u001b[0m\u001b[1;33m\u001b[0m\u001b[0m\n\u001b[0m\u001b[0;32m    886\u001b[0m \u001b[1;33m\u001b[0m\u001b[0m\n\u001b[0;32m    887\u001b[0m       \u001b[0mnew_tracing_count\u001b[0m \u001b[1;33m=\u001b[0m \u001b[0mself\u001b[0m\u001b[1;33m.\u001b[0m\u001b[0mexperimental_get_tracing_count\u001b[0m\u001b[1;33m(\u001b[0m\u001b[1;33m)\u001b[0m\u001b[1;33m\u001b[0m\u001b[1;33m\u001b[0m\u001b[0m\n",
      "\u001b[1;32m~\\AppData\\Roaming\\Python\\Python38\\site-packages\\tensorflow\\python\\eager\\def_function.py\u001b[0m in \u001b[0;36m_call\u001b[1;34m(self, *args, **kwds)\u001b[0m\n\u001b[0;32m    915\u001b[0m       \u001b[1;31m# In this case we have created variables on the first call, so we run the\u001b[0m\u001b[1;33m\u001b[0m\u001b[1;33m\u001b[0m\u001b[1;33m\u001b[0m\u001b[0m\n\u001b[0;32m    916\u001b[0m       \u001b[1;31m# defunned version which is guaranteed to never create variables.\u001b[0m\u001b[1;33m\u001b[0m\u001b[1;33m\u001b[0m\u001b[1;33m\u001b[0m\u001b[0m\n\u001b[1;32m--> 917\u001b[1;33m       \u001b[1;32mreturn\u001b[0m \u001b[0mself\u001b[0m\u001b[1;33m.\u001b[0m\u001b[0m_stateless_fn\u001b[0m\u001b[1;33m(\u001b[0m\u001b[1;33m*\u001b[0m\u001b[0margs\u001b[0m\u001b[1;33m,\u001b[0m \u001b[1;33m**\u001b[0m\u001b[0mkwds\u001b[0m\u001b[1;33m)\u001b[0m  \u001b[1;31m# pylint: disable=not-callable\u001b[0m\u001b[1;33m\u001b[0m\u001b[1;33m\u001b[0m\u001b[0m\n\u001b[0m\u001b[0;32m    918\u001b[0m     \u001b[1;32melif\u001b[0m \u001b[0mself\u001b[0m\u001b[1;33m.\u001b[0m\u001b[0m_stateful_fn\u001b[0m \u001b[1;32mis\u001b[0m \u001b[1;32mnot\u001b[0m \u001b[1;32mNone\u001b[0m\u001b[1;33m:\u001b[0m\u001b[1;33m\u001b[0m\u001b[1;33m\u001b[0m\u001b[0m\n\u001b[0;32m    919\u001b[0m       \u001b[1;31m# Release the lock early so that multiple threads can perform the call\u001b[0m\u001b[1;33m\u001b[0m\u001b[1;33m\u001b[0m\u001b[1;33m\u001b[0m\u001b[0m\n",
      "\u001b[1;32m~\\AppData\\Roaming\\Python\\Python38\\site-packages\\tensorflow\\python\\eager\\function.py\u001b[0m in \u001b[0;36m__call__\u001b[1;34m(self, *args, **kwargs)\u001b[0m\n\u001b[0;32m   3037\u001b[0m       (graph_function,\n\u001b[0;32m   3038\u001b[0m        filtered_flat_args) = self._maybe_define_function(args, kwargs)\n\u001b[1;32m-> 3039\u001b[1;33m     return graph_function._call_flat(\n\u001b[0m\u001b[0;32m   3040\u001b[0m         filtered_flat_args, captured_inputs=graph_function.captured_inputs)  # pylint: disable=protected-access\n\u001b[0;32m   3041\u001b[0m \u001b[1;33m\u001b[0m\u001b[0m\n",
      "\u001b[1;32m~\\AppData\\Roaming\\Python\\Python38\\site-packages\\tensorflow\\python\\eager\\function.py\u001b[0m in \u001b[0;36m_call_flat\u001b[1;34m(self, args, captured_inputs, cancellation_manager)\u001b[0m\n\u001b[0;32m   1961\u001b[0m         and executing_eagerly):\n\u001b[0;32m   1962\u001b[0m       \u001b[1;31m# No tape is watching; skip to running the function.\u001b[0m\u001b[1;33m\u001b[0m\u001b[1;33m\u001b[0m\u001b[1;33m\u001b[0m\u001b[0m\n\u001b[1;32m-> 1963\u001b[1;33m       return self._build_call_outputs(self._inference_function.call(\n\u001b[0m\u001b[0;32m   1964\u001b[0m           ctx, args, cancellation_manager=cancellation_manager))\n\u001b[0;32m   1965\u001b[0m     forward_backward = self._select_forward_and_backward_functions(\n",
      "\u001b[1;32m~\\AppData\\Roaming\\Python\\Python38\\site-packages\\tensorflow\\python\\eager\\function.py\u001b[0m in \u001b[0;36mcall\u001b[1;34m(self, ctx, args, cancellation_manager)\u001b[0m\n\u001b[0;32m    589\u001b[0m       \u001b[1;32mwith\u001b[0m \u001b[0m_InterpolateFunctionError\u001b[0m\u001b[1;33m(\u001b[0m\u001b[0mself\u001b[0m\u001b[1;33m)\u001b[0m\u001b[1;33m:\u001b[0m\u001b[1;33m\u001b[0m\u001b[1;33m\u001b[0m\u001b[0m\n\u001b[0;32m    590\u001b[0m         \u001b[1;32mif\u001b[0m \u001b[0mcancellation_manager\u001b[0m \u001b[1;32mis\u001b[0m \u001b[1;32mNone\u001b[0m\u001b[1;33m:\u001b[0m\u001b[1;33m\u001b[0m\u001b[1;33m\u001b[0m\u001b[0m\n\u001b[1;32m--> 591\u001b[1;33m           outputs = execute.execute(\n\u001b[0m\u001b[0;32m    592\u001b[0m               \u001b[0mstr\u001b[0m\u001b[1;33m(\u001b[0m\u001b[0mself\u001b[0m\u001b[1;33m.\u001b[0m\u001b[0msignature\u001b[0m\u001b[1;33m.\u001b[0m\u001b[0mname\u001b[0m\u001b[1;33m)\u001b[0m\u001b[1;33m,\u001b[0m\u001b[1;33m\u001b[0m\u001b[1;33m\u001b[0m\u001b[0m\n\u001b[0;32m    593\u001b[0m               \u001b[0mnum_outputs\u001b[0m\u001b[1;33m=\u001b[0m\u001b[0mself\u001b[0m\u001b[1;33m.\u001b[0m\u001b[0m_num_outputs\u001b[0m\u001b[1;33m,\u001b[0m\u001b[1;33m\u001b[0m\u001b[1;33m\u001b[0m\u001b[0m\n",
      "\u001b[1;32m~\\AppData\\Roaming\\Python\\Python38\\site-packages\\tensorflow\\python\\eager\\execute.py\u001b[0m in \u001b[0;36mquick_execute\u001b[1;34m(op_name, num_outputs, inputs, attrs, ctx, name)\u001b[0m\n\u001b[0;32m     57\u001b[0m   \u001b[1;32mtry\u001b[0m\u001b[1;33m:\u001b[0m\u001b[1;33m\u001b[0m\u001b[1;33m\u001b[0m\u001b[0m\n\u001b[0;32m     58\u001b[0m     \u001b[0mctx\u001b[0m\u001b[1;33m.\u001b[0m\u001b[0mensure_initialized\u001b[0m\u001b[1;33m(\u001b[0m\u001b[1;33m)\u001b[0m\u001b[1;33m\u001b[0m\u001b[1;33m\u001b[0m\u001b[0m\n\u001b[1;32m---> 59\u001b[1;33m     tensors = pywrap_tfe.TFE_Py_Execute(ctx._handle, device_name, op_name,\n\u001b[0m\u001b[0;32m     60\u001b[0m                                         inputs, attrs, num_outputs)\n\u001b[0;32m     61\u001b[0m   \u001b[1;32mexcept\u001b[0m \u001b[0mcore\u001b[0m\u001b[1;33m.\u001b[0m\u001b[0m_NotOkStatusException\u001b[0m \u001b[1;32mas\u001b[0m \u001b[0me\u001b[0m\u001b[1;33m:\u001b[0m\u001b[1;33m\u001b[0m\u001b[1;33m\u001b[0m\u001b[0m\n",
      "\u001b[1;31mKeyboardInterrupt\u001b[0m: "
     ]
    }
   ],
   "source": [
    "from tensorflow_addons.metrics import F1Score\n",
    "from tensorflow.keras.metrics import Precision, Recall, AUC\n",
    "from tensorflow.keras.losses import BinaryCrossentropy      \n",
    "\n",
    "# https://www.tensorflow.org/text/tutorials/text_classification_rnn\n",
    "\n",
    "# from_logits=True when output values are not [0, 1]\n",
    "model.compile(loss=LOSS,\n",
    "              optimizer=OPTIMISER,\n",
    "              metrics=METRICS)\n",
    "\n",
    "es_callback = tf.keras.callbacks.\\\n",
    "    EarlyStopping(monitor='f1_score', patience=3)\n",
    "\n",
    "model.fit(X_train_rs, y_train_new, epochs=10, \n",
    "                        validation_split=.25,\n",
    "                        batch_size=32, verbose=1,\n",
    "                        callbacks=[es_callback])\n"
   ]
  },
  {
   "cell_type": "code",
   "execution_count": 195,
   "id": "dbbac1e8",
   "metadata": {},
   "outputs": [
    {
     "data": {
      "text/plain": [
       "<matplotlib.collections.PathCollection at 0x1db3f7cef10>"
      ]
     },
     "execution_count": 195,
     "metadata": {},
     "output_type": "execute_result"
    },
    {
     "data": {
      "image/png": "[encoded data removed]",
      "text/plain": [
       "<Figure size 432x288 with 1 Axes>"
      ]
     },
     "metadata": {
      "needs_background": "light"
     },
     "output_type": "display_data"
    }
   ],
   "source": [
    "plt.scatter(range(20),y_train[:20], c='g')\n",
    "plt.scatter(range(20),y_test[:20], c='r')"
   ]
  },
  {
   "cell_type": "code",
   "execution_count": 110,
   "id": "4e879bd6",
   "metadata": {},
   "outputs": [
    {
     "ename": "NameError",
     "evalue": "name 'pyplot' is not defined",
     "output_type": "error",
     "traceback": [
      "\u001b[1;31m---------------------------------------------------------------------------\u001b[0m",
      "\u001b[1;31mNameError\u001b[0m                                 Traceback (most recent call last)",
      "\u001b[1;32m~\\AppData\\Local\\Temp/ipykernel_10472/3219398863.py\u001b[0m in \u001b[0;36m<module>\u001b[1;34m\u001b[0m\n\u001b[0;32m      1\u001b[0m \u001b[1;31m# plot loss during training\u001b[0m\u001b[1;33m\u001b[0m\u001b[1;33m\u001b[0m\u001b[1;33m\u001b[0m\u001b[0m\n\u001b[1;32m----> 2\u001b[1;33m \u001b[0mpyplot\u001b[0m\u001b[1;33m.\u001b[0m\u001b[0msubplot\u001b[0m\u001b[1;33m(\u001b[0m\u001b[1;36m211\u001b[0m\u001b[1;33m)\u001b[0m\u001b[1;33m\u001b[0m\u001b[1;33m\u001b[0m\u001b[0m\n\u001b[0m\u001b[0;32m      3\u001b[0m \u001b[0mpyplot\u001b[0m\u001b[1;33m.\u001b[0m\u001b[0mtitle\u001b[0m\u001b[1;33m(\u001b[0m\u001b[1;34m'Loss'\u001b[0m\u001b[1;33m)\u001b[0m\u001b[1;33m\u001b[0m\u001b[1;33m\u001b[0m\u001b[0m\n\u001b[0;32m      4\u001b[0m \u001b[0mpyplot\u001b[0m\u001b[1;33m.\u001b[0m\u001b[0mplot\u001b[0m\u001b[1;33m(\u001b[0m\u001b[0mhistory\u001b[0m\u001b[1;33m.\u001b[0m\u001b[0mhistory\u001b[0m\u001b[1;33m[\u001b[0m\u001b[1;34m'loss'\u001b[0m\u001b[1;33m]\u001b[0m\u001b[1;33m,\u001b[0m \u001b[0mlabel\u001b[0m\u001b[1;33m=\u001b[0m\u001b[1;34m'train'\u001b[0m\u001b[1;33m)\u001b[0m\u001b[1;33m\u001b[0m\u001b[1;33m\u001b[0m\u001b[0m\n\u001b[0;32m      5\u001b[0m \u001b[0mpyplot\u001b[0m\u001b[1;33m.\u001b[0m\u001b[0mplot\u001b[0m\u001b[1;33m(\u001b[0m\u001b[0mhistory\u001b[0m\u001b[1;33m.\u001b[0m\u001b[0mhistory\u001b[0m\u001b[1;33m[\u001b[0m\u001b[1;34m'val_loss'\u001b[0m\u001b[1;33m]\u001b[0m\u001b[1;33m,\u001b[0m \u001b[0mlabel\u001b[0m\u001b[1;33m=\u001b[0m\u001b[1;34m'test'\u001b[0m\u001b[1;33m)\u001b[0m\u001b[1;33m\u001b[0m\u001b[1;33m\u001b[0m\u001b[0m\n",
      "\u001b[1;31mNameError\u001b[0m: name 'pyplot' is not defined"
     ]
    }
   ],
   "source": [
    "# plot loss during training\n",
    "pyplot.subplot(211)\n",
    "pyplot.title('Loss')\n",
    "pyplot.plot(history.history['loss'], label='train')\n",
    "pyplot.plot(history.history['val_loss'], label='test')\n",
    "pyplot.legend()\n",
    "# plot accuracy during training\n",
    "pyplot.subplot(212)\n",
    "pyplot.title('Accuracy')\n",
    "pyplot.plot(history.history['accuracy'], label='train')\n",
    "pyplot.plot(history.history['val_accuracy'], label='test')\n",
    "pyplot.legend()\n",
    "pyplot.show()"
   ]
  },
  {
   "cell_type": "markdown",
   "id": "38d16c21",
   "metadata": {},
   "source": [
    "https://www.pluralsight.com/guides/deep-learning-model-perform-binary-classification\n",
    "\n",
    "- The above code compiles the network. It uses Adam, a momentum-based optimizer. The loss function used is binary_crossentropy. \n",
    "\n",
    "\n",
    "- For binary classification problems that give output in the form of probability, binary_crossentropy is usually the optimizer of choice. \n",
    "\n",
    "\n",
    "- mean_squared_error may also be used instead of binary_crossentropy as well. Metrics used is accuracy. \n",
    "\n",
    "\n",
    "- The model is trained for 50 epochs with a batch size of 1. Finally, the trained model was evaluated for the test set to check the accuracy.\n",
    "\n",
    "\n",
    "If your problem is a binary classification problem, then the output will be class values 0 and 1. This is best modeled with a sigmoid activation function on the output layer. "
   ]
  },
  {
   "cell_type": "markdown",
   "id": "89f708fc",
   "metadata": {},
   "source": [
    "FINAL\n",
    "\n",
    "Did not consider Keras Tuner + Cross-validation due to time constraints but left for future work. It would be painfully slow to train a single RNN model.\n",
    "\n",
    "try different scaling"
   ]
  }
 ],
 "metadata": {
  "kernelspec": {
   "display_name": "GPU",
   "language": "python",
   "name": "gpu"
  },
  "language_info": {
   "codemirror_mode": {
    "name": "ipython",
    "version": 3
   },
   "file_extension": ".py",
   "mimetype": "text/x-python",
   "name": "python",
   "nbconvert_exporter": "python",
   "pygments_lexer": "ipython3",
   "version": "3.8.7"
  }
 },
 "nbformat": 4,
 "nbformat_minor": 5
}
