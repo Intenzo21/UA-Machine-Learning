{
 "cells": [
  {
   "cell_type": "markdown",
   "id": "worse-welding",
   "metadata": {
    "id": "worse-welding"
   },
   "source": [
    "# Task 2: Deep Learning Regression Models and K-Fold Validation\n",
    "\n",
    "**Note**: I have run the code on a local machine GPU due to limited resources provided by the Google Colab platform. Therefore, you might get different results than mine even though the reproducibility measures applied below. That's just how GPUs work...\n",
    "\n",
    "To begin with, we provide a walkthrough on how to replicate the task on Google Colab. First, we need to extract the soybean dataset from the ZIP file (download from MyAberdeen). Therefore, we first mount our drive:"
   ]
  },
  {
   "cell_type": "code",
   "execution_count": 1,
   "id": "W1b50T6RwUp1",
   "metadata": {
    "colab": {
     "base_uri": "https://localhost:8080/",
     "height": 221
    },
    "executionInfo": {
     "elapsed": 196,
     "status": "error",
     "timestamp": 1635958507876,
     "user": {
      "displayName": "Casp3r",
      "photoUrl": "https://lh3.googleusercontent.com/a/default-user=s64",
      "userId": "17722606493291528264"
     },
     "user_tz": 0
    },
    "id": "W1b50T6RwUp1",
    "outputId": "e3e82998-c749-4944-c809-e1cf6b9bfcec"
   },
   "outputs": [],
   "source": [
    "from google.colab import drive\n",
    "drive.mount('/content/drive')"
   ]
  },
  {
   "cell_type": "markdown",
   "id": "lUM3PgdkEYNq",
   "metadata": {
    "id": "lUM3PgdkEYNq"
   },
   "source": [
    "\n",
    "Then, we upload the dataset ZIP file to our google drive and execute:\n",
    "\n",
    "    !unzip your_drive_path_to_soybean_images.zip -d './data/' \n",
    "\n",
    "where *your_drive_path_to_soybean_images.zip* should be replaced by the actual path of the dataset ZIP file on your drive.\n",
    "\n",
    "Alternatively, we can place the dataset zip file in the current directory and execute (tested in colab):\n",
    "\n",
    "    !unzip 'soybean_images.zip' -d './data/' \n",
    "\n",
    "Below is the location of the dataset ZIP file on my Google Drive. This will differ in your case, so please adjust as needed.\n",
    "\n"
   ]
  },
  {
   "cell_type": "code",
   "execution_count": 1,
   "id": "ANVyR_zbChB_",
   "metadata": {
    "colab": {
     "base_uri": "https://localhost:8080/"
    },
    "executionInfo": {
     "elapsed": 113,
     "status": "ok",
     "timestamp": 1635958498872,
     "user": {
      "displayName": "Casp3r",
      "photoUrl": "https://lh3.googleusercontent.com/a/default-user=s64",
      "userId": "17722606493291528264"
     },
     "user_tz": 0
    },
    "id": "ANVyR_zbChB_",
    "outputId": "b0823b9f-c962-49e5-fc80-8d357b1f4433"
   },
   "outputs": [],
   "source": [
    "!unzip -q '/content/drive/MyDrive/Colab Notebooks/Assessment_1/data/soybean_images.zip' -d './data/'"
   ]
  },
  {
   "cell_type": "markdown",
   "id": "6-1htWLbt2y5",
   "metadata": {
    "id": "6-1htWLbt2y5"
   },
   "source": [
    "\n",
    "### Setting a Fixed Seed Value for the Random Number Generator and Importing Libraries\n",
    "\n",
    "Randomness is in the nature of neural networks which employ it to ensure a better performance on a specific task. However, we need to seed the random number generator to get reproducible results when training and comparing models. \n",
    "\n",
    "*Note that randomness might still occur such as the random initialisation of model weights when constructing a model. Thus, the output results might differ each time the script is run (generally on GPU). We put great deal of effort into making the script results as repeatable as possible.*\n",
    "\n",
    "- First, we install the new Tensorflow determinism package allowing reproducibility on GPUs.\n",
    "\n",
    "\n",
    "- Then, we seed the random number generators and import the required packages for model development and visualisation (i.e tensorflow, keras, matplotlib)."
   ]
  },
  {
   "cell_type": "code",
   "execution_count": null,
   "id": "w2RNnMLKVPgq",
   "metadata": {
    "colab": {
     "base_uri": "https://localhost:8080/"
    },
    "executionInfo": {
     "elapsed": 5091,
     "status": "ok",
     "timestamp": 1635957099626,
     "user": {
      "displayName": "Casp3r",
      "photoUrl": "https://lh3.googleusercontent.com/a/default-user=s64",
      "userId": "17722606493291528264"
     },
     "user_tz": 0
    },
    "id": "w2RNnMLKVPgq",
    "outputId": "04d10e53-aa04-4065-b833-91bc047eead2"
   },
   "outputs": [],
   "source": [
    "# Install the determinism package of Tensorflow\n",
    "# If the program throws attribute error the simply\n",
    "# uninstall the Keras package (since tensorflow already\n",
    "# provides it)\n",
    "!pip install tensorflow-determinism"
   ]
  },
  {
   "cell_type": "code",
   "execution_count": 1,
   "id": "comparable-minutes",
   "metadata": {
    "colab": {
     "base_uri": "https://localhost:8080/",
     "height": 238
    },
    "executionInfo": {
     "elapsed": 359,
     "status": "error",
     "timestamp": 1635958648060,
     "user": {
      "displayName": "Casp3r",
      "photoUrl": "https://lh3.googleusercontent.com/a/default-user=s64",
      "userId": "17722606493291528264"
     },
     "user_tz": 0
    },
    "id": "comparable-minutes",
    "outputId": "16bf1366-16b1-4dea-dc69-94448726ab74"
   },
   "outputs": [],
   "source": [
    "# Seed value used for achieving reproducibility\n",
    "SEED_VALUE = 1337\n",
    "\n",
    "# 1. Set the `PYTHONHASHSEED` environment variable at a fixed value\n",
    "import os\n",
    "os.environ['TF_DETERMINISTIC_OPS'] = '1'\n",
    "os.environ['TF_CUDNN_DETERMINISM'] = '1'\n",
    "os.environ['PYTHONHASHSEED'] = str(SEED_VALUE)\n",
    "\n",
    "# 2. Set the `python` built-in pseudo-random generator at a fixed value\n",
    "import random\n",
    "random.seed(SEED_VALUE)\n",
    "\n",
    "# 3. Set the `numpy` pseudo-random generator at a fixed value\n",
    "import numpy as np\n",
    "np.random.seed(SEED_VALUE)\n",
    "\n",
    "# 4. Set the `tensorflow` pseudo-random generator at a fixed value\n",
    "import tensorflow as tf\n",
    "tf.random.set_seed(SEED_VALUE)\n",
    "\n",
    "# Import the Keras backend used for freeing the global state\n",
    "# to avoid clutter\n",
    "from tensorflow.keras import backend as K\n",
    "\n",
    "# Import the necessary packages used for training and evaluation \n",
    "# of our model later on\n",
    "import numpy as np\n",
    "import pandas as pd\n",
    "from sklearn.model_selection import train_test_split\n",
    "from tensorflow.keras import datasets, layers, models, optimizers\n",
    "import matplotlib.pyplot as plt\n",
    "%matplotlib inline"
   ]
  },
  {
   "cell_type": "markdown",
   "id": "basic-miniature",
   "metadata": {
    "id": "basic-miniature"
   },
   "source": [
    "## Subtask a. Data Import / Pre-Processing"
   ]
  },
  {
   "cell_type": "markdown",
   "id": "simple-given",
   "metadata": {
    "id": "simple-given"
   },
   "source": [
    "### Importing the Data\n",
    "\n",
    "We load the NPZ-formatted data from our data folder using the `numpy.load()` function. We divide each loaded sample to a histogram image and its corresponding average crop yield value. Then we add these in the `image` and `labels` lists correspondingly. Finally, we convert the Python lists into NumPy arrays since they provide better functionality and are generally more efficient."
   ]
  },
  {
   "cell_type": "code",
   "execution_count": 2,
   "id": "final-first",
   "metadata": {
    "colab": {
     "base_uri": "https://localhost:8080/",
     "height": 238
    },
    "executionInfo": {
     "elapsed": 196,
     "status": "error",
     "timestamp": 1635958643213,
     "user": {
      "displayName": "Casp3r",
      "photoUrl": "https://lh3.googleusercontent.com/a/default-user=s64",
      "userId": "17722606493291528264"
     },
     "user_tz": 0
    },
    "id": "final-first",
    "outputId": "73e9b507-d74b-431b-bc75-0f350d2484c2"
   },
   "outputs": [],
   "source": [
    "# The 'soybean_images' dataset path on our working directory\n",
    "data_dir = './data/soybean_images/'\n",
    "\n",
    "# Lists to store the histogram images \n",
    "# and their corresponding labels\n",
    "images = []\n",
    "labels = []\n",
    "\n",
    "# Load the data\n",
    "for f in os.listdir(data_dir):\n",
    "    sample = np.load(data_dir + str(f))\n",
    "    images.append(sample['image'])\n",
    "    labels.append(sample['y'])\n",
    "\n",
    "# Convert the lists to NumPy arrays\n",
    "images = np.array(images)\n",
    "labels = np.array(labels)"
   ]
  },
  {
   "cell_type": "markdown",
   "id": "differential-spray",
   "metadata": {
    "id": "differential-spray"
   },
   "source": [
    "### Data Pre-Processing\n",
    "\n",
    "Let's first see some description of our data."
   ]
  },
  {
   "cell_type": "code",
   "execution_count": 3,
   "id": "ideal-motion",
   "metadata": {
    "colab": {
     "base_uri": "https://localhost:8080/"
    },
    "executionInfo": {
     "elapsed": 636,
     "status": "ok",
     "timestamp": 1635957151538,
     "user": {
      "displayName": "Casp3r",
      "photoUrl": "https://lh3.googleusercontent.com/a/default-user=s64",
      "userId": "17722606493291528264"
     },
     "user_tz": 0
    },
    "id": "ideal-motion",
    "outputId": "6a0ae884-0bfa-432c-86da-d350d9f6a4af"
   },
   "outputs": [
    {
     "name": "stdout",
     "output_type": "stream",
     "text": [
      "\u001b[1mHistogram image data\u001b[0m: \n",
      "\n",
      "    Shape: (22986, 9, 32, 32)\n",
      "    Min pixel value: 0.0\n",
      "    Max pixel value: 1.0\n",
      "\n",
      "\u001b[1mLabels data\u001b[0m: \n",
      "\n",
      "    Shape: (22986,)\n",
      "    Min value: 0.7\n",
      "    Max value: 82.3\n",
      "\n"
     ]
    }
   ],
   "source": [
    "# Print some data info\n",
    "print('\\033[1mHistogram image data\\033[0m: \\n')\n",
    "print(f'    Shape: {images.shape}')\n",
    "print(f'    Min pixel value: {np.min(images)}')\n",
    "print(f'    Max pixel value: {np.max(images)}\\n')\n",
    "\n",
    "print('\\033[1mLabels data\\033[0m: \\n')\n",
    "print(f'    Shape: {labels.shape}')\n",
    "print(f'    Min value: {np.min(labels)}')\n",
    "print(f'    Max value: {np.max(labels)}\\n')"
   ]
  },
  {
   "cell_type": "markdown",
   "id": "known-height",
   "metadata": {
    "id": "known-height"
   },
   "source": [
    "Normally, we would like to normalise/standardise our training data. With images, this is carried out by scaling the pixel values to a certain range. Pixel scaling provides:\n",
    "\n",
    "- **Image impartiality**: scaling data images to a range (i.e. `[0,1]` or `[-1,1]`) enables all photos to contribute equally to the overall loss, as opposed to when other images have high and low pixel ranges, resulting in strong and weak loss, respectively. \n",
    "\n",
    "\n",
    "- **Uniform learning rate**: re-scaling helps offer a standard learning rate for all images since high pixel values require a low learning rate whereas low pixel values demand a high learning rate. \n",
    "\n",
    "\n",
    "Above, we can see that our image pixels are already in the `[0,1]` range, therefore pixel scaling is not necessary. Also, we do not want to alter out target values (labels) since it is an unnecessary step that can potentially obscure the interpretation of our results. This is, we would essentially be predicting a distribution that does not represent our real-world target (at least without some reverse non-linear transforms later on).\n",
    "\n",
    "## Splitting to Train-Test Data\n",
    "\n",
    "The optimal split depends on the amount of available data and the bias/variance characteristics. \n",
    "\n",
    "- Less training data equals greater parameter estimate variance\n",
    "\n",
    "\n",
    "- Less testing data causes a greater variance in performance statistics.\n",
    "\n",
    "As we saw previously our data consists of roughly 23000 data instances (images) which is a decent amount. When there is a substantial amount of data available it does not really matter if we pick 80:20 or 90:10 split. Since we want to cover the variance of our data and we expect a computationally intensive training procedure, we pick the 80:20 split ratio. This split ratio is probably the most commonly occuring one and is usually a safe bet when one is unsure about what ratio to pick. "
   ]
  },
  {
   "cell_type": "code",
   "execution_count": 304,
   "id": "packed-humidity",
   "metadata": {
    "colab": {
     "base_uri": "https://localhost:8080/"
    },
    "executionInfo": {
     "elapsed": 386,
     "status": "ok",
     "timestamp": 1635957167197,
     "user": {
      "displayName": "Casp3r",
      "photoUrl": "https://lh3.googleusercontent.com/a/default-user=s64",
      "userId": "17722606493291528264"
     },
     "user_tz": 0
    },
    "id": "packed-humidity",
    "outputId": "57ea1f90-63ae-4123-a0e3-eeb30a87a080"
   },
   "outputs": [],
   "source": [
    "# Shuffle and split the data into a train set (80%) and \n",
    "# a separate holdout test set (20%)\n",
    "X_train, X_test, y_train, y_test \\\n",
    "    = train_test_split(images, labels, test_size=0.2, \\\n",
    "                       shuffle=True, random_state=1337)"
   ]
  },
  {
   "cell_type": "markdown",
   "id": "4b22afd4",
   "metadata": {
    "colab": {
     "base_uri": "https://localhost:8080/"
    },
    "executionInfo": {
     "elapsed": 215,
     "status": "ok",
     "timestamp": 1635957170534,
     "user": {
      "displayName": "Casp3r",
      "photoUrl": "https://lh3.googleusercontent.com/a/default-user=s64",
      "userId": "17722606493291528264"
     },
     "user_tz": 0
    },
    "id": "leading-extreme",
    "outputId": "0d0582d3-9eb9-4601-d4c5-fbbe97f14d0d"
   },
   "source": [
    "Below, we visualise a small part of the data images to get a better understanding."
   ]
  },
  {
   "cell_type": "code",
   "execution_count": 6,
   "id": "rubber-premises",
   "metadata": {
    "colab": {
     "base_uri": "https://localhost:8080/",
     "height": 256
    },
    "executionInfo": {
     "elapsed": 1323,
     "status": "ok",
     "timestamp": 1635957175541,
     "user": {
      "displayName": "Casp3r",
      "photoUrl": "https://lh3.googleusercontent.com/a/default-user=s64",
      "userId": "17722606493291528264"
     },
     "user_tz": 0
    },
    "id": "rubber-premises",
    "outputId": "78ef02d6-439a-4225-86bf-9559fba72403"
   },
   "outputs": [
    {
     "data": {
      "image/png": "[encoded data removed]",
      "text/plain": [
       "<Figure size 720x720 with 9 Axes>"
      ]
     },
     "metadata": {
      "needs_background": "light"
     },
     "output_type": "display_data"
    }
   ],
   "source": [
    "# Plot some of the soybean dataset images\n",
    "# to visualise our input\n",
    "plt.figure(figsize=(10,10))\n",
    "for i in range(9):\n",
    "    plt.subplot(5,5,i+1)\n",
    "    plt.imshow(X_train[10000][i].T)\n",
    "plt.show()"
   ]
  },
  {
   "cell_type": "markdown",
   "id": "refined-vancouver",
   "metadata": {
    "id": "refined-vancouver"
   },
   "source": [
    "### Input Data Reshaping \n",
    "\n",
    "Below we define the input shape or the data (image) format so that it is handled properly by our model. \n",
    "\n",
    "- Since the histogram images are 32 x 32 pixels and infrared 9 channels (as seen previously), we define our input shape as the `(32, 32, 9)` 3-tuple. Here, each value represents the image width, the height and number of channels respectively. \n",
    "\n",
    "\n",
    "- Then, we also reshape our input data (the feature vectors) using the already defined input shape. This is because, our neural network models demand this specific input shape for our images to be handled correctly.\n",
    "\n",
    "\n",
    "- Also, convert the image pixel data type to `float32` to save memory space and boost runtime performance."
   ]
  },
  {
   "cell_type": "code",
   "execution_count": 7,
   "id": "creative-slovakia",
   "metadata": {
    "executionInfo": {
     "elapsed": 543,
     "status": "ok",
     "timestamp": 1635957184149,
     "user": {
      "displayName": "Casp3r",
      "photoUrl": "https://lh3.googleusercontent.com/a/default-user=s64",
      "userId": "17722606493291528264"
     },
     "user_tz": 0
    },
    "id": "creative-slovakia"
   },
   "outputs": [],
   "source": [
    "# Define the input shape (image height, image width, channels)\n",
    "input_shape = 32, 32, 9 \n",
    "\n",
    "# Reshape the train and test features data\n",
    "X_train_rs = X_train.reshape(X_train.shape[0], *input_shape)\n",
    "X_test_rs = X_test.reshape(X_test.shape[0], *input_shape)\n",
    "\n",
    "# Parse numbers as floats\n",
    "X_train_32 = X_train_rs.astype('float32')\n",
    "X_test_32 = X_test_rs.astype('float32')"
   ]
  },
  {
   "cell_type": "markdown",
   "id": "ieTk-vyTLLER",
   "metadata": {
    "id": "ieTk-vyTLLER"
   },
   "source": [
    "We show the new data shapes and type."
   ]
  },
  {
   "cell_type": "code",
   "execution_count": 8,
   "id": "amino-powder",
   "metadata": {
    "colab": {
     "base_uri": "https://localhost:8080/"
    },
    "executionInfo": {
     "elapsed": 6,
     "status": "ok",
     "timestamp": 1635957185876,
     "user": {
      "displayName": "Casp3r",
      "photoUrl": "https://lh3.googleusercontent.com/a/default-user=s64",
      "userId": "17722606493291528264"
     },
     "user_tz": 0
    },
    "id": "amino-powder",
    "outputId": "118e6770-8af1-4ecd-b8ca-d1bc7afdee48"
   },
   "outputs": [
    {
     "name": "stdout",
     "output_type": "stream",
     "text": [
      "(18388, 32, 32, 9) float32\n",
      "(4598, 32, 32, 9)\n",
      "(32, 32, 9)\n"
     ]
    }
   ],
   "source": [
    "# Print the new data shapes and type\n",
    "print(X_train_rs.shape, X_train_32.dtype)\n",
    "print(X_test_rs.shape)\n",
    "print(input_shape)"
   ]
  },
  {
   "cell_type": "markdown",
   "id": "91c3aa95",
   "metadata": {},
   "source": [
    "### Defining a Reset Seed Function (for reproducibility)"
   ]
  },
  {
   "cell_type": "code",
   "execution_count": 10,
   "id": "ecaf02f7",
   "metadata": {},
   "outputs": [],
   "source": [
    "# Import the garbage collector package\n",
    "import gc\n",
    "\n",
    "def reset_random_seeds():\n",
    "    \"\"\"Reset the random number generator seed to achieve full reproducibility \n",
    "    even when running the script on GPU\n",
    "    \"\"\"\n",
    "    # Release the global state to avoid clutter\n",
    "    # when creating models (in loops etc.)\n",
    "    K.clear_session()\n",
    "    \n",
    "    # Reset the Tensorflow graph\n",
    "    tf.compat.v1.reset_default_graph()\n",
    "    \n",
    "    # Set the environment determinism to guarantee\n",
    "    # reproducibility of the results\n",
    "    os.environ['TF_DETERMINISTIC_OPS'] = '1'\n",
    "    os.environ['TF_CUDNN_DETERMINISM'] = '1'\n",
    "    os.environ['PYTHONHASHSEED']=str(SEED_VALUE)\n",
    "    tf.random.set_seed(SEED_VALUE)\n",
    "    np.random.seed(SEED_VALUE)\n",
    "    random.seed(SEED_VALUE)\n",
    "    \n",
    "    # Perform garbage collection\n",
    "    gc.collect()\n",
    "    print(\"Random number generator seed reset!\")  # optional"
   ]
  },
  {
   "cell_type": "markdown",
   "id": "opposed-discovery",
   "metadata": {
    "id": "opposed-discovery"
   },
   "source": [
    "### Developing our Baseline Models\n",
    "\n",
    "In this section we go over our `CNN` and `MLP` baseline models. These will serve as the foundational models for further tuning and improvement. By adopting them, we set a minimum reference model performances for later comparison.\n",
    "\n",
    "\n",
    "While developing the neural networks, we can draw inspiration from classic networks such as LeNet, AlexNet, and VGG. We can follow a certain structure when putting the network layers together. For instance, alternating convolutional and pooling layers (`Conv2D-MaxPool2D-Conv2D-...`) and/or filter sizes (`32–32-64–64-...`) etc."
   ]
  },
  {
   "cell_type": "markdown",
   "id": "formal-illinois",
   "metadata": {
    "id": "formal-illinois"
   },
   "source": [
    "### Importing Model Dependencies\n",
    "\n",
    "Before training commences we first need to import the dependencies that we require later on:"
   ]
  },
  {
   "cell_type": "code",
   "execution_count": 9,
   "id": "available-leone",
   "metadata": {
    "executionInfo": {
     "elapsed": 218,
     "status": "ok",
     "timestamp": 1635957203282,
     "user": {
      "displayName": "Casp3r",
      "photoUrl": "https://lh3.googleusercontent.com/a/default-user=s64",
      "userId": "17722606493291528264"
     },
     "user_tz": 0
    },
    "id": "available-leone"
   },
   "outputs": [],
   "source": [
    "# Import the Keras layer used for building our models\n",
    "from tensorflow.keras import Sequential\n",
    "from tensorflow.keras.layers import Dense, Flatten, Conv2D,\\\n",
    "MaxPool2D, Dropout, BatchNormalization"
   ]
  },
  {
   "cell_type": "markdown",
   "id": "graphic-specification",
   "metadata": {
    "id": "graphic-specification"
   },
   "source": [
    "#### The CNN Architecture\n",
    "\n",
    "The basic principle followed in building a convolutional neural network is to ‘keep the feature space wide and shallow in the initial stages of the network, and the make it narrower and deeper towards the end.’\n",
    "\n",
    "The intuition behind our models are as follows:\n",
    "\n",
    "- `CNN` &ndash; we define a simplified VGG-style architecture which mimics the one proposed in <a href=\"https://arxiv.org/pdf/1409.1556.pdf\">this paper</a>. Using the Keras `Sequential` API, we construct the `CNN` as a stack of 2 `Conv2D` 32 and 64-filtered layers with small 3 x 3 kernels. Each convolutional layer is followed by a `BatchNormalization` layer (detailed later) and a `MaxPool2D` layer with a 2 x 2 pool size. The goal of the max pooling layer is to down-sample the input data (image, output matrix etc.) by taking the max value of the sub-regions in the data, thus, reducing its dimensionality. This significantly decreases the memory demands of the model while preserving its performance almost completely. To reduce overfitting, we also introduce `Dropout` layers into our `Sequential CNN` model after each of the `MaxPool2D` layers. We initialise the dropout rate to 0.25 which means that 25% of the layer inputs will be dropped out (discarded/converted to 0). Additionally, the `CNN's` initial layers (`Conv2D` and `MaxPool2D`) have multidimensional tensors as outputs. Consequently, if we want to use a `Dense` (fully-connected) layer after the initial part we would need to 'unstack' the multidimensional outputs into long 1D tensors. To accomplish this, we place a Keras `Flatten` layer right before the first `Dense` layer of our `CNN` just for that purpose. Also, there is another `BatchNormalization` layer in-between the `Dense` layers.\n",
    "\n",
    "<center>\n",
    "<br>\n",
    "<figure>\n",
    "<img src=\"https://drive.google.com/uc?id=1Gez1vuZp2UiWpfJFwSyDmO8Oxm2obEMK\" width=\"250\">\n",
    "<br>\n",
    "<figcaption style=\"text-align:center\"><b>Fig. 1.</b> Baseline CNN architecture.</figcaption>\n",
    "</figure>\n",
    "<br>\n",
    "</center>\n",
    "\n",
    "Considering `CNNs`, it is recommended to begin with smaller filter sizes for better local information capturing. That is, to enable the model to detect low-level features used in forming complex shapes later on. As we go deeper we gradually increase the filter size which reduces the resulting feature space to reflect higher-level information. Moreover, deepening and narrowing the feature space allows the input to be fed into a `Dense` layer. \n",
    "\n",
    "\n",
    "- Activation function &ndash; We adopt the `ReLU` activation function to achieve nonlinearity. It is recommended as the default for both `MLP` and `CNNs`. It is preferred over `tanh` and `sigmoid` activation functions due to its trivial implementation (requires only a `max()` function), representational sparsity (outputs a true zero value), linear function characteristics (easier to optimise) and enables proper deep neural network training.\n",
    "\n",
    "\n",
    "- Batch normalisation &ndash; intermediate layers are capable of amending the already normalised input before it gets to the deeper layers of the neural network. This might cause an internal co-variate shift that can influence the model learning. A solution to this problem is adding the `BatchNormalization` layer which standardises (centers the mean and scales the variance) the input passed to the inner layers. This layer is generally placed after the activation function output but before the `Dropout` layer (if any). The <a href=\"https://arxiv.org/abs/1502.03167\">original paper</a> that introduces the technique suggests otherwise. Nevertheless, there are reported <a href=\"https://github.com/ducha-aiki/caffenet-benchmark/blob/master/batchnorm.md\">practical experiments</a> suggesting that the application of the `BatchNormalization` layer after the activation function yields better results. This seems rather reasonable since feeding the batch-normalised output to an activation layer would lead to its alteration and would nullify the conducted normalisation. Hence, we put the `BatchNormalization` layer after the activation function in our `CNN` and `MLP` networks."
   ]
  },
  {
   "cell_type": "code",
   "execution_count": 12,
   "id": "normal-spanish",
   "metadata": {
    "executionInfo": {
     "elapsed": 5,
     "status": "ok",
     "timestamp": 1635957295566,
     "user": {
      "displayName": "Casp3r",
      "photoUrl": "https://lh3.googleusercontent.com/a/default-user=s64",
      "userId": "17722606493291528264"
     },
     "user_tz": 0
    },
    "id": "normal-spanish"
   },
   "outputs": [],
   "source": [
    "def cnn_model(filters_1=32, filters_2=64, units=256):\n",
    "    \"\"\"Define and return the CNN model architecture\n",
    "    \"\"\"\n",
    "    # Ensure reproducibility of the results\n",
    "    reset_random_seeds()\n",
    "\n",
    "    # Build the model\n",
    "    model = Sequential()\n",
    "    model.add(Conv2D(filters_1, kernel_size=(3, 3), activation='relu', input_shape=input_shape))\n",
    "    model.add(BatchNormalization())\n",
    "    model.add(MaxPool2D(pool_size=(2, 2)))\n",
    "    model.add(Dropout(0.25))\n",
    "    \n",
    "    model.add(Conv2D(filters_2, kernel_size=(3, 3), activation='relu'))\n",
    "    model.add(BatchNormalization())\n",
    "    model.add(MaxPool2D(pool_size=(2, 2)))\n",
    "    model.add(Dropout(0.25))\n",
    "    \n",
    "    model.add(Flatten())\n",
    "    model.add(Dense(units, activation='relu'))\n",
    "    model.add(BatchNormalization())\n",
    "    model.add(Dense(1))\n",
    "    \n",
    "    return model"
   ]
  },
  {
   "cell_type": "markdown",
   "id": "amino-element",
   "metadata": {
    "id": "amino-element"
   },
   "source": [
    "#### The MLP Architecture\n",
    "\n",
    "The `MLP` architectures is not as complex as the `CNN` one; rather, it’s simply a stack of so-called densely-connected ones. That means that an arbitrary neuron is connected to all neurons in the subsequent layer. We draw inspiration from <a href=\"https://www.sciencedirect.com/science/article/pii/S2352484720314505\">this paper</a>.\n",
    "\n",
    "\n",
    "As discussed before, the Keras Sequential API is used for creating the model. To construct our baseline `MLP` model we use 1 input `Flatten` layer and 3 hidden `Dense` layers. Also, the first 2 hidden layers are followed by a `Dropout` layer with `rate=0.25` to decrease overfitting:\n",
    "\n",
    "\n",
    "- `Flatten()` &ndash; we pass the input tensor through a flattening layer first. The `Flatten` Keras layer 'flattens' or reshapes the input data into a 1D array. This means that all of the dimensions are removed except for one (reshaped/squished into 1).\n",
    "\n",
    "\n",
    "- `Dense(64)` &ndash; we define the first fully-connected layer with 64 outputs\n",
    "\n",
    "\n",
    "- `Dropout(0.25)` &ndash; a dropout layer with 25% drop rate\n",
    "\n",
    "\n",
    "- `Dense(32)` &ndash; second fully-connected layer with 32 outputs\n",
    "\n",
    "\n",
    "- `Dropout(0.25)` &ndash; a dropout layer with 25% drop rate\n",
    "\n",
    "\n",
    "- `Dense(1)` &ndash; a single output for the final layer since we are dealing with a crop yield prediction regression problem.\n",
    "\n",
    "<center>\n",
    "<br>\n",
    "<figure>\n",
    "<img src=\"https://drive.google.com/uc?id=1QIXvmPfqpYhhGsLnGRkpODJSMp5x7KuD\" width=\"175\">\n",
    "<br>\n",
    "<figcaption style=\"text-align:center\"><b>Fig. 2.</b> Baseline MLP architecture.</figcaption>\n",
    "</figure>\n",
    "<br>\n",
    "</center>\n",
    "\n",
    "The final `Dense` layer has 1 output neuron and activates linearly (no function specified). Using the linear function allows us to generate a real-valued or numeric prediction, which is exactly what we need. That is, we do not want to change in any way our prediction output which non-linear activation functions in the last layer might cause.\n",
    "\n",
    "Starting with a wider fully-connected layer in our architecture, we consider greater number of features before converging to the actual prediction.\n",
    "\n",
    "We use `ReLU` based activation because it is one of the standard activation functions used nowadays (as detailed above).\n",
    "\n",
    "Next, we define the MLP in code:"
   ]
  },
  {
   "cell_type": "code",
   "execution_count": 13,
   "id": "juvenile-satellite",
   "metadata": {
    "executionInfo": {
     "elapsed": 240,
     "status": "ok",
     "timestamp": 1635957301532,
     "user": {
      "displayName": "Casp3r",
      "photoUrl": "https://lh3.googleusercontent.com/a/default-user=s64",
      "userId": "17722606493291528264"
     },
     "user_tz": 0
    },
    "id": "juvenile-satellite"
   },
   "outputs": [],
   "source": [
    "def mlp_model(units_1=64, units_2=32):\n",
    "    \"\"\"\n",
    "    Define and return the MLP model architecture\n",
    "    \"\"\"\n",
    "    # Ensure reproducibility of the results\n",
    "    reset_random_seeds()\n",
    "\n",
    "    # Build and return the MLP model\n",
    "    model = Sequential()\n",
    "    model.add(Flatten(input_shape=input_shape))\n",
    "    model.add(Dense(units_1, activation='relu'))\n",
    "    model.add(Dropout(0.25))\n",
    "    model.add(Dense(units_2, activation='relu'))\n",
    "    model.add(Dropout(0.25))\n",
    "    model.add(Dense(1))\n",
    "    \n",
    "    return model"
   ]
  },
  {
   "cell_type": "markdown",
   "id": "stupid-gather",
   "metadata": {
    "id": "stupid-gather"
   },
   "source": [
    "### Defining the Baseline Model Configuration\n",
    "\n",
    "- **Batch size** &ndash; The batch size is a hyperparameter used for spicifying the amount of samples that will be sent across the network. As a kickoff, we use a batch size of 32 samples which is stated to be a good default value in the <a href=\"https://arxiv.org/abs/1206.5533\">following paper</a>. In general, smaller batch sizes are mainly used because they offer regularisation and improved generalisation.\n",
    "\n",
    "\n",
    "- **Epochs** &ndash; this is the number of passes of the whole training dataset the algorithm is expected to complete. We use 10 epochs to quickly evaluate our baseline models. We will adjust this hyperparameter later on when we conduct the model hyperparameter optimisation procedure.\n",
    "\n",
    "\n",
    "- **Validation split** &ndash; we adopt 25% of the training data, or 20% of the whole dataset, for validation training of our baseline models.\n",
    "\n",
    "\n",
    "- **Optimiser** &ndash; we pick the `Adam` algorithm since it is a popular deep learning method that quickly produces good results. This optimiser combines the advantages of the AdaGrad and RMSProp algorithms into a technique that can tackle sparse gradients on noisy tasks. We use the default `learning_rate=0.001` value of the `Adam` algorithm for our baseline model evaluations which is to be tuned at a later point.\n",
    "\n",
    "\n",
    "- **Loss function** &ndash; we use the Mean Squared Error (`MSE`) loss function which is the default for regression problems. Furthermore, we choose the `RMSE` metric to report the performance of our models. \n",
    "\n",
    "\n",
    "Finally, we wish to see as much output as possible, thus configure the training process to be verbose."
   ]
  },
  {
   "cell_type": "code",
   "execution_count": 14,
   "id": "serial-liverpool",
   "metadata": {
    "executionInfo": {
     "elapsed": 659,
     "status": "ok",
     "timestamp": 1635957304238,
     "user": {
      "displayName": "Casp3r",
      "photoUrl": "https://lh3.googleusercontent.com/a/default-user=s64",
      "userId": "17722606493291528264"
     },
     "user_tz": 0
    },
    "id": "serial-liverpool"
   },
   "outputs": [],
   "source": [
    "# Baseline model hyperparameter configuration\n",
    "batch_size = 32\n",
    "no_epochs = 10\n",
    "validation_split = 0.25\n",
    "optimiser = 'adam'\n",
    "loss_function = 'mse'\n",
    "metrics = [tf.keras.metrics.RootMeanSquaredError()]\n",
    "verbosity = 1"
   ]
  },
  {
   "cell_type": "markdown",
   "id": "advisory-heater",
   "metadata": {
    "id": "advisory-heater"
   },
   "source": [
    "### Training and Evaluating the Baseline Models\n",
    "\n",
    "Here, we finally compile the models and start the training process. We train our models on the whole training data since we consider them as finalised models which will be measured against the hypertuned (adjusted hyperparameters) models.\n",
    "\n",
    "With large data sets we get to split it into 3 parts &ndash; training, validation and test sets. We have around 23000 image instances, so it safe to say that we have good amount of data. Given that we already split the data into training and test sets, we achieve the validation split by adopting the `validation_split` parameter of the Keras `fit()` method.\n",
    "\n",
    "- **Note**: We use `validation_split=0.25` which reserves 25% of the training data ($80\\% \\times 25\\% = 20\\%$ of the whole dataset) for loss validation purposes. This is used to check if the model is overfitting and detecting a stopping epochAlso, we have already shuffled the data when splitting into train and holdout test sets so the validation split data would also comprise shuffled data.\n"
   ]
  },
  {
   "cell_type": "markdown",
   "id": "RXKTC02TOvz9",
   "metadata": {
    "id": "RXKTC02TOvz9"
   },
   "source": [
    "#### The CNN Model\n",
    "\n",
    "In this part we proceed as follows:\n",
    "\n",
    "\n",
    "1. Build the `CNN` baseline model.\n",
    "\n",
    "\n",
    "2. Compile the `CNN` model.\n",
    "\n",
    "\n",
    "3. Fit the baseline model to the training data.\n",
    "\n",
    "\n",
    "4. Evaluate the baseline `CNN` model on the holdout test set.\n",
    "\n",
    "\n",
    "5. Plot the training loss curve (validation included).\n",
    "\n",
    "\n",
    "We also provide brief summaries and analysis along with the results."
   ]
  },
  {
   "cell_type": "code",
   "execution_count": 15,
   "id": "studied-drill",
   "metadata": {
    "colab": {
     "base_uri": "https://localhost:8080/"
    },
    "executionInfo": {
     "elapsed": 258,
     "status": "ok",
     "timestamp": 1635957326014,
     "user": {
      "displayName": "Casp3r",
      "photoUrl": "https://lh3.googleusercontent.com/a/default-user=s64",
      "userId": "17722606493291528264"
     },
     "user_tz": 0
    },
    "id": "studied-drill",
    "outputId": "a794f779-ca69-4eb9-ef72-73d33755c433"
   },
   "outputs": [
    {
     "name": "stdout",
     "output_type": "stream",
     "text": [
      "Random number generator seed reset!\n"
     ]
    }
   ],
   "source": [
    "# Get the CNN model architecture\n",
    "base_cnn = cnn_model()"
   ]
  },
  {
   "cell_type": "code",
   "execution_count": 16,
   "id": "compressed-mainland",
   "metadata": {
    "colab": {
     "base_uri": "https://localhost:8080/",
     "height": 405
    },
    "executionInfo": {
     "elapsed": 10807,
     "status": "error",
     "timestamp": 1635957343516,
     "user": {
      "displayName": "Casp3r",
      "photoUrl": "https://lh3.googleusercontent.com/a/default-user=s64",
      "userId": "17722606493291528264"
     },
     "user_tz": 0
    },
    "id": "compressed-mainland",
    "outputId": "badf0a17-8935-4536-f8c7-75a3fc8f389d"
   },
   "outputs": [
    {
     "name": "stdout",
     "output_type": "stream",
     "text": [
      "Epoch 1/10\n",
      "431/431 [==============================] - 12s 12ms/step - loss: 692.9207 - root_mean_squared_error: 26.3234 - val_loss: 939.8645 - val_root_mean_squared_error: 30.6572\n",
      "Epoch 2/10\n",
      "431/431 [==============================] - 5s 11ms/step - loss: 47.5565 - root_mean_squared_error: 6.8961 - val_loss: 48.9652 - val_root_mean_squared_error: 6.9975\n",
      "Epoch 3/10\n",
      "431/431 [==============================] - 5s 11ms/step - loss: 43.7982 - root_mean_squared_error: 6.6180 - val_loss: 56.0442 - val_root_mean_squared_error: 7.4863\n",
      "Epoch 4/10\n",
      "431/431 [==============================] - 5s 12ms/step - loss: 41.0135 - root_mean_squared_error: 6.4042 - val_loss: 42.2985 - val_root_mean_squared_error: 6.5037\n",
      "Epoch 5/10\n",
      "431/431 [==============================] - 5s 11ms/step - loss: 38.4024 - root_mean_squared_error: 6.1970 - val_loss: 37.7427 - val_root_mean_squared_error: 6.1435\n",
      "Epoch 6/10\n",
      "431/431 [==============================] - 5s 11ms/step - loss: 36.6553 - root_mean_squared_error: 6.0544 - val_loss: 51.4552 - val_root_mean_squared_error: 7.1732\n",
      "Epoch 7/10\n",
      "431/431 [==============================] - 5s 12ms/step - loss: 36.1830 - root_mean_squared_error: 6.0152 - val_loss: 43.4395 - val_root_mean_squared_error: 6.5909\n",
      "Epoch 8/10\n",
      "431/431 [==============================] - 5s 12ms/step - loss: 35.2047 - root_mean_squared_error: 5.9334 - val_loss: 31.8685 - val_root_mean_squared_error: 5.6452\n",
      "Epoch 9/10\n",
      "431/431 [==============================] - 5s 12ms/step - loss: 34.6513 - root_mean_squared_error: 5.8865 - val_loss: 34.8138 - val_root_mean_squared_error: 5.9003\n",
      "Epoch 10/10\n",
      "431/431 [==============================] - 5s 11ms/step - loss: 33.5067 - root_mean_squared_error: 5.7885 - val_loss: 31.8126 - val_root_mean_squared_error: 5.6403\n"
     ]
    }
   ],
   "source": [
    "# Compile the CNN model\n",
    "base_cnn.compile(optimizer=optimiser, loss=loss_function, metrics=metrics)\n",
    "\n",
    "# Early stopping method (we will not need it here really...)\n",
    "es_callback = tf.keras.callbacks.\\\n",
    "    EarlyStopping(monitor='val_root_mean_squared_error', patience=3)\n",
    "\n",
    "# Train the baseline CNN model on the whole training set and \n",
    "# store the training history for later visualisation\n",
    "cnn_hist = base_cnn.fit(X_train_32, y_train, epochs=no_epochs, \n",
    "                        validation_split=validation_split,\n",
    "                        batch_size=batch_size, verbose=verbosity,\n",
    "                        callbacks=[es_callback])"
   ]
  },
  {
   "cell_type": "markdown",
   "id": "equal-joseph",
   "metadata": {
    "id": "equal-joseph"
   },
   "source": [
    "As shown above, we obtain a training `RMSE` $\\approx 5.6403$ (on local GPU). It is also obvious that the loss `MSE` and the training `RMSE` are decreasing throughout the epochs, therefore, there is no sign of overfitting.\n",
    "\n",
    "Next, we evaluate our `CNN` model on the holdout test set."
   ]
  },
  {
   "cell_type": "code",
   "execution_count": 179,
   "id": "posted-distribution",
   "metadata": {
    "colab": {
     "base_uri": "https://localhost:8080/"
    },
    "executionInfo": {
     "elapsed": 1632,
     "status": "ok",
     "timestamp": 1635952964582,
     "user": {
      "displayName": "Casp3r",
      "photoUrl": "https://lh3.googleusercontent.com/a/default-user=s64",
      "userId": "17722606493291528264"
     },
     "user_tz": 0
    },
    "id": "posted-distribution",
    "outputId": "76ab97b1-3e5b-46f8-f408-33a9e5f4afa7"
   },
   "outputs": [
    {
     "name": "stdout",
     "output_type": "stream",
     "text": [
      "144/144 [==============================] - 1s 6ms/step - loss: 30.6740 - root_mean_squared_error: 5.5384\n"
     ]
    },
    {
     "data": {
      "text/html": [
       "<div>\n",
       "<style scoped>\n",
       "    .dataframe tbody tr th:only-of-type {\n",
       "        vertical-align: middle;\n",
       "    }\n",
       "\n",
       "    .dataframe tbody tr th {\n",
       "        vertical-align: top;\n",
       "    }\n",
       "\n",
       "    .dataframe thead th {\n",
       "        text-align: right;\n",
       "    }\n",
       "</style>\n",
       "<table border=\"1\" class=\"dataframe\">\n",
       "  <thead>\n",
       "    <tr style=\"text-align: right;\">\n",
       "      <th></th>\n",
       "      <th>MLP Test Loss</th>\n",
       "    </tr>\n",
       "  </thead>\n",
       "  <tbody>\n",
       "    <tr>\n",
       "      <th>MSE</th>\n",
       "      <td>30.674002</td>\n",
       "    </tr>\n",
       "    <tr>\n",
       "      <th>RMSE</th>\n",
       "      <td>5.538412</td>\n",
       "    </tr>\n",
       "  </tbody>\n",
       "</table>\n",
       "</div>"
      ],
      "text/plain": [
       "      MLP Test Loss\n",
       "MSE       30.674002\n",
       "RMSE       5.538412"
      ]
     },
     "execution_count": 179,
     "metadata": {},
     "output_type": "execute_result"
    }
   ],
   "source": [
    "# Evaluate the CNN and store the output in a Pandas data frame\n",
    "base_cnn_res = base_cnn.evaluate(X_test_32, y_test, verbose=1)\n",
    "cnn_base_df = pd.DataFrame(base_cnn_res, index=['MSE', 'RMSE'], columns=['MLP Test Loss'])\n",
    "cnn_base_df"
   ]
  },
  {
   "cell_type": "markdown",
   "id": "apparent-whole",
   "metadata": {
    "id": "apparent-whole"
   },
   "source": [
    "In just 10 epochs, we achieve an evaluation `RMSE` $\\approx 5.5384$ (on GPU) which is a satisfactory result regarding the outputs mentioned in <a href=\"https://arxiv.org/pdf/2104.07468.pdf\">your work :)</a>. From this we can also infer that `CNN` models are a useful deep learning tool for regression problems.\n",
    "\n",
    "Now, let us visualise the `CNN` training process by plotting the per epoch training and validation losses. We display the loss curve of our model which is one of the most commonly used graphs for debugging a neural network. "
   ]
  },
  {
   "cell_type": "code",
   "execution_count": 158,
   "id": "0820b745",
   "metadata": {
    "colab": {
     "base_uri": "https://localhost:8080/",
     "height": 291
    },
    "executionInfo": {
     "elapsed": 399,
     "status": "ok",
     "timestamp": 1635952967777,
     "user": {
      "displayName": "Casp3r",
      "photoUrl": "https://lh3.googleusercontent.com/a/default-user=s64",
      "userId": "17722606493291528264"
     },
     "user_tz": 0
    },
    "id": "appropriate-causing",
    "outputId": "09033013-81c4-47c7-b0b7-afc1615e26c7"
   },
   "outputs": [],
   "source": [
    "# Import the matplotlib module used for visualisation\n",
    "import matplotlib.pyplot as plt\n",
    "\n",
    "def plot_history(history, name, clrs=['blue', 'orange']):\n",
    "    \"\"\"Plot diagnostic learning curves from the model training history\n",
    "    \"\"\"\n",
    "    plt.figure(figsize=(7,6))\n",
    "    plt.style.use('seaborn-whitegrid')\n",
    "    plt.plot(history.history['root_mean_squared_error'], color=clrs[0], label='train')\n",
    "    plt.plot(history.history['val_root_mean_squared_error'], color=clrs[1], label='test')\n",
    "    plt.title(f'{name} Model Loss', fontsize=16)\n",
    "    plt.ylabel('Loss (RMSE)', fontsize=14)\n",
    "    plt.xlabel('\\nEpoch', fontsize=14)\n",
    "    plt.legend(['Train', 'Validation'], loc='upper right', prop={'size': 14})\n",
    "    plt.xticks(fontsize=12)\n",
    "    plt.yticks(fontsize=12)\n",
    "    plt.show()\n",
    "    plt.close()"
   ]
  },
  {
   "cell_type": "markdown",
   "id": "b8827d59",
   "metadata": {},
   "source": [
    "Below, we output the training and validation loss curves of our model."
   ]
  },
  {
   "cell_type": "code",
   "execution_count": 159,
   "id": "appropriate-causing",
   "metadata": {
    "colab": {
     "base_uri": "https://localhost:8080/",
     "height": 291
    },
    "executionInfo": {
     "elapsed": 399,
     "status": "ok",
     "timestamp": 1635952967777,
     "user": {
      "displayName": "Casp3r",
      "photoUrl": "https://lh3.googleusercontent.com/a/default-user=s64",
      "userId": "17722606493291528264"
     },
     "user_tz": 0
    },
    "id": "appropriate-causing",
    "outputId": "09033013-81c4-47c7-b0b7-afc1615e26c7"
   },
   "outputs": [
    {
     "data": {
      "image/png": "[encoded data removed]",
      "text/plain": [
       "<Figure size 504x432 with 1 Axes>"
      ]
     },
     "metadata": {},
     "output_type": "display_data"
    }
   ],
   "source": [
    "# Plot the baseline CNN model training \n",
    "# and validation loss curves\n",
    "plot_history(cnn_hist, 'CNN')"
   ]
  },
  {
   "cell_type": "markdown",
   "id": "qFraNfIxVMcb",
   "metadata": {
    "id": "qFraNfIxVMcb"
   },
   "source": [
    "The training loss curve tells us that `Adam` optimiser's default learning rate is about right. The effect of the learning rate is better illustrated in the following figure:\n",
    "\n",
    "<img src=\"https://cs231n.github.io/assets/nn3/learningrates.jpeg\"/>\n",
    "<center><b>Fig 3.</b> The effect of model learning rate on loss (<a href=\"https://cs231n.github.io/assets/nn3/learningrates.jpeg\">source link</a>)\n",
    ".</center>"
   ]
  },
  {
   "cell_type": "markdown",
   "id": "hired-complaint",
   "metadata": {
    "id": "hired-complaint"
   },
   "source": [
    "#### The MLP Model\n",
    "\n",
    "The steps we take are:\n",
    "\n",
    "\n",
    "1. Build the `MLP` baseline model.\n",
    "\n",
    "\n",
    "2. Compile the `MLP` model.\n",
    "\n",
    "\n",
    "3. Fit the baseline model to the training data.\n",
    "\n",
    "\n",
    "4. Evaluate the baseline `MLP` model on the holdout test set.\n",
    "\n",
    "\n",
    "5. Plot the training loss curve (validation included).\n",
    "\n",
    "\n",
    "We also provide comments and analysis along with the results."
   ]
  },
  {
   "cell_type": "code",
   "execution_count": 20,
   "id": "individual-isaac",
   "metadata": {
    "colab": {
     "base_uri": "https://localhost:8080/"
    },
    "executionInfo": {
     "elapsed": 422,
     "status": "ok",
     "timestamp": 1635952970525,
     "user": {
      "displayName": "Casp3r",
      "photoUrl": "https://lh3.googleusercontent.com/a/default-user=s64",
      "userId": "17722606493291528264"
     },
     "user_tz": 0
    },
    "id": "individual-isaac",
    "outputId": "ed1a6ebf-bfed-41a4-c155-207b3c3a1c0c"
   },
   "outputs": [
    {
     "name": "stdout",
     "output_type": "stream",
     "text": [
      "Random number generator seed reset!\n"
     ]
    }
   ],
   "source": [
    "# Build the baseline MLP model architecture\n",
    "base_mlp = mlp_model()"
   ]
  },
  {
   "cell_type": "code",
   "execution_count": 21,
   "id": "supreme-destiny",
   "metadata": {
    "colab": {
     "base_uri": "https://localhost:8080/"
    },
    "executionInfo": {
     "elapsed": 24088,
     "status": "ok",
     "timestamp": 1635952996548,
     "user": {
      "displayName": "Casp3r",
      "photoUrl": "https://lh3.googleusercontent.com/a/default-user=s64",
      "userId": "17722606493291528264"
     },
     "user_tz": 0
    },
    "id": "supreme-destiny",
    "outputId": "8eec4d64-d6ed-446a-d645-352233579694"
   },
   "outputs": [
    {
     "name": "stdout",
     "output_type": "stream",
     "text": [
      "Epoch 1/10\n",
      "431/431 [==============================] - 3s 6ms/step - loss: 184.3731 - root_mean_squared_error: 12.0806 - val_loss: 64.0614 - val_root_mean_squared_error: 8.0038\n",
      "Epoch 2/10\n",
      "431/431 [==============================] - 3s 7ms/step - loss: 98.0049 - root_mean_squared_error: 9.8997 - val_loss: 50.4832 - val_root_mean_squared_error: 7.1052\n",
      "Epoch 3/10\n",
      "431/431 [==============================] - 3s 7ms/step - loss: 92.1099 - root_mean_squared_error: 9.5974 - val_loss: 47.5385 - val_root_mean_squared_error: 6.8948\n",
      "Epoch 4/10\n",
      "431/431 [==============================] - 3s 6ms/step - loss: 84.5732 - root_mean_squared_error: 9.1964 - val_loss: 45.4565 - val_root_mean_squared_error: 6.7421\n",
      "Epoch 5/10\n",
      "431/431 [==============================] - 3s 7ms/step - loss: 81.4841 - root_mean_squared_error: 9.0269 - val_loss: 43.0469 - val_root_mean_squared_error: 6.5610\n",
      "Epoch 6/10\n",
      "431/431 [==============================] - 3s 7ms/step - loss: 77.3313 - root_mean_squared_error: 8.7938 - val_loss: 36.5966 - val_root_mean_squared_error: 6.0495\n",
      "Epoch 7/10\n",
      "431/431 [==============================] - 3s 7ms/step - loss: 74.5769 - root_mean_squared_error: 8.6358 - val_loss: 38.8202 - val_root_mean_squared_error: 6.2306\n",
      "Epoch 8/10\n",
      "431/431 [==============================] - 3s 6ms/step - loss: 70.4761 - root_mean_squared_error: 8.3950 - val_loss: 36.0469 - val_root_mean_squared_error: 6.0039\n",
      "Epoch 9/10\n",
      "431/431 [==============================] - 3s 7ms/step - loss: 68.8510 - root_mean_squared_error: 8.2977 - val_loss: 37.0704 - val_root_mean_squared_error: 6.0885\n",
      "Epoch 10/10\n",
      "431/431 [==============================] - 3s 7ms/step - loss: 67.7975 - root_mean_squared_error: 8.2339 - val_loss: 34.0154 - val_root_mean_squared_error: 5.8323\n"
     ]
    }
   ],
   "source": [
    "# Compile the CNN model\n",
    "base_mlp.compile(optimizer=optimiser, loss=loss_function, metrics=metrics)\n",
    "\n",
    "# Fit the baseline CNN model to the training data and \n",
    "# store the training history for later visualisation\n",
    "mlp_hist = base_mlp.fit(X_train_32, y_train, epochs=no_epochs,\n",
    "                        validation_split=validation_split,\n",
    "                        batch_size=batch_size, verbose=verbosity)"
   ]
  },
  {
   "cell_type": "markdown",
   "id": "extensive-consequence",
   "metadata": {
    "id": "extensive-consequence"
   },
   "source": [
    "- The above results demonstrate a validation `RMSE` of $\\approx 5.8323$ (on GPU) regarding the `MLP` baseline model. \n",
    "\n",
    "\n",
    "- Additionally, the `MLP` architecture training performance `RMSE` shows an increase of $\\approx 3.4\\%$ as opposed to the `CNN` model. \n",
    "\n",
    "\n",
    "- Again, there is no sign of overfitting or underfitting since the error rate is gradually dropping throughout the epochs."
   ]
  },
  {
   "cell_type": "code",
   "execution_count": 178,
   "id": "statewide-marsh",
   "metadata": {
    "colab": {
     "base_uri": "https://localhost:8080/"
    },
    "executionInfo": {
     "elapsed": 1169,
     "status": "ok",
     "timestamp": 1635953603436,
     "user": {
      "displayName": "Casp3r",
      "photoUrl": "https://lh3.googleusercontent.com/a/default-user=s64",
      "userId": "17722606493291528264"
     },
     "user_tz": 0
    },
    "id": "statewide-marsh",
    "outputId": "fe1374ee-65ee-401c-c98c-98ef5391c887"
   },
   "outputs": [
    {
     "name": "stdout",
     "output_type": "stream",
     "text": [
      "144/144 [==============================] - 1s 5ms/step - loss: 33.2146 - root_mean_squared_error: 5.7632\n"
     ]
    },
    {
     "data": {
      "text/html": [
       "<div>\n",
       "<style scoped>\n",
       "    .dataframe tbody tr th:only-of-type {\n",
       "        vertical-align: middle;\n",
       "    }\n",
       "\n",
       "    .dataframe tbody tr th {\n",
       "        vertical-align: top;\n",
       "    }\n",
       "\n",
       "    .dataframe thead th {\n",
       "        text-align: right;\n",
       "    }\n",
       "</style>\n",
       "<table border=\"1\" class=\"dataframe\">\n",
       "  <thead>\n",
       "    <tr style=\"text-align: right;\">\n",
       "      <th></th>\n",
       "      <th>MLP Test Loss</th>\n",
       "    </tr>\n",
       "  </thead>\n",
       "  <tbody>\n",
       "    <tr>\n",
       "      <th>MSE</th>\n",
       "      <td>33.214592</td>\n",
       "    </tr>\n",
       "    <tr>\n",
       "      <th>RMSE</th>\n",
       "      <td>5.763210</td>\n",
       "    </tr>\n",
       "  </tbody>\n",
       "</table>\n",
       "</div>"
      ],
      "text/plain": [
       "      MLP Test Loss\n",
       "MSE       33.214592\n",
       "RMSE       5.763210"
      ]
     },
     "execution_count": 178,
     "metadata": {},
     "output_type": "execute_result"
    }
   ],
   "source": [
    "# Evaluate the baseline MLP model and store the results in a Pandas data frame\n",
    "base_mlp_res = base_mlp.evaluate(X_test_32, y_test, verbose=1)\n",
    "mlp_base_df = pd.DataFrame(base_mlp_res, index=['MSE', 'RMSE'], columns=['MLP Test Loss'])\n",
    "mlp_base_df"
   ]
  },
  {
   "cell_type": "markdown",
   "id": "exterior-following",
   "metadata": {
    "id": "exterior-following"
   },
   "source": [
    "- The baseline `MLP` algorithm demonstrates an increase of  $\\approx 4.06\\%$ in `RMSE` loss as opposed to the `CNN` model regarding generalisation on unseen data (holdout test set). It gives an evaluation `RMSE` $\\approx 5.7632$ (on local GPU).\n",
    "\n",
    "So far, the `MLP` baseline model falls behind the `CNN` in terms of training and test `RMSE` errors. The `CNN` is generally expected to perform better, since it is a more sophisticated architecture. It is also better suited for tasks involving spatial relation and complex images. However, let us assume that such performance outcome could be caused by the hyperparameter settings such as `batch_size`, filter number in the `Conv2D` layers, learning rate, number of epochs etc. Therefore, we would get a better performance estimate after hyperparameter optimisation which we will go through in the following parts.\n",
    "\n",
    "We plot the `MLP` training loss curve to analyse its performance better."
   ]
  },
  {
   "cell_type": "code",
   "execution_count": 170,
   "id": "surprising-entry",
   "metadata": {
    "colab": {
     "base_uri": "https://localhost:8080/",
     "height": 291
    },
    "executionInfo": {
     "elapsed": 435,
     "status": "ok",
     "timestamp": 1635952086623,
     "user": {
      "displayName": "Casp3r",
      "photoUrl": "https://lh3.googleusercontent.com/a/default-user=s64",
      "userId": "17722606493291528264"
     },
     "user_tz": 0
    },
    "id": "surprising-entry",
    "outputId": "c6a94dec-5c1f-4a7b-f1b7-c9082e965844"
   },
   "outputs": [
    {
     "data": {
      "image/png": "[encoded data removed]",
      "text/plain": [
       "<Figure size 504x432 with 1 Axes>"
      ]
     },
     "metadata": {},
     "output_type": "display_data"
    }
   ],
   "source": [
    "# Plot the MLP training and validation RMSE loss curves\n",
    "plot_history(mlp_hist, 'MLP')"
   ]
  },
  {
   "cell_type": "markdown",
   "id": "olympic-ranking",
   "metadata": {
    "id": "olympic-ranking"
   },
   "source": [
    "The `MLP` loss plot tells us that 10 epochs are not enough for the model to fully converge. Considering Figure 3 and the previous plot, we can conclude that the learning rate of the baseline `MLP` model is lower than it should be (or at least not the right one). Also, we have to make sure the model starts overfitting and detect when this occurs in order to acquire the best `RMSE` result. We will try to fix these in the following section where we perform hyperparameter optimisation for both models."
   ]
  },
  {
   "cell_type": "markdown",
   "id": "ZX4bNUebdNF6",
   "metadata": {
    "id": "ZX4bNUebdNF6"
   },
   "source": [
    "### `MLP` vs `CNN`\n",
    "\n",
    "In general, both architectures show good performance on this regression task of crop yield prediction. Below, we try to give detailed notes and analyse the advantages and disadvantages of both architectures:\n",
    "\n",
    "- `MLP` &ndash; it is effective in dealing with more basic datasets. Nevertheless, `MLP`s are no longer considered adequate for contemporary sophisticated computer vision tasks, i.e., image classification. They are outperformed by the state-of-the-art 'fancy' architectures like the `CNN`, `LSTM` etc. The `MLP` can also be regarded as the descendant of the `CNN`. A notable disadvantage of the `MLP` is that the number of total neurons (width x height x depth) can increase drastically since it utilises fully-connected layers. This makes it impractical due to the repetition in such complex dimensions. Moreover, `MLP`s are not suitable for spatial data since input that is being fed should be in the form of a flattened vector which eleminates the spatiality. \n",
    "\n",
    "\n",
    "- `CNN` &ndash; winner of multiple ImageNet challenges, the `CNN`  architecture is the current preferred choice for computer vision tasks. Furthermore, `CNN`s are easier to train, more efficient and resource saving algorithms than `MLP`s. They can be built with more layers (deeper) since they employ sparsely connected layers as opposed to `MLP`s. The `CNN` architecture accepts both matrices and vectors as inputs. It is suitable for various problem domains such as pattern recognition, document analysis and many more.\n",
    "\n",
    "The results acquired might be influenced by several factors, for instance:\n",
    "\n",
    "\n",
    "- hyperparameter values (learning rate etc.)\n",
    "\n",
    "\n",
    "- randomly initialised model weights (even though we tried to mitigate, results obtained might differ when using GPU)\n",
    "\n",
    "\n",
    "- dataset train test split etc.\n",
    "\n",
    "\n",
    "Now let us tune some models and see if anything changes, shall we?"
   ]
  },
  {
   "cell_type": "markdown",
   "id": "bibliographic-drunk",
   "metadata": {
    "id": "bibliographic-drunk"
   },
   "source": [
    "### Hyperparameter Optimisation and Model Selection\n",
    "\n",
    "\n",
    "For hyperparameter optimisation and model selection procedures we employ the `keras-tuner` library by Keras.\n",
    "\n",
    "- \"The Keras Tuner is a library that helps you pick the optimal set of hyperparameters for your TensorFlow program. The process of selecting the right set of hyperparameters for your machine learning (ML) application is called hyperparameter tuning or hypertuning.\" &mdash; <a href=\"https://www.tensorflow.org/tutorials/keras/keras_tuner\">TensorFlow</a>\n",
    "\n",
    "Firstly, we install and import the Keras Tuner."
   ]
  },
  {
   "cell_type": "code",
   "execution_count": 24,
   "id": "little-clinton",
   "metadata": {
    "colab": {
     "base_uri": "https://localhost:8080/"
    },
    "executionInfo": {
     "elapsed": 4410,
     "status": "ok",
     "timestamp": 1635954023305,
     "user": {
      "displayName": "Casp3r",
      "photoUrl": "https://lh3.googleusercontent.com/a/default-user=s64",
      "userId": "17722606493291528264"
     },
     "user_tz": 0
    },
    "id": "little-clinton",
    "outputId": "dcbe8399-8d10-498b-acb9-3e7677de31ba"
   },
   "outputs": [],
   "source": [
    "# Install and import the keras_tuner package\n",
    "!pip -q install keras-tuner\n",
    "import keras_tuner as kt"
   ]
  },
  {
   "cell_type": "markdown",
   "id": "premier-cholesterol",
   "metadata": {
    "id": "premier-cholesterol"
   },
   "source": [
    "#### Defining our Models\n",
    "\n",
    "Here, we define our models for hypertuning or *hypermodels*. To do so, we use the model builder function of the Keras Tuner. It returns a compiled version of the model defined and links the specified hyperparameter values to it for the hypertuning process later. \n"
   ]
  },
  {
   "cell_type": "code",
   "execution_count": 25,
   "id": "opposed-victor",
   "metadata": {
    "colab": {
     "base_uri": "https://localhost:8080/"
    },
    "executionInfo": {
     "elapsed": 370,
     "status": "ok",
     "timestamp": 1635954071903,
     "user": {
      "displayName": "Casp3r",
      "photoUrl": "https://lh3.googleusercontent.com/a/default-user=s64",
      "userId": "17722606493291528264"
     },
     "user_tz": 0
    },
    "id": "opposed-victor",
    "outputId": "422672f5-0991-4ded-bbb6-fbcdd8984e9c"
   },
   "outputs": [],
   "source": [
    "# Add the MAE metric to the metrics list\n",
    "metrics.append(tf.keras.metrics.MeanAbsoluteError())"
   ]
  },
  {
   "cell_type": "markdown",
   "id": "xhFbx_b7dstr",
   "metadata": {
    "id": "xhFbx_b7dstr"
   },
   "source": [
    "\n",
    "##### CNN Hypermodel Builder\n",
    "\n",
    "We focus on tuning the number of filters in the `Conv2D` and number of units in the `Dense` layers together with the `Adam` learning rate hyperparameter.\n",
    "\n",
    "\n",
    "- 1st `Conv2D` layer filters &ndash; these are to be tuned in the `[32, 64]` range with `step=32`.\n",
    "\n",
    "\n",
    "- 2nd `Conv2D` layer filters &ndash; these are to be tuned in the `[64, 128]` range with `step=64`.\n",
    "\n",
    "\n",
    "- `Dense` layer units &ndash; these are to be tuned in the `[128, 256]` range with `step=128`.\n",
    "\n",
    "\n",
    "- `Adam` learning rate &ndash; to be adjusted in the `[0.01, 0.001, 0.0001]` range. We use this range since we are not completely sure if the default learning rate is high or too low. Therefore, we explore both directions for the tuning process.\n",
    "\n",
    "The learning rate defines how quickly a network updates its parameters hence an important hyperparameter to tune. We choose to adjust and test the number of layer filters/units to see if there is a better configuration present. A large number of units within a layer with regularization techniques can increase accuracy. Smaller number of units may cause underfitting. Therefore, this hyperparameter is crucial for the performance of a model, thus, is to be considered in the hypertuning.\n",
    "\n",
    "- **Note**: We decide to keep the default structure of our models (no additional layer insertion) and try to improve their performance by experimenting with the layer parameters. For instance, we explore different filter and unit numbers for the `Conv2D` and `Dense` layer respectively, various learning rates for the `Adam` optimiser and also different `batch_sizes` when training. "
   ]
  },
  {
   "cell_type": "code",
   "execution_count": 26,
   "id": "a5caDSKitX1L",
   "metadata": {
    "executionInfo": {
     "elapsed": 357,
     "status": "ok",
     "timestamp": 1635954266701,
     "user": {
      "displayName": "Casp3r",
      "photoUrl": "https://lh3.googleusercontent.com/a/default-user=s64",
      "userId": "17722606493291528264"
     },
     "user_tz": 0
    },
    "id": "a5caDSKitX1L"
   },
   "outputs": [],
   "source": [
    "def cnn_builder(hp):\n",
    "    \"\"\"Build and return the CNN hypermodel\n",
    "    \"\"\"\n",
    "    # Choose the number of filter for the Conv2D and \n",
    "    # number of units for the Dense layers to tune\n",
    "    filters_1 = hp.Int('conv_filters_1', min_value=32, max_value=64, step=32)\n",
    "    filters_2 = hp.Int('conv_filters_2', min_value=64, max_value=128, step=64)\n",
    "    units = hp.Int('dense_units', min_value=128, max_value=256, step=128)\n",
    "    \n",
    "    # Define the CNN\n",
    "    cnn_hyper = cnn_model(filters_1, filters_2, units)\n",
    "\n",
    "    # Specify the tuning range for the learning rate of the optimiser.\n",
    "    # Choose an optimal value from 0.01, 0.001, or 0.0001\n",
    "    lr = hp.Choice('learning_rate', values=[1e-2, 1e-3, 1e-4])\n",
    "\n",
    "    # Compile the CNN model with the current learning rate choice\n",
    "    cnn_hyper.compile(optimizer=optimizers.Adam(learning_rate=lr),\\\n",
    "                  loss=loss_function,\\\n",
    "                  metrics=metrics)\n",
    "\n",
    "    return cnn_hyper"
   ]
  },
  {
   "cell_type": "markdown",
   "id": "incident-pantyhose",
   "metadata": {
    "id": "incident-pantyhose"
   },
   "source": [
    "##### MLP Hypermodel Builder\n",
    "\n",
    "Here, we tune the number of units in the `Dense` layers together with the `Adam` learning rate hyperparameter:\n",
    "\n",
    "- 1st `Dense` layer units &ndash; these are to be tuned in the `[64, 128]` range with `step=64`.\n",
    "\n",
    "\n",
    "- 2nd `Dense` layer units &ndash; these are to be tuned in the `[32, 96]` range with `step=32`.\n",
    "\n",
    "\n",
    "- `Adam` learning rate &ndash; to be adjusted in the `[0.01, 0.001, 0.0001]` range."
   ]
  },
  {
   "cell_type": "code",
   "execution_count": 27,
   "id": "elegant-tournament",
   "metadata": {
    "executionInfo": {
     "elapsed": 495,
     "status": "ok",
     "timestamp": 1635954269193,
     "user": {
      "displayName": "Casp3r",
      "photoUrl": "https://lh3.googleusercontent.com/a/default-user=s64",
      "userId": "17722606493291528264"
     },
     "user_tz": 0
    },
    "id": "elegant-tournament"
   },
   "outputs": [],
   "source": [
    "def mlp_builder(hp):\n",
    "    \"\"\"Build and return the MLP hypermodel\n",
    "    \"\"\"\n",
    "    # Tune the number of units in the first Dense layer\n",
    "    # Choose an optimal value between 32-512\n",
    "    units_1 = hp.Int('dense_units_1', min_value=64, max_value=128, step=32)\n",
    "    units_2 = hp.Int('dense_units_2', min_value=32, max_value=96, step=32)\n",
    "    \n",
    "    mlp_hyper = mlp_model(units_1, units_2)\n",
    "\n",
    "    # Tune the learning rate for the optimizer\n",
    "    # Choose an optimal value from 0.01, 0.001, or 0.0001\n",
    "    lr = hp.Choice('learning_rate', values=[1e-2, 1e-3, 1e-4])\n",
    "    \n",
    "    # Compile the MLP model\n",
    "    mlp_hyper.compile(optimizer=optimizers.Adam(learning_rate=lr),\n",
    "                      loss=loss_function, metrics=metrics)\n",
    "\n",
    "    return mlp_hyper"
   ]
  },
  {
   "cell_type": "markdown",
   "id": "prepared-landing",
   "metadata": {
    "id": "prepared-landing"
   },
   "source": [
    "##### Introducing the Hyperband Tuner and Setting Additional Hyperparameters\n",
    "\n",
    "The model builder function does not support batch size and epoch hyperparameter value definition. Hence, we need to allow this manually by subclassing the Keras `Tuner` class and overriding the `run_trial()` method. \n",
    "\n",
    "In our case, we pick the `Hyperband` tuner class which is a variation of the <a href=\"https://jmlr.org/papers/volume18/16-558/16-558.pdf\">HyperBand algorithm</a>. It speeds up the hyperparameter optimisation procedure through adaptive resource allocation and aggressive early-stopping. `Hyperband` adopts the successive halving technique where, initially, all model candidates are evaluated for only a couple of epochs. Then, only the best half of the candidates 'survive' for the next couple of epochs where the amount of resources (samples) is doubled. This procedure is continued until only two candidates remain in the final iteration. The best candidate is the one who has the highest final evaluation score. \n",
    "\n",
    "\n",
    "**Note that the `Hyperband` class has its own logic for setting the epochs, therefore it is not necessary to specify  the range of values for the epochs**"
   ]
  },
  {
   "cell_type": "code",
   "execution_count": 28,
   "id": "10472383",
   "metadata": {
    "executionInfo": {
     "elapsed": 368,
     "status": "ok",
     "timestamp": 1635954325478,
     "user": {
      "displayName": "Casp3r",
      "photoUrl": "https://lh3.googleusercontent.com/a/default-user=s64",
      "userId": "17722606493291528264"
     },
     "user_tz": 0
    },
    "id": "10472383"
   },
   "outputs": [],
   "source": [
    "class MyHyperband(kt.Hyperband):\n",
    "    def run_trial(self, trial, *args, **kwargs):\n",
    "        \"\"\"Hyperparameters can be added anywhere inside `run_trial`.\n",
    "        \n",
    "        When the first trial is run, they will take on their default values \n",
    "        (prints the parameters table before updating the hyperparameters dictionary).\n",
    "        Afterwards, they will be tuned by the `Oracle`.\n",
    "        Adapted from: https://keras.io/guides/keras_tuner/custom_tuner/\n",
    "        \"\"\"\n",
    "\n",
    "\n",
    "        # Add the additional 'batch_size' hyperparameter for preprocessing and custom training loops\n",
    "        # via overriding `run_trial`\n",
    "        kwargs['batch_size'] = trial.hyperparameters.Int('batch_size', 32, 96, step=32)\n",
    "        \n",
    "        # Call the superclass method\n",
    "        super(MyHyperband, self).run_trial(trial, *args, **kwargs)"
   ]
  },
  {
   "cell_type": "markdown",
   "id": "comic-smoke",
   "metadata": {
    "id": "comic-smoke"
   },
   "source": [
    "#### Instantiating the Tuners and Performing Hypertuning\n",
    "\n",
    "Hyperband determines the number of models to train in a bracket by computing $1 + log_{factor}(max\\_epochs)$ and rounding it up to the nearest integer. The loss function we use to determine the training performance of our models is the validation `RMSE` evaluated on the validation split data we reserve prior to fitting."
   ]
  },
  {
   "cell_type": "code",
   "execution_count": 29,
   "id": "adopted-adaptation",
   "metadata": {
    "executionInfo": {
     "elapsed": 388,
     "status": "ok",
     "timestamp": 1635954508295,
     "user": {
      "displayName": "Casp3r",
      "photoUrl": "https://lh3.googleusercontent.com/a/default-user=s64",
      "userId": "17722606493291528264"
     },
     "user_tz": 0
    },
    "id": "adopted-adaptation"
   },
   "outputs": [],
   "source": [
    "def run_hypertune(builder, model_name):\n",
    "    \"\"\"Build a model for hyperparameter tuning\n",
    "    \"\"\"\n",
    "    tuner = MyHyperband(builder,\\\n",
    "                        objective=kt.Objective('val_root_mean_squared_error',\\\n",
    "                                               direction='min'),\\\n",
    "                        max_epochs=30,\\\n",
    "                        factor=3,\\\n",
    "                        seed=1337,\\\n",
    "                        directory=f'{model_name}_tuner_results',\\\n",
    "                        project_name=f'{model_name}')\\\n",
    "\n",
    "    # Create an early-stopping callback with patience=3 \n",
    "    # (stop training after 3 epochs of no validation RMSE improvement)\n",
    "    es_callback = tf.keras.callbacks.\\\n",
    "        EarlyStopping(monitor='val_root_mean_squared_error', patience=3)\n",
    "\n",
    "    # Create a TensorBoard callback for visualising \n",
    "    # the results after hypertuning\n",
    "    tb_callback = tf.keras.callbacks.\\\n",
    "        TensorBoard(f'{model_name}_tuner_results/{model_name}_logs', \\\n",
    "                    profile_batch=0)\n",
    "\n",
    "    # Run the hypertuning. We let the Tuner tune the batch size and epochs\n",
    "    tuner.search(X_train_32, y_train, validation_split=0.25,\\\n",
    "                 callbacks=[es_callback, tb_callback])\n",
    "    \n",
    "    # Returns the best model(s), as determined by the tuner's objective.\n",
    "    best_model = tuner.get_best_models()[0]\n",
    "    \n",
    "    # Get the optimal hyperparameters. Returns the best hyperparameters, \n",
    "    # as determined by the objective.\n",
    "    best_hps = tuner.get_best_hyperparameters()[0]\n",
    "    \n",
    "    # Return the tuner, best model and its hyperparameter configuration\n",
    "    return (tuner, best_model, best_hps)"
   ]
  },
  {
   "cell_type": "markdown",
   "id": "fresh-sussex",
   "metadata": {
    "id": "fresh-sussex"
   },
   "source": [
    "##### CNN Hypertuning and Evaluation"
   ]
  },
  {
   "cell_type": "code",
   "execution_count": 30,
   "id": "united-project",
   "metadata": {
    "colab": {
     "base_uri": "https://localhost:8080/"
    },
    "executionInfo": {
     "elapsed": 2260892,
     "status": "ok",
     "timestamp": 1635956771916,
     "user": {
      "displayName": "Casp3r",
      "photoUrl": "https://lh3.googleusercontent.com/a/default-user=s64",
      "userId": "17722606493291528264"
     },
     "user_tz": 0
    },
    "id": "united-project",
    "outputId": "0b93c832-e510-42b8-84c9-ae0d95ad0e94"
   },
   "outputs": [
    {
     "name": "stdout",
     "output_type": "stream",
     "text": [
      "INFO:tensorflow:Reloading Oracle from existing project cnn_tuner_results\\cnn\\oracle.json\n",
      "Random number generator seed reset!\n",
      "INFO:tensorflow:Reloading Tuner from cnn_tuner_results\\cnn\\tuner0.json\n",
      "INFO:tensorflow:Oracle triggered exit\n",
      "Random number generator seed reset!\n"
     ]
    }
   ],
   "source": [
    "# Run the CNN hypertuning procedure\n",
    "cnn_tuner, best_cnn_model, best_cnn_hps = run_hypertune(cnn_builder, 'cnn')"
   ]
  },
  {
   "cell_type": "markdown",
   "id": "d33e97e2",
   "metadata": {},
   "source": [
    "You could use the following commands to visualise the \n",
    "hypertuning results in Tensorboard\n",
    "\n",
    "    %load_ext tensorboard\n",
    "    %tensorboard --logdir cnn_tuner_results/cnn_logs"
   ]
  },
  {
   "cell_type": "markdown",
   "id": "d35a8719",
   "metadata": {
    "id": "I2QBDVEcjQBa"
   },
   "source": [
    "Now we print the top 3 best performing `CNN` models with respect to validation `RMSE` and also a summary of the best one."
   ]
  },
  {
   "cell_type": "code",
   "execution_count": 31,
   "id": "sustainable-space",
   "metadata": {
    "id": "sustainable-space"
   },
   "outputs": [
    {
     "name": "stdout",
     "output_type": "stream",
     "text": [
      "The CNN hypertuning is complete. Printing top 3 results...\n",
      "\n",
      "Results summary\n",
      "Results in cnn_tuner_results\\cnn\n",
      "Showing 3 best trials\n",
      "Objective(name='val_root_mean_squared_error', direction='min')\n",
      "Trial summary\n",
      "Hyperparameters:\n",
      "conv_filters_1: 64\n",
      "conv_filters_2: 128\n",
      "dense_units: 128\n",
      "learning_rate: 0.001\n",
      "batch_size: 32\n",
      "tuner/epochs: 30\n",
      "tuner/initial_epoch: 10\n",
      "tuner/bracket: 3\n",
      "tuner/round: 3\n",
      "tuner/trial_id: e05eaee03c60459e5a8c925c18c7721d\n",
      "Score: 5.06871223449707\n",
      "Trial summary\n",
      "Hyperparameters:\n",
      "conv_filters_1: 32\n",
      "conv_filters_2: 128\n",
      "dense_units: 128\n",
      "learning_rate: 0.001\n",
      "batch_size: 64\n",
      "tuner/epochs: 30\n",
      "tuner/initial_epoch: 10\n",
      "tuner/bracket: 2\n",
      "tuner/round: 2\n",
      "tuner/trial_id: 48e15d065dbfa41889e0a8b4fd0ac977\n",
      "Score: 5.339536666870117\n",
      "Trial summary\n",
      "Hyperparameters:\n",
      "conv_filters_1: 64\n",
      "conv_filters_2: 128\n",
      "dense_units: 256\n",
      "learning_rate: 0.0001\n",
      "batch_size: 32\n",
      "tuner/epochs: 30\n",
      "tuner/initial_epoch: 0\n",
      "tuner/bracket: 0\n",
      "tuner/round: 0\n",
      "Score: 5.4678263664245605\n",
      "\n",
      "Showing the best CNN model architecture summary...\n",
      "\n",
      "Model: \"sequential\"\n",
      "_________________________________________________________________\n",
      "Layer (type)                 Output Shape              Param #   \n",
      "=================================================================\n",
      "conv2d (Conv2D)              (None, 30, 30, 64)        5248      \n",
      "_________________________________________________________________\n",
      "batch_normalization (BatchNo (None, 30, 30, 64)        256       \n",
      "_________________________________________________________________\n",
      "max_pooling2d (MaxPooling2D) (None, 15, 15, 64)        0         \n",
      "_________________________________________________________________\n",
      "dropout (Dropout)            (None, 15, 15, 64)        0         \n",
      "_________________________________________________________________\n",
      "conv2d_1 (Conv2D)            (None, 13, 13, 128)       73856     \n",
      "_________________________________________________________________\n",
      "batch_normalization_1 (Batch (None, 13, 13, 128)       512       \n",
      "_________________________________________________________________\n",
      "max_pooling2d_1 (MaxPooling2 (None, 6, 6, 128)         0         \n",
      "_________________________________________________________________\n",
      "dropout_1 (Dropout)          (None, 6, 6, 128)         0         \n",
      "_________________________________________________________________\n",
      "flatten (Flatten)            (None, 4608)              0         \n",
      "_________________________________________________________________\n",
      "dense (Dense)                (None, 128)               589952    \n",
      "_________________________________________________________________\n",
      "batch_normalization_2 (Batch (None, 128)               512       \n",
      "_________________________________________________________________\n",
      "dense_1 (Dense)              (None, 1)                 129       \n",
      "=================================================================\n",
      "Total params: 670,465\n",
      "Trainable params: 669,825\n",
      "Non-trainable params: 640\n",
      "_________________________________________________________________\n"
     ]
    }
   ],
   "source": [
    "# Get the top 3 best performing model summary results\n",
    "print('The CNN hypertuning is complete. Printing top 3 results...\\n')\n",
    "cnn_tuner.results_summary(3)\n",
    "\n",
    "# Print the model architecture summary\n",
    "print('\\nShowing the best CNN model architecture summary...\\n')\n",
    "best_cnn_model.summary()"
   ]
  },
  {
   "cell_type": "markdown",
   "id": "3cedae60",
   "metadata": {
    "id": "I2QBDVEcjQBa"
   },
   "source": [
    "- As seen above, the `CNN` hypertuned model achieves a validation `RMSE` result of $\\approx 5.0687$. This `RMSE` is obtained during hyperparameter optimisation and is only used when comparing the different candidates. It is not our final validation loss result and we only adopt the hyperparameters of this model. We detail the way of obtaining the final validation loss in the next parts.\n",
    "\n",
    "\n",
    "\n",
    "- The total parameters of the `CNN` model are 670,465 while we can see that 640 are non-trainable. These are the parameters of the `BatchNormalisation` layers which comprise both trainable and non-trainable parameters. Such non-trainable parameters are not trained using gradient descent. They correspond to the computed mean and standard deviation of the activations used when testing.\n",
    "\n",
    "Next, we:\n",
    "\n",
    " 1. Build a new `CNN` model with the acquired best hyperparameter settings.\n",
    " \n",
    " \n",
    " 2. Train the model for 50 epochs to cause overfitting and thus detect the optimal epoch number.\n",
    " \n",
    " \n",
    " 3. Save the optimal epoch number for later use.\n",
    " \n",
    "We again use early stopping callback which stops the training after 3 epochs of no validation `RMSE` improvement of the model."
   ]
  },
  {
   "cell_type": "code",
   "execution_count": 32,
   "id": "3172bb7e",
   "metadata": {
    "id": "3172bb7e",
    "outputId": "f5e18109-d113-444f-8252-96843eb76eeb"
   },
   "outputs": [
    {
     "name": "stdout",
     "output_type": "stream",
     "text": [
      "Random number generator seed reset!\n",
      "Epoch 1/50\n",
      "431/431 [==============================] - 6s 13ms/step - loss: 892.0939 - root_mean_squared_error: 26.0257 - mean_absolute_error: 26.6640 - val_loss: 3403.5278 - val_root_mean_squared_error: 58.3398 - val_mean_absolute_error: 56.3570\n",
      "Epoch 2/50\n",
      "431/431 [==============================] - 5s 12ms/step - loss: 45.6615 - root_mean_squared_error: 6.7573 - mean_absolute_error: 5.2469 - val_loss: 35.3893 - val_root_mean_squared_error: 5.9489 - val_mean_absolute_error: 4.5132\n",
      "Epoch 3/50\n",
      "431/431 [==============================] - 6s 13ms/step - loss: 38.1585 - root_mean_squared_error: 6.1773 - mean_absolute_error: 4.7671 - val_loss: 39.3373 - val_root_mean_squared_error: 6.2719 - val_mean_absolute_error: 4.4594\n",
      "Epoch 4/50\n",
      "431/431 [==============================] - 5s 13ms/step - loss: 34.7131 - root_mean_squared_error: 5.8918 - mean_absolute_error: 4.5540 - val_loss: 31.5537 - val_root_mean_squared_error: 5.6173 - val_mean_absolute_error: 4.2315\n",
      "Epoch 5/50\n",
      "431/431 [==============================] - 6s 13ms/step - loss: 33.5279 - root_mean_squared_error: 5.7903 - mean_absolute_error: 4.4484 - val_loss: 30.4707 - val_root_mean_squared_error: 5.5200 - val_mean_absolute_error: 4.1803\n",
      "Epoch 6/50\n",
      "431/431 [==============================] - 4s 9ms/step - loss: 31.9999 - root_mean_squared_error: 5.6568 - mean_absolute_error: 4.3760 - val_loss: 30.2039 - val_root_mean_squared_error: 5.4958 - val_mean_absolute_error: 4.1301\n",
      "Epoch 7/50\n",
      "431/431 [==============================] - 4s 9ms/step - loss: 30.4160 - root_mean_squared_error: 5.5151 - mean_absolute_error: 4.2783 - val_loss: 31.1654 - val_root_mean_squared_error: 5.5826 - val_mean_absolute_error: 4.1809\n",
      "Epoch 8/50\n",
      "431/431 [==============================] - 4s 9ms/step - loss: 29.0588 - root_mean_squared_error: 5.3906 - mean_absolute_error: 4.1797 - val_loss: 36.2977 - val_root_mean_squared_error: 6.0248 - val_mean_absolute_error: 4.2791\n",
      "Epoch 9/50\n",
      "431/431 [==============================] - 4s 9ms/step - loss: 27.3230 - root_mean_squared_error: 5.2271 - mean_absolute_error: 4.0498 - val_loss: 31.9595 - val_root_mean_squared_error: 5.6533 - val_mean_absolute_error: 4.0945\n",
      "\n",
      "CNN best epoch: 6\n"
     ]
    }
   ],
   "source": [
    "# Build a new CNN model with the optimal hyperparameters \n",
    "cnn_tuned = cnn_tuner.hypermodel.build(best_cnn_hps)\n",
    "\n",
    "# Fit it to the whole training data for 50 epochs\n",
    "cnn_history = cnn_tuned.fit(X_train_32, y_train, \n",
    "                            validation_split=0.25,\n",
    "                            epochs=50, callbacks=[es_callback])\n",
    "\n",
    "# Get the RMSE of every epoch and detect the number of the epoch\n",
    "# that has led to the best result\n",
    "cnn_rmse_epoch = cnn_history.history['val_root_mean_squared_error']\n",
    "best_cnn_epoch = cnn_rmse_epoch.index(min(cnn_rmse_epoch)) + 1\n",
    "print('\\nCNN best epoch: %d' % (best_cnn_epoch,))"
   ]
  },
  {
   "cell_type": "code",
   "execution_count": 161,
   "id": "71fde207",
   "metadata": {},
   "outputs": [
    {
     "data": {
      "image/png": "[encoded data removed]",
      "text/plain": [
       "<Figure size 504x432 with 1 Axes>"
      ]
     },
     "metadata": {},
     "output_type": "display_data"
    }
   ],
   "source": [
    "# Plot the training loss curve of our finalised CNN model\n",
    "plot_history(cnn_history, 'Hypertuned CNN')"
   ]
  },
  {
   "cell_type": "markdown",
   "id": "11300fd2",
   "metadata": {},
   "source": [
    "The best hypertuned `CNN` model produces an `RMSE` of $\\approx 5.4958$ on epoch 6/50 (due to early stopping). Now that we have the optimal number of epochs (6) for our `CNN`, we use it in a new fitting procedure to obtain the best hypertuned `CNN` model performance. Then, we can take the fitted model and save it as our finalised `CNN` which we can test for generalisability on unseen data instances."
   ]
  },
  {
   "cell_type": "code",
   "execution_count": 34,
   "id": "jgN7iQrCO0Te",
   "metadata": {
    "id": "jgN7iQrCO0Te"
   },
   "outputs": [
    {
     "name": "stdout",
     "output_type": "stream",
     "text": [
      "Random number generator seed reset!\n",
      "Epoch 1/6\n",
      "431/431 [==============================] - 4s 9ms/step - loss: 892.0939 - root_mean_squared_error: 26.0204 - mean_absolute_error: 21.0216 - val_loss: 3403.5278 - val_root_mean_squared_error: 58.3398 - val_mean_absolute_error: 56.3570\n",
      "Epoch 2/6\n",
      "431/431 [==============================] - 4s 8ms/step - loss: 45.6615 - root_mean_squared_error: 6.7573 - mean_absolute_error: 5.2469 - val_loss: 35.3893 - val_root_mean_squared_error: 5.9489 - val_mean_absolute_error: 4.5132\n",
      "Epoch 3/6\n",
      "431/431 [==============================] - 4s 8ms/step - loss: 38.1585 - root_mean_squared_error: 6.1773 - mean_absolute_error: 4.7671 - val_loss: 39.3373 - val_root_mean_squared_error: 6.2719 - val_mean_absolute_error: 4.4594\n",
      "Epoch 4/6\n",
      "431/431 [==============================] - 4s 8ms/step - loss: 34.7131 - root_mean_squared_error: 5.8918 - mean_absolute_error: 4.5540 - val_loss: 31.5537 - val_root_mean_squared_error: 5.6173 - val_mean_absolute_error: 4.2315\n",
      "Epoch 5/6\n",
      "431/431 [==============================] - 4s 9ms/step - loss: 33.5279 - root_mean_squared_error: 5.7903 - mean_absolute_error: 4.4484 - val_loss: 30.4707 - val_root_mean_squared_error: 5.5200 - val_mean_absolute_error: 4.1803\n",
      "Epoch 6/6\n",
      "431/431 [==============================] - 4s 9ms/step - loss: 31.9999 - root_mean_squared_error: 5.6568 - mean_absolute_error: 4.3760 - val_loss: 30.2039 - val_root_mean_squared_error: 5.4958 - val_mean_absolute_error: 4.1301\n"
     ]
    }
   ],
   "source": [
    "# Create a TensorBoard callback for visualising the results after hypertuning\n",
    "tb_callback = tf.keras.callbacks.\\\n",
    "    TensorBoard(f'cnn_final_results/cnn_logs', profile_batch=0)\n",
    "\n",
    "# Rebuild our final CNN model\n",
    "cnn_hypermodel = cnn_tuner.hypermodel.build(best_cnn_hps)\n",
    "\n",
    "# Retrain the model using the best training loss epoch obtained\n",
    "# previously and finalise the CNN (use an early stopping just in case)\n",
    "cnn_hyper_history = cnn_hypermodel.fit(X_train_32, y_train,\n",
    "                                       validation_split=0.25,\n",
    "                                       epochs=best_cnn_epoch, \n",
    "                                       callbacks=[tb_callback, es_callback])"
   ]
  },
  {
   "cell_type": "markdown",
   "id": "c2d37065",
   "metadata": {},
   "source": [
    "Our final `CNN` model outputs (again) an `RMSE` of $\\approx 5.4958$. This is an improvement (drop) of $\\approx 2.56\\%$ (from 5.6403) in contrast to the default `CNN` model training loss performance. As for the default `MLP` model, this percentage jumps to $\\approx 5.77\\%$ (from 5.8323)."
   ]
  },
  {
   "cell_type": "code",
   "execution_count": 162,
   "id": "-kTgn-Y5nxqY",
   "metadata": {
    "id": "-kTgn-Y5nxqY"
   },
   "outputs": [
    {
     "data": {
      "image/png": "[encoded data removed]",
      "text/plain": [
       "<Figure size 504x432 with 1 Axes>"
      ]
     },
     "metadata": {},
     "output_type": "display_data"
    }
   ],
   "source": [
    "# Plot the training loss curve of our finalised CNN model\n",
    "plot_history(cnn_hyper_history, 'Hypertuned CNN')"
   ]
  },
  {
   "cell_type": "markdown",
   "id": "aee40e6c",
   "metadata": {},
   "source": [
    "We see that the `CNN` hypermodel performance is improving over time, meaning that it is learning. Also, it reaches a plateau considerably early which is a sign that the hypertuned model could benefit from a lower learning rate. Currently, the `CNN` hypermodel employs a learning rate of 0.001 which is the default of the `Adam` optimiser. We leave such retuning procedure as a future work due to time constraints."
   ]
  },
  {
   "cell_type": "code",
   "execution_count": 177,
   "id": "eOQFQ9oePLZu",
   "metadata": {
    "id": "eOQFQ9oePLZu"
   },
   "outputs": [
    {
     "name": "stdout",
     "output_type": "stream",
     "text": [
      "144/144 [==============================] - 1s 6ms/step - loss: 28.7404 - root_mean_squared_error: 5.3610 - mean_absolute_error: 4.0238\n"
     ]
    },
    {
     "data": {
      "text/html": [
       "<div>\n",
       "<style scoped>\n",
       "    .dataframe tbody tr th:only-of-type {\n",
       "        vertical-align: middle;\n",
       "    }\n",
       "\n",
       "    .dataframe tbody tr th {\n",
       "        vertical-align: top;\n",
       "    }\n",
       "\n",
       "    .dataframe thead th {\n",
       "        text-align: right;\n",
       "    }\n",
       "</style>\n",
       "<table border=\"1\" class=\"dataframe\">\n",
       "  <thead>\n",
       "    <tr style=\"text-align: right;\">\n",
       "      <th></th>\n",
       "      <th>CNN Test Loss</th>\n",
       "    </tr>\n",
       "  </thead>\n",
       "  <tbody>\n",
       "    <tr>\n",
       "      <th>MSE</th>\n",
       "      <td>28.740444</td>\n",
       "    </tr>\n",
       "    <tr>\n",
       "      <th>RMSE</th>\n",
       "      <td>5.361012</td>\n",
       "    </tr>\n",
       "    <tr>\n",
       "      <th>MAE</th>\n",
       "      <td>4.023798</td>\n",
       "    </tr>\n",
       "  </tbody>\n",
       "</table>\n",
       "</div>"
      ],
      "text/plain": [
       "      CNN Test Loss\n",
       "MSE       28.740444\n",
       "RMSE       5.361012\n",
       "MAE        4.023798"
      ]
     },
     "execution_count": 177,
     "metadata": {},
     "output_type": "execute_result"
    }
   ],
   "source": [
    "cnn_eval_result = cnn_hypermodel.evaluate(X_test_32, y_test)\n",
    "cnn_final_df = pd.DataFrame(cnn_eval_result, index=['MSE', 'RMSE', 'MAE'], columns=['CNN Test Loss'])\n",
    "cnn_final_df"
   ]
  },
  {
   "cell_type": "markdown",
   "id": "72e3d9e6",
   "metadata": {},
   "source": [
    "The `CNN` hypermodel holdout test set evaluation presents an `RMSE` decrease of $\\approx 3.2\\%$. We can consider this as a fair improvement to the baseline `CNN` we evaluated earlier standing at $\\approx 5.5384$ `RMSE`."
   ]
  },
  {
   "cell_type": "markdown",
   "id": "threaded-laptop",
   "metadata": {
    "id": "threaded-laptop"
   },
   "source": [
    "##### MLP Hypertuning"
   ]
  },
  {
   "cell_type": "code",
   "execution_count": 37,
   "id": "governmental-poison",
   "metadata": {
    "colab": {
     "base_uri": "https://localhost:8080/"
    },
    "executionInfo": {
     "elapsed": 1764590,
     "status": "ok",
     "timestamp": 1635943226668,
     "user": {
      "displayName": "Casp3r",
      "photoUrl": "https://lh3.googleusercontent.com/a/default-user=s64",
      "userId": "17722606493291528264"
     },
     "user_tz": 0
    },
    "id": "governmental-poison",
    "outputId": "c5c01c69-5159-4a16-c447-3d287ce76c3d"
   },
   "outputs": [
    {
     "name": "stdout",
     "output_type": "stream",
     "text": [
      "INFO:tensorflow:Reloading Oracle from existing project mlp_tuner_results\\mlp\\oracle.json\n",
      "Random number generator seed reset!\n",
      "INFO:tensorflow:Reloading Tuner from mlp_tuner_results\\mlp\\tuner0.json\n",
      "INFO:tensorflow:Oracle triggered exit\n",
      "Random number generator seed reset!\n"
     ]
    }
   ],
   "source": [
    "# Run the hypertuning procedure for the MLP model\n",
    "mlp_tuner, best_mlp_model, best_mlp_hps = run_hypertune(mlp_builder, 'mlp')"
   ]
  },
  {
   "cell_type": "code",
   "execution_count": 303,
   "id": "robust-bachelor",
   "metadata": {
    "id": "robust-bachelor",
    "outputId": "6d96e95b-e872-4231-8536-c197ac78fd50"
   },
   "outputs": [
    {
     "name": "stdout",
     "output_type": "stream",
     "text": [
      "The MLP hypertuning is complete. Printing best model hyperparameter configuration results...\n",
      "\n",
      "Results summary\n",
      "Results in mlp_tuner_results\\mlp\n",
      "Showing 3 best trials\n",
      "Objective(name='val_root_mean_squared_error', direction='min')\n",
      "Trial summary\n",
      "Hyperparameters:\n",
      "dense_units_1: 128\n",
      "dense_units_2: 96\n",
      "learning_rate: 0.001\n",
      "batch_size: 32\n",
      "tuner/epochs: 30\n",
      "tuner/initial_epoch: 0\n",
      "tuner/bracket: 0\n",
      "tuner/round: 0\n",
      "Score: 5.8923749923706055\n",
      "Trial summary\n",
      "Hyperparameters:\n",
      "dense_units_1: 96\n",
      "dense_units_2: 64\n",
      "learning_rate: 0.001\n",
      "batch_size: 32\n",
      "tuner/epochs: 30\n",
      "tuner/initial_epoch: 0\n",
      "tuner/bracket: 0\n",
      "tuner/round: 0\n",
      "Score: 5.925454139709473\n",
      "Trial summary\n",
      "Hyperparameters:\n",
      "dense_units_1: 128\n",
      "dense_units_2: 64\n",
      "learning_rate: 0.01\n",
      "batch_size: 32\n",
      "tuner/epochs: 30\n",
      "tuner/initial_epoch: 10\n",
      "tuner/bracket: 3\n",
      "tuner/round: 3\n",
      "tuner/trial_id: d9f08085e07f5af5b27276f045deb49d\n",
      "Score: 5.9325408935546875\n",
      "\n",
      "Showing the best MLP model architecture summary...\n",
      "\n",
      "Model: \"sequential\"\n",
      "_________________________________________________________________\n",
      "Layer (type)                 Output Shape              Param #   \n",
      "=================================================================\n",
      "flatten (Flatten)            (None, 9216)              0         \n",
      "_________________________________________________________________\n",
      "dense (Dense)                (None, 128)               1179776   \n",
      "_________________________________________________________________\n",
      "dropout (Dropout)            (None, 128)               0         \n",
      "_________________________________________________________________\n",
      "dense_1 (Dense)              (None, 96)                12384     \n",
      "_________________________________________________________________\n",
      "dropout_1 (Dropout)          (None, 96)                0         \n",
      "_________________________________________________________________\n",
      "dense_2 (Dense)              (None, 1)                 97        \n",
      "=================================================================\n",
      "Total params: 1,192,257\n",
      "Trainable params: 1,192,257\n",
      "Non-trainable params: 0\n",
      "_________________________________________________________________\n"
     ]
    }
   ],
   "source": [
    "# Get the top 3 best performing model summary results\n",
    "print('The MLP hypertuning is complete.' +\n",
    "      ' Printing best model hyperparameter' +\n",
    "      ' configuration results...\\n')\n",
    "mlp_tuner.results_summary(3)\n",
    "\n",
    "# Print the model architecture summary\n",
    "print('\\nShowing the best MLP model architecture summary...\\n')\n",
    "best_mlp_model.summary()"
   ]
  },
  {
   "cell_type": "markdown",
   "id": "ea678a98",
   "metadata": {},
   "source": [
    "As a result, we obtain a validation `RMSE` of $\\approx 5.8924\\%$.\n",
    "\n",
    "We follow the same steps as for the `CNN` model previously:\n",
    "\n",
    " 1. Build a new `MLP` model with the acquired best hyperparameter settings.\n",
    " \n",
    " \n",
    " 2. Train the model for 50 epochs to cause overfitting and thus detect the optimal epoch number\n",
    " \n",
    " \n",
    " 3. Save the optimal epoch number to be used to obtain our final `MLP` model.\n",
    " \n",
    "The early stopping is set to `patience=3` again."
   ]
  },
  {
   "cell_type": "code",
   "execution_count": 40,
   "id": "terminal-grammar",
   "metadata": {
    "id": "terminal-grammar"
   },
   "outputs": [
    {
     "name": "stdout",
     "output_type": "stream",
     "text": [
      "Random number generator seed reset!\n",
      "Epoch 1/50\n",
      "431/431 [==============================] - 2s 5ms/step - loss: 127.1021 - root_mean_squared_error: 10.1322 - mean_absolute_error: 7.3655 - val_loss: 58.1037 - val_root_mean_squared_error: 7.6226 - val_mean_absolute_error: 5.4850\n",
      "Epoch 2/50\n",
      "431/431 [==============================] - 2s 5ms/step - loss: 70.8513 - root_mean_squared_error: 8.4173 - mean_absolute_error: 6.4248 - val_loss: 49.9655 - val_root_mean_squared_error: 7.0686 - val_mean_absolute_error: 5.0033\n",
      "Epoch 3/50\n",
      "431/431 [==============================] - 2s 5ms/step - loss: 62.9393 - root_mean_squared_error: 7.9334 - mean_absolute_error: 6.0641 - val_loss: 46.3918 - val_root_mean_squared_error: 6.8112 - val_mean_absolute_error: 4.8580\n",
      "Epoch 4/50\n",
      "431/431 [==============================] - 2s 5ms/step - loss: 59.5503 - root_mean_squared_error: 7.7169 - mean_absolute_error: 5.9529 - val_loss: 47.5282 - val_root_mean_squared_error: 6.8941 - val_mean_absolute_error: 5.0666\n",
      "Epoch 5/50\n",
      "431/431 [==============================] - 2s 5ms/step - loss: 56.2894 - root_mean_squared_error: 7.5026 - mean_absolute_error: 5.7895 - val_loss: 42.0963 - val_root_mean_squared_error: 6.4882 - val_mean_absolute_error: 4.7023\n",
      "Epoch 6/50\n",
      "431/431 [==============================] - 2s 5ms/step - loss: 52.1801 - root_mean_squared_error: 7.2236 - mean_absolute_error: 5.6215 - val_loss: 46.2582 - val_root_mean_squared_error: 6.8013 - val_mean_absolute_error: 5.1363\n",
      "Epoch 7/50\n",
      "431/431 [==============================] - 2s 5ms/step - loss: 50.3931 - root_mean_squared_error: 7.0988 - mean_absolute_error: 5.5344 - val_loss: 46.5506 - val_root_mean_squared_error: 6.8228 - val_mean_absolute_error: 5.2409\n",
      "Epoch 8/50\n",
      "431/431 [==============================] - 2s 4ms/step - loss: 47.4614 - root_mean_squared_error: 6.8892 - mean_absolute_error: 5.3942 - val_loss: 39.7633 - val_root_mean_squared_error: 6.3058 - val_mean_absolute_error: 4.7375\n",
      "Epoch 9/50\n",
      "431/431 [==============================] - 2s 5ms/step - loss: 47.3663 - root_mean_squared_error: 6.8823 - mean_absolute_error: 5.3774 - val_loss: 37.3763 - val_root_mean_squared_error: 6.1136 - val_mean_absolute_error: 4.5481\n",
      "Epoch 10/50\n",
      "431/431 [==============================] - 2s 5ms/step - loss: 44.3693 - root_mean_squared_error: 6.6610 - mean_absolute_error: 5.2339 - val_loss: 37.7415 - val_root_mean_squared_error: 6.1434 - val_mean_absolute_error: 4.5566\n",
      "Epoch 11/50\n",
      "431/431 [==============================] - 2s 5ms/step - loss: 42.6315 - root_mean_squared_error: 6.5293 - mean_absolute_error: 5.1204 - val_loss: 50.1107 - val_root_mean_squared_error: 7.0789 - val_mean_absolute_error: 5.6027\n",
      "Epoch 12/50\n",
      "431/431 [==============================] - 2s 5ms/step - loss: 43.2035 - root_mean_squared_error: 6.5729 - mean_absolute_error: 5.1726 - val_loss: 37.1055 - val_root_mean_squared_error: 6.0914 - val_mean_absolute_error: 4.5196\n",
      "Epoch 13/50\n",
      "431/431 [==============================] - 2s 5ms/step - loss: 42.3357 - root_mean_squared_error: 6.5066 - mean_absolute_error: 5.1035 - val_loss: 35.5836 - val_root_mean_squared_error: 5.9652 - val_mean_absolute_error: 4.4330\n",
      "Epoch 14/50\n",
      "431/431 [==============================] - 2s 5ms/step - loss: 40.8393 - root_mean_squared_error: 6.3906 - mean_absolute_error: 5.0134 - val_loss: 36.2649 - val_root_mean_squared_error: 6.0220 - val_mean_absolute_error: 4.4812\n",
      "Epoch 15/50\n",
      "431/431 [==============================] - 2s 5ms/step - loss: 39.5602 - root_mean_squared_error: 6.2897 - mean_absolute_error: 4.9087 - val_loss: 35.7889 - val_root_mean_squared_error: 5.9824 - val_mean_absolute_error: 4.4066\n",
      "Epoch 16/50\n",
      "431/431 [==============================] - 2s 5ms/step - loss: 38.6742 - root_mean_squared_error: 6.2189 - mean_absolute_error: 4.8712 - val_loss: 34.7201 - val_root_mean_squared_error: 5.8924 - val_mean_absolute_error: 4.3873\n",
      "Epoch 17/50\n",
      "431/431 [==============================] - 2s 5ms/step - loss: 38.9631 - root_mean_squared_error: 6.2420 - mean_absolute_error: 4.9031 - val_loss: 36.3763 - val_root_mean_squared_error: 6.0313 - val_mean_absolute_error: 4.4558\n",
      "Epoch 18/50\n",
      "431/431 [==============================] - 2s 5ms/step - loss: 36.7216 - root_mean_squared_error: 6.0598 - mean_absolute_error: 4.7424 - val_loss: 34.8564 - val_root_mean_squared_error: 5.9039 - val_mean_absolute_error: 4.3699\n",
      "Epoch 19/50\n",
      "431/431 [==============================] - 2s 5ms/step - loss: 36.8194 - root_mean_squared_error: 6.0679 - mean_absolute_error: 4.7422 - val_loss: 35.2410 - val_root_mean_squared_error: 5.9364 - val_mean_absolute_error: 4.3465\n",
      "\n",
      "MLP best epoch: 16\n"
     ]
    }
   ],
   "source": [
    "# Build the model with the optimal hyperparameters \n",
    "# and train it on the data for 50 epochs\n",
    "mlp_tuned = mlp_tuner.hypermodel.build(best_mlp_hps)\n",
    "mlp_tuned_history = mlp_tuned.fit(X_train_32, y_train, epochs=50, \n",
    "                                  validation_split=validation_split,\n",
    "                                  callbacks=[es_callback])\n",
    "\n",
    "# Get the RMSE of every epoch and detect the number of the epoch\n",
    "# that has led to the best result\n",
    "mlp_rmse_epoch = mlp_tuned_history.history['val_root_mean_squared_error']\n",
    "best_mlp_epoch = mlp_rmse_epoch.index(min(mlp_rmse_epoch)) + 1\n",
    "print('\\nMLP best epoch: %d' % (best_mlp_epoch,))"
   ]
  },
  {
   "cell_type": "markdown",
   "id": "818fe3ff",
   "metadata": {},
   "source": [
    "Next, we proceed to finalising our `MLP` model using the best epoch number of 16."
   ]
  },
  {
   "cell_type": "code",
   "execution_count": 43,
   "id": "Xj8UlqiZPfiR",
   "metadata": {
    "id": "Xj8UlqiZPfiR"
   },
   "outputs": [
    {
     "name": "stdout",
     "output_type": "stream",
     "text": [
      "Random number generator seed reset!\n",
      "Epoch 1/16\n",
      "431/431 [==============================] - 3s 5ms/step - loss: 127.1021 - root_mean_squared_error: 10.2047 - mean_absolute_error: 7.2344 - val_loss: 58.1037 - val_root_mean_squared_error: 7.6226 - val_mean_absolute_error: 5.4850\n",
      "Epoch 2/16\n",
      "431/431 [==============================] - 2s 5ms/step - loss: 70.8513 - root_mean_squared_error: 8.4173 - mean_absolute_error: 6.4248 - val_loss: 49.9655 - val_root_mean_squared_error: 7.0686 - val_mean_absolute_error: 5.0033\n",
      "Epoch 3/16\n",
      "431/431 [==============================] - 2s 5ms/step - loss: 62.9393 - root_mean_squared_error: 7.9334 - mean_absolute_error: 6.0641 - val_loss: 46.3918 - val_root_mean_squared_error: 6.8112 - val_mean_absolute_error: 4.8580\n",
      "Epoch 4/16\n",
      "431/431 [==============================] - 2s 5ms/step - loss: 59.5503 - root_mean_squared_error: 7.7169 - mean_absolute_error: 5.9529 - val_loss: 47.5282 - val_root_mean_squared_error: 6.8941 - val_mean_absolute_error: 5.0666\n",
      "Epoch 5/16\n",
      "431/431 [==============================] - 2s 5ms/step - loss: 56.2894 - root_mean_squared_error: 7.5026 - mean_absolute_error: 5.7895 - val_loss: 42.0963 - val_root_mean_squared_error: 6.4882 - val_mean_absolute_error: 4.7023\n",
      "Epoch 6/16\n",
      "431/431 [==============================] - 2s 5ms/step - loss: 52.1801 - root_mean_squared_error: 7.2236 - mean_absolute_error: 5.6215 - val_loss: 46.2582 - val_root_mean_squared_error: 6.8013 - val_mean_absolute_error: 5.1363\n",
      "Epoch 7/16\n",
      "431/431 [==============================] - 2s 5ms/step - loss: 50.3931 - root_mean_squared_error: 7.0988 - mean_absolute_error: 5.5344 - val_loss: 46.5506 - val_root_mean_squared_error: 6.8228 - val_mean_absolute_error: 5.2409\n",
      "Epoch 8/16\n",
      "431/431 [==============================] - 2s 5ms/step - loss: 47.4614 - root_mean_squared_error: 6.8892 - mean_absolute_error: 5.3942 - val_loss: 39.7633 - val_root_mean_squared_error: 6.3058 - val_mean_absolute_error: 4.7375\n",
      "Epoch 9/16\n",
      "431/431 [==============================] - 2s 5ms/step - loss: 47.3663 - root_mean_squared_error: 6.8823 - mean_absolute_error: 5.3774 - val_loss: 37.3763 - val_root_mean_squared_error: 6.1136 - val_mean_absolute_error: 4.5481\n",
      "Epoch 10/16\n",
      "431/431 [==============================] - 2s 5ms/step - loss: 44.3693 - root_mean_squared_error: 6.6610 - mean_absolute_error: 5.2339 - val_loss: 37.7415 - val_root_mean_squared_error: 6.1434 - val_mean_absolute_error: 4.5566\n",
      "Epoch 11/16\n",
      "431/431 [==============================] - 2s 5ms/step - loss: 42.6315 - root_mean_squared_error: 6.5293 - mean_absolute_error: 5.1204 - val_loss: 50.1107 - val_root_mean_squared_error: 7.0789 - val_mean_absolute_error: 5.6027\n",
      "Epoch 12/16\n",
      "431/431 [==============================] - 2s 5ms/step - loss: 43.2035 - root_mean_squared_error: 6.5729 - mean_absolute_error: 5.1726 - val_loss: 37.1055 - val_root_mean_squared_error: 6.0914 - val_mean_absolute_error: 4.5196\n",
      "Epoch 13/16\n",
      "431/431 [==============================] - 2s 5ms/step - loss: 42.3357 - root_mean_squared_error: 6.5066 - mean_absolute_error: 5.1035 - val_loss: 35.5836 - val_root_mean_squared_error: 5.9652 - val_mean_absolute_error: 4.4330\n",
      "Epoch 14/16\n",
      "431/431 [==============================] - 2s 5ms/step - loss: 40.8393 - root_mean_squared_error: 6.3906 - mean_absolute_error: 5.0134 - val_loss: 36.2649 - val_root_mean_squared_error: 6.0220 - val_mean_absolute_error: 4.4812\n",
      "Epoch 15/16\n",
      "431/431 [==============================] - 2s 5ms/step - loss: 39.5602 - root_mean_squared_error: 6.2897 - mean_absolute_error: 4.9087 - val_loss: 35.7889 - val_root_mean_squared_error: 5.9824 - val_mean_absolute_error: 4.4066\n",
      "Epoch 16/16\n",
      "431/431 [==============================] - 2s 5ms/step - loss: 38.6742 - root_mean_squared_error: 6.2189 - mean_absolute_error: 4.8712 - val_loss: 34.7201 - val_root_mean_squared_error: 5.8924 - val_mean_absolute_error: 4.3873\n"
     ]
    }
   ],
   "source": [
    "# Create a TensorBoard callback for visualising the results after hypertuning\n",
    "tb_callback = tf.keras.callbacks.TensorBoard(f'mlp_final_results/mlp_logs', \\\n",
    "                                             profile_batch=0)\n",
    "\n",
    "# Rebuild the MLP model for one last time\n",
    "mlp_hypermodel_final = mlp_tuner.hypermodel.build(best_mlp_hps)\n",
    "\n",
    "# Retrain the model\n",
    "mlp_final_history = mlp_hypermodel_final.fit(X_train_32, y_train, epochs=best_mlp_epoch,\n",
    "                                             validation_split=validation_split,\n",
    "                                             callbacks=[es_callback, tb_callback])"
   ]
  },
  {
   "cell_type": "markdown",
   "id": "d875851a",
   "metadata": {},
   "source": [
    "The obtained `RMSE` is at $\\approx 5.8924$. This is a sign that we might have missed the right values for our hyperparameter space regarding the `MLP`."
   ]
  },
  {
   "cell_type": "code",
   "execution_count": 163,
   "id": "LpavroC9pDwo",
   "metadata": {
    "id": "LpavroC9pDwo"
   },
   "outputs": [
    {
     "data": {
      "image/png": "[encoded data removed]",
      "text/plain": [
       "<Figure size 504x432 with 1 Axes>"
      ]
     },
     "metadata": {},
     "output_type": "display_data"
    }
   ],
   "source": [
    "# Plot the MLP training and validation RMSE loss curves\n",
    "plot_history(mlp_final_history, 'Hypertuned Final MLP')"
   ]
  },
  {
   "cell_type": "markdown",
   "id": "0c6ab2c0",
   "metadata": {},
   "source": [
    "The loss curves of the hypertuned `MLP` hypermodel indicate a progressive learning of the model. However, compared to the `CNN`, it seems that the `MLP` hypermodel would benefit from a slightly higher learning rate. Also, it does not reaches a plateau but the validation curve fluctates at times which might have caused the early stopping. Therefore, improvements to consider in the future are exploring a wider range of hyperparameter values."
   ]
  },
  {
   "cell_type": "code",
   "execution_count": 176,
   "id": "8kvESmhNN5hy",
   "metadata": {
    "id": "8kvESmhNN5hy"
   },
   "outputs": [
    {
     "name": "stdout",
     "output_type": "stream",
     "text": [
      "144/144 [==============================] - 1s 6ms/step - loss: 33.3451 - root_mean_squared_error: 5.7745 - mean_absolute_error: 4.3058\n"
     ]
    },
    {
     "data": {
      "text/html": [
       "<div>\n",
       "<style scoped>\n",
       "    .dataframe tbody tr th:only-of-type {\n",
       "        vertical-align: middle;\n",
       "    }\n",
       "\n",
       "    .dataframe tbody tr th {\n",
       "        vertical-align: top;\n",
       "    }\n",
       "\n",
       "    .dataframe thead th {\n",
       "        text-align: right;\n",
       "    }\n",
       "</style>\n",
       "<table border=\"1\" class=\"dataframe\">\n",
       "  <thead>\n",
       "    <tr style=\"text-align: right;\">\n",
       "      <th></th>\n",
       "      <th>MLP Test Loss</th>\n",
       "    </tr>\n",
       "  </thead>\n",
       "  <tbody>\n",
       "    <tr>\n",
       "      <th>MSE</th>\n",
       "      <td>33.345062</td>\n",
       "    </tr>\n",
       "    <tr>\n",
       "      <th>RMSE</th>\n",
       "      <td>5.774518</td>\n",
       "    </tr>\n",
       "    <tr>\n",
       "      <th>MAE</th>\n",
       "      <td>4.305819</td>\n",
       "    </tr>\n",
       "  </tbody>\n",
       "</table>\n",
       "</div>"
      ],
      "text/plain": [
       "      MLP Test Loss\n",
       "MSE       33.345062\n",
       "RMSE       5.774518\n",
       "MAE        4.305819"
      ]
     },
     "execution_count": 176,
     "metadata": {},
     "output_type": "execute_result"
    }
   ],
   "source": [
    "# Evaluate the model on the holdout test set and store the result \n",
    "# in a Pandas data frame which we use for plotting later\n",
    "mlp_final_eval = mlp_hypermodel_final.evaluate(X_test_32, y_test)\n",
    "mlp_final_df = pd.DataFrame(mlp_final_eval, index=['MSE', 'RMSE', 'MAE'], columns=['MLP Test Loss'])\n",
    "mlp_final_df"
   ]
  },
  {
   "cell_type": "markdown",
   "id": "8f81b182",
   "metadata": {},
   "source": [
    "Here, we actually observe an increase of $\\approx 0.2\\%$ in `RMSE` regarding the baseline `MLP` model. This outcome is, indeed, quite surprising but it also indicates that we might have experimented with the wrong hyperparameter search space for the `MLP`. However, as mentioned previously, we leave retuning as a future research task."
   ]
  },
  {
   "cell_type": "markdown",
   "id": "american-union",
   "metadata": {
    "id": "american-union"
   },
   "source": [
    "## Subtask d. Cross-Validation\n",
    "\n",
    "- To begin with, Cross-Validation (CV) is employed as a first-order measure of model stability. It is not intended for predicting performance in real-world scenarios (unseen data). The only way to achieve this is to test the finalised model on a real-world setting exploiting its generalisation ability.\n",
    "\n",
    "\n",
    "- CV provides a risk analysis about architectures. Given that a model appears to be stable, one may decide to run the model through a real-world test.\n",
    "\n",
    "\n",
    "- As a tuning approach, CV produces only one output &mdash; a model (or component of a model such as the best hyperparameter). It does not offer a model evaluation since it must be performed on an independent test set, which is why we set a holdout data aside exactly for that. \n",
    "\n",
    "\n",
    "- The final model is created using the whole training set rather than taking any of the individual CV fold models. CV assesses the performance stability of the model or in other words its generalisability. \n",
    "\n",
    "\n",
    "- Without CV we would be picking based solely on the maximum performance without concern to its robustness. \n",
    "\n",
    "\n",
    "We define a simple `KFold` CV function as follows:"
   ]
  },
  {
   "cell_type": "code",
   "execution_count": 81,
   "id": "reverse-digit",
   "metadata": {
    "id": "reverse-digit"
   },
   "outputs": [],
   "source": [
    "from sklearn.model_selection import KFold\n",
    "\n",
    "def model_cv(model_type, images, labels, errors_dict, folds=5):\n",
    "    \"\"\"\n",
    "    Cross-validate a model\n",
    "    Adapted from: https://www.machinecurve.com/index.php/2020/02/18/how-to-use-k-fold-cross-validation-with-keras/\n",
    "    \"\"\"\n",
    "    # Get the appropriate tuner and hyperparameters\n",
    "    # specified the model_type argument. We pick\n",
    "    # between CNN and MLP tuners and hyperparameters\n",
    "    if model_type == 'cnn':\n",
    "        tuner = cnn_tuner\n",
    "        hps = best_cnn_hps\n",
    "    else:\n",
    "        tuner = mlp_tuner\n",
    "        hps = best_mlp_hps\n",
    "        \n",
    "    # Define the k-fold CV (default folds = 5)\n",
    "    cv = KFold(n_splits=folds, shuffle=True, random_state=1337)\n",
    "\n",
    "    # Start the CV loop\n",
    "    fold_no = 1  # Initialise the fold number\n",
    "    for train, test in cv.split(images, labels):\n",
    "        \n",
    "        # For better visualisation of the procedure\n",
    "        print('-'*40)\n",
    "        print(f'Fold {fold_no}')\n",
    "        print('-'*40)\n",
    "        \n",
    "        # Get the model architecture\n",
    "        model = tuner.hypermodel.build(hps)\n",
    "        \n",
    "        # Compile the model\n",
    "        model.compile(loss=loss_function,\\\n",
    "                      optimizer=optimiser,\\\n",
    "                      metrics=metrics)\n",
    "\n",
    "        # Fit data to model\n",
    "        history = model.fit(images[train], labels[train],\\\n",
    "                            batch_size=batch_size,\\\n",
    "                            epochs=5,\\\n",
    "                            verbose=verbosity)\n",
    "\n",
    "        # Generate generalisation metrics\n",
    "        scores = model.evaluate(images[test], labels[test], verbose=0)\n",
    "        errors_dict['MSE'].append(scores[0])\n",
    "        errors_dict['RMSE'].append(scores[1])\n",
    "        errors_dict['MAE'].append(scores[2])\n",
    "        \n",
    "        # Increment the fold number\n",
    "        fold_no += 1"
   ]
  },
  {
   "cell_type": "markdown",
   "id": "alpha-growth",
   "metadata": {
    "id": "alpha-growth"
   },
   "source": [
    "### Cross-Validating the CNN Model"
   ]
  },
  {
   "cell_type": "code",
   "execution_count": 82,
   "id": "55cb47ac",
   "metadata": {
    "id": "latin-isolation",
    "outputId": "25cf1d1e-826e-4584-f5a2-2448aef99399"
   },
   "outputs": [
    {
     "name": "stdout",
     "output_type": "stream",
     "text": [
      "----------------------------------------\n",
      "Fold 1\n",
      "----------------------------------------\n",
      "Random number generator seed reset!\n",
      "Epoch 1/5\n",
      "460/460 [==============================] - 6s 11ms/step - loss: 839.9001 - root_mean_squared_error: 29.4580 - mean_absolute_error: 25.6892\n",
      "Epoch 2/5\n",
      "460/460 [==============================] - 5s 10ms/step - loss: 43.9720 - root_mean_squared_error: 6.6311 - mean_absolute_error: 5.1514\n",
      "Epoch 3/5\n",
      "460/460 [==============================] - 4s 8ms/step - loss: 37.0192 - root_mean_squared_error: 6.0843 - mean_absolute_error: 4.6789\n",
      "Epoch 4/5\n",
      "460/460 [==============================] - 4s 8ms/step - loss: 34.7202 - root_mean_squared_error: 5.8924 - mean_absolute_error: 4.5520\n",
      "Epoch 5/5\n",
      "460/460 [==============================] - 4s 8ms/step - loss: 33.3514 - root_mean_squared_error: 5.7751 - mean_absolute_error: 4.4505\n",
      "----------------------------------------\n",
      "Fold 2\n",
      "----------------------------------------\n",
      "Random number generator seed reset!\n",
      "Epoch 1/5\n",
      "460/460 [==============================] - 4s 8ms/step - loss: 839.8525 - root_mean_squared_error: 26.0355 - mean_absolute_error: 21.1712\n",
      "Epoch 2/5\n",
      "460/460 [==============================] - 3s 8ms/step - loss: 43.6848 - root_mean_squared_error: 6.6094 - mean_absolute_error: 5.1251\n",
      "Epoch 3/5\n",
      "460/460 [==============================] - 3s 8ms/step - loss: 39.0403 - root_mean_squared_error: 6.2482 - mean_absolute_error: 4.8145\n",
      "Epoch 4/5\n",
      "460/460 [==============================] - 3s 8ms/step - loss: 35.8399 - root_mean_squared_error: 5.9866 - mean_absolute_error: 4.6097\n",
      "Epoch 5/5\n",
      "460/460 [==============================] - 4s 8ms/step - loss: 33.8866 - root_mean_squared_error: 5.8212 - mean_absolute_error: 4.4800\n",
      "----------------------------------------\n",
      "Fold 3\n",
      "----------------------------------------\n",
      "Random number generator seed reset!\n",
      "Epoch 1/5\n",
      "460/460 [==============================] - 4s 8ms/step - loss: 842.2531 - root_mean_squared_error: 26.0848 - mean_absolute_error: 21.3206\n",
      "Epoch 2/5\n",
      "460/460 [==============================] - 4s 8ms/step - loss: 43.2909 - root_mean_squared_error: 6.5796 - mean_absolute_error: 5.1009\n",
      "Epoch 3/5\n",
      "460/460 [==============================] - 4s 8ms/step - loss: 37.9717 - root_mean_squared_error: 6.1621 - mean_absolute_error: 4.7474\n",
      "Epoch 4/5\n",
      "460/460 [==============================] - 4s 8ms/step - loss: 36.4614 - root_mean_squared_error: 6.0383 - mean_absolute_error: 4.6567\n",
      "Epoch 5/5\n",
      "460/460 [==============================] - 4s 8ms/step - loss: 33.1281 - root_mean_squared_error: 5.7557 - mean_absolute_error: 4.4442\n",
      "----------------------------------------\n",
      "Fold 4\n",
      "----------------------------------------\n",
      "Random number generator seed reset!\n",
      "Epoch 1/5\n",
      "460/460 [==============================] - 4s 8ms/step - loss: 846.6011 - root_mean_squared_error: 26.2044 - mean_absolute_error: 21.5709\n",
      "Epoch 2/5\n",
      "460/460 [==============================] - 3s 8ms/step - loss: 44.4750 - root_mean_squared_error: 6.6690 - mean_absolute_error: 5.1844\n",
      "Epoch 3/5\n",
      "460/460 [==============================] - 3s 8ms/step - loss: 37.9212 - root_mean_squared_error: 6.1580 - mean_absolute_error: 4.7570\n",
      "Epoch 4/5\n",
      "460/460 [==============================] - 3s 8ms/step - loss: 36.5230 - root_mean_squared_error: 6.0434 - mean_absolute_error: 4.6607\n",
      "Epoch 5/5\n",
      "460/460 [==============================] - 3s 8ms/step - loss: 32.9611 - root_mean_squared_error: 5.7412 - mean_absolute_error: 4.4180\n",
      "----------------------------------------\n",
      "Fold 5\n",
      "----------------------------------------\n",
      "Random number generator seed reset!\n",
      "Epoch 1/5\n",
      "460/460 [==============================] - 4s 8ms/step - loss: 838.5289 - root_mean_squared_error: 26.0632 - mean_absolute_error: 21.3092\n",
      "Epoch 2/5\n",
      "460/460 [==============================] - 4s 8ms/step - loss: 45.0294 - root_mean_squared_error: 6.7104 - mean_absolute_error: 5.2058\n",
      "Epoch 3/5\n",
      "460/460 [==============================] - 4s 8ms/step - loss: 39.5423 - root_mean_squared_error: 6.2883 - mean_absolute_error: 4.8495\n",
      "Epoch 4/5\n",
      "460/460 [==============================] - 3s 8ms/step - loss: 37.2156 - root_mean_squared_error: 6.1005 - mean_absolute_error: 4.6996\n",
      "Epoch 5/5\n",
      "460/460 [==============================] - 3s 7ms/step - loss: 34.7122 - root_mean_squared_error: 5.8917 - mean_absolute_error: 4.5336\n"
     ]
    }
   ],
   "source": [
    "# Create a dictionary to hold the evaluation\n",
    "# scores (on the validation set) after each fold\n",
    "cnn_error_scores = {\n",
    "    'MSE': [],\n",
    "    'RMSE': [],\n",
    "    'MAE': []\n",
    "}\n",
    "\n",
    "# Use a 5-fold cross-validation\n",
    "folds = 5\n",
    "\n",
    "# Run the cross-validation\n",
    "model_cv('cnn', X_train_32, y_train, cnn_error_scores, folds)"
   ]
  },
  {
   "cell_type": "code",
   "execution_count": 83,
   "id": "fec7989d",
   "metadata": {
    "id": "latin-isolation",
    "outputId": "25cf1d1e-826e-4584-f5a2-2448aef99399"
   },
   "outputs": [
    {
     "data": {
      "text/html": [
       "<div>\n",
       "<style scoped>\n",
       "    .dataframe tbody tr th:only-of-type {\n",
       "        vertical-align: middle;\n",
       "    }\n",
       "\n",
       "    .dataframe tbody tr th {\n",
       "        vertical-align: top;\n",
       "    }\n",
       "\n",
       "    .dataframe thead th {\n",
       "        text-align: right;\n",
       "    }\n",
       "</style>\n",
       "<table border=\"1\" class=\"dataframe\">\n",
       "  <thead>\n",
       "    <tr style=\"text-align: right;\">\n",
       "      <th></th>\n",
       "      <th>MSE</th>\n",
       "      <th>RMSE</th>\n",
       "      <th>MAE</th>\n",
       "    </tr>\n",
       "  </thead>\n",
       "  <tbody>\n",
       "    <tr>\n",
       "      <th>Fold 1</th>\n",
       "      <td>29.909220</td>\n",
       "      <td>5.468932</td>\n",
       "      <td>4.064506</td>\n",
       "    </tr>\n",
       "    <tr>\n",
       "      <th>Fold 2</th>\n",
       "      <td>33.171619</td>\n",
       "      <td>5.759481</td>\n",
       "      <td>4.393054</td>\n",
       "    </tr>\n",
       "    <tr>\n",
       "      <th>Fold 3</th>\n",
       "      <td>47.001015</td>\n",
       "      <td>6.855729</td>\n",
       "      <td>5.407125</td>\n",
       "    </tr>\n",
       "    <tr>\n",
       "      <th>Fold 4</th>\n",
       "      <td>42.207355</td>\n",
       "      <td>6.496719</td>\n",
       "      <td>4.887466</td>\n",
       "    </tr>\n",
       "    <tr>\n",
       "      <th>Fold 5</th>\n",
       "      <td>29.287195</td>\n",
       "      <td>5.411765</td>\n",
       "      <td>4.062128</td>\n",
       "    </tr>\n",
       "  </tbody>\n",
       "</table>\n",
       "</div>"
      ],
      "text/plain": [
       "              MSE      RMSE       MAE\n",
       "Fold 1  29.909220  5.468932  4.064506\n",
       "Fold 2  33.171619  5.759481  4.393054\n",
       "Fold 3  47.001015  6.855729  5.407125\n",
       "Fold 4  42.207355  6.496719  4.887466\n",
       "Fold 5  29.287195  5.411765  4.062128"
      ]
     },
     "execution_count": 83,
     "metadata": {},
     "output_type": "execute_result"
    }
   ],
   "source": [
    "# Create a Pandas data frame to hold the evaluation score results of each CV fold\n",
    "cnn_cv_df = pd.DataFrame(cnn_error_scores, index=[f'Fold {i+1}' for i in range(folds)])\n",
    "cnn_cv_df"
   ]
  },
  {
   "cell_type": "code",
   "execution_count": 84,
   "id": "86510a77",
   "metadata": {},
   "outputs": [
    {
     "data": {
      "text/html": [
       "<div>\n",
       "<style scoped>\n",
       "    .dataframe tbody tr th:only-of-type {\n",
       "        vertical-align: middle;\n",
       "    }\n",
       "\n",
       "    .dataframe tbody tr th {\n",
       "        vertical-align: top;\n",
       "    }\n",
       "\n",
       "    .dataframe thead th {\n",
       "        text-align: right;\n",
       "    }\n",
       "</style>\n",
       "<table border=\"1\" class=\"dataframe\">\n",
       "  <thead>\n",
       "    <tr style=\"text-align: right;\">\n",
       "      <th></th>\n",
       "      <th>MSE</th>\n",
       "      <th>RMSE</th>\n",
       "      <th>MAE</th>\n",
       "    </tr>\n",
       "  </thead>\n",
       "  <tbody>\n",
       "    <tr>\n",
       "      <th>count</th>\n",
       "      <td>5.000000</td>\n",
       "      <td>5.000000</td>\n",
       "      <td>5.000000</td>\n",
       "    </tr>\n",
       "    <tr>\n",
       "      <th>mean</th>\n",
       "      <td>36.315281</td>\n",
       "      <td>5.998525</td>\n",
       "      <td>4.562856</td>\n",
       "    </tr>\n",
       "    <tr>\n",
       "      <th>std</th>\n",
       "      <td>7.893283</td>\n",
       "      <td>0.645154</td>\n",
       "      <td>0.580103</td>\n",
       "    </tr>\n",
       "    <tr>\n",
       "      <th>min</th>\n",
       "      <td>29.287195</td>\n",
       "      <td>5.411765</td>\n",
       "      <td>4.062128</td>\n",
       "    </tr>\n",
       "    <tr>\n",
       "      <th>25%</th>\n",
       "      <td>29.909220</td>\n",
       "      <td>5.468932</td>\n",
       "      <td>4.064506</td>\n",
       "    </tr>\n",
       "    <tr>\n",
       "      <th>50%</th>\n",
       "      <td>33.171619</td>\n",
       "      <td>5.759481</td>\n",
       "      <td>4.393054</td>\n",
       "    </tr>\n",
       "    <tr>\n",
       "      <th>75%</th>\n",
       "      <td>42.207355</td>\n",
       "      <td>6.496719</td>\n",
       "      <td>4.887466</td>\n",
       "    </tr>\n",
       "    <tr>\n",
       "      <th>max</th>\n",
       "      <td>47.001015</td>\n",
       "      <td>6.855729</td>\n",
       "      <td>5.407125</td>\n",
       "    </tr>\n",
       "  </tbody>\n",
       "</table>\n",
       "</div>"
      ],
      "text/plain": [
       "             MSE      RMSE       MAE\n",
       "count   5.000000  5.000000  5.000000\n",
       "mean   36.315281  5.998525  4.562856\n",
       "std     7.893283  0.645154  0.580103\n",
       "min    29.287195  5.411765  4.062128\n",
       "25%    29.909220  5.468932  4.064506\n",
       "50%    33.171619  5.759481  4.393054\n",
       "75%    42.207355  6.496719  4.887466\n",
       "max    47.001015  6.855729  5.407125"
      ]
     },
     "execution_count": 84,
     "metadata": {},
     "output_type": "execute_result"
    }
   ],
   "source": [
    "# Describe the previously created evaluation data frame\n",
    "# showing the mean, max, std etc. values of each column\n",
    "cnn_cv_df.describe()"
   ]
  },
  {
   "cell_type": "markdown",
   "id": "142684a4",
   "metadata": {},
   "source": [
    "The hypertuned `CNN` evaluation data frame description displays the following critical info:\n",
    "\n",
    "- Mean `MSE` $= 36.3152$\n",
    "\n",
    "\n",
    "- Mean `RMSE` $= 5.9985$\n",
    "\n",
    "\n",
    "- Mean `MAE` $= 4.5629$\n",
    "\n",
    "Now, let us observe what the `MLP` hypertuned model outputs will be for the 5-fold CV procedure."
   ]
  },
  {
   "cell_type": "markdown",
   "id": "ranging-match",
   "metadata": {
    "id": "ranging-match"
   },
   "source": [
    "### Cross-Validating the MLP Model"
   ]
  },
  {
   "cell_type": "code",
   "execution_count": 85,
   "id": "assumed-swimming",
   "metadata": {
    "id": "assumed-swimming",
    "outputId": "1cacea07-ca0b-4485-81d7-b01aafa3c2d2"
   },
   "outputs": [
    {
     "name": "stdout",
     "output_type": "stream",
     "text": [
      "----------------------------------------\n",
      "Fold 1\n",
      "----------------------------------------\n",
      "Random number generator seed reset!\n",
      "Epoch 1/5\n",
      "460/460 [==============================] - 2s 4ms/step - loss: 124.9778 - root_mean_squared_error: 10.2879 - mean_absolute_error: 7.2829\n",
      "Epoch 2/5\n",
      "460/460 [==============================] - 2s 4ms/step - loss: 69.0478 - root_mean_squared_error: 8.3095 - mean_absolute_error: 6.3057\n",
      "Epoch 3/5\n",
      "460/460 [==============================] - 2s 4ms/step - loss: 63.3344 - root_mean_squared_error: 7.9583 - mean_absolute_error: 6.0740\n",
      "Epoch 4/5\n",
      "460/460 [==============================] - 2s 4ms/step - loss: 58.7827 - root_mean_squared_error: 7.6670 - mean_absolute_error: 5.8755\n",
      "Epoch 5/5\n",
      "460/460 [==============================] - 2s 4ms/step - loss: 55.6269 - root_mean_squared_error: 7.4583 - mean_absolute_error: 5.7462\n",
      "----------------------------------------\n",
      "Fold 2\n",
      "----------------------------------------\n",
      "Random number generator seed reset!\n",
      "Epoch 1/5\n",
      "460/460 [==============================] - 2s 4ms/step - loss: 125.8865 - root_mean_squared_error: 10.4036 - mean_absolute_error: 7.4335\n",
      "Epoch 2/5\n",
      "460/460 [==============================] - 2s 4ms/step - loss: 69.4808 - root_mean_squared_error: 8.3355 - mean_absolute_error: 6.3184\n",
      "Epoch 3/5\n",
      "460/460 [==============================] - 2s 4ms/step - loss: 63.1495 - root_mean_squared_error: 7.9467 - mean_absolute_error: 6.0557\n",
      "Epoch 4/5\n",
      "460/460 [==============================] - 2s 4ms/step - loss: 58.6134 - root_mean_squared_error: 7.6559 - mean_absolute_error: 5.8798\n",
      "Epoch 5/5\n",
      "460/460 [==============================] - 2s 4ms/step - loss: 55.0160 - root_mean_squared_error: 7.4173 - mean_absolute_error: 5.7325\n",
      "----------------------------------------\n",
      "Fold 3\n",
      "----------------------------------------\n",
      "Random number generator seed reset!\n",
      "Epoch 1/5\n",
      "460/460 [==============================] - 2s 4ms/step - loss: 124.0684 - root_mean_squared_error: 10.3798 - mean_absolute_error: 7.4722\n",
      "Epoch 2/5\n",
      "460/460 [==============================] - 2s 4ms/step - loss: 68.6421 - root_mean_squared_error: 8.2851 - mean_absolute_error: 6.2989\n",
      "Epoch 3/5\n",
      "460/460 [==============================] - 2s 4ms/step - loss: 62.9944 - root_mean_squared_error: 7.9369 - mean_absolute_error: 6.0673\n",
      "Epoch 4/5\n",
      "460/460 [==============================] - 2s 4ms/step - loss: 58.5507 - root_mean_squared_error: 7.6518 - mean_absolute_error: 5.8673\n",
      "Epoch 5/5\n",
      "460/460 [==============================] - 2s 4ms/step - loss: 55.0254 - root_mean_squared_error: 7.4179 - mean_absolute_error: 5.7287\n",
      "----------------------------------------\n",
      "Fold 4\n",
      "----------------------------------------\n",
      "Random number generator seed reset!\n",
      "Epoch 1/5\n",
      "460/460 [==============================] - 2s 4ms/step - loss: 125.8362 - root_mean_squared_error: 10.4448 - mean_absolute_error: 7.4724\n",
      "Epoch 2/5\n",
      "460/460 [==============================] - 2s 4ms/step - loss: 69.1414 - root_mean_squared_error: 8.3151 - mean_absolute_error: 6.3070\n",
      "Epoch 3/5\n",
      "460/460 [==============================] - 2s 4ms/step - loss: 64.1613 - root_mean_squared_error: 8.0101 - mean_absolute_error: 6.1212\n",
      "Epoch 4/5\n",
      "460/460 [==============================] - 2s 4ms/step - loss: 59.3178 - root_mean_squared_error: 7.7018 - mean_absolute_error: 5.9134\n",
      "Epoch 5/5\n",
      "460/460 [==============================] - 2s 4ms/step - loss: 54.4609 - root_mean_squared_error: 7.3798 - mean_absolute_error: 5.7038\n",
      "----------------------------------------\n",
      "Fold 5\n",
      "----------------------------------------\n",
      "Random number generator seed reset!\n",
      "Epoch 1/5\n",
      "460/460 [==============================] - 2s 4ms/step - loss: 127.5420 - root_mean_squared_error: 10.5244 - mean_absolute_error: 7.5263\n",
      "Epoch 2/5\n",
      "460/460 [==============================] - 2s 4ms/step - loss: 70.3778 - root_mean_squared_error: 8.3891 - mean_absolute_error: 6.3613\n",
      "Epoch 3/5\n",
      "460/460 [==============================] - 2s 4ms/step - loss: 64.3140 - root_mean_squared_error: 8.0196 - mean_absolute_error: 6.1002\n",
      "Epoch 4/5\n",
      "460/460 [==============================] - 2s 4ms/step - loss: 59.2307 - root_mean_squared_error: 7.6961 - mean_absolute_error: 5.8864\n",
      "Epoch 5/5\n",
      "460/460 [==============================] - 2s 4ms/step - loss: 54.7199 - root_mean_squared_error: 7.3973 - mean_absolute_error: 5.7130\n"
     ]
    }
   ],
   "source": [
    "# Create a dictionary to hold the evaluation\n",
    "# scores (on the validation set) after each fold\n",
    "mlp_error_scores = {\n",
    "    'MSE': [],\n",
    "    'RMSE': [],\n",
    "    'MAE': []\n",
    "}\n",
    "\n",
    "# Cross-validate the best MLP hypermodel\n",
    "model_cv('mlp', X_train_32, y_train, mlp_error_scores, folds)"
   ]
  },
  {
   "cell_type": "code",
   "execution_count": 87,
   "id": "669d9e38",
   "metadata": {},
   "outputs": [
    {
     "data": {
      "text/html": [
       "<div>\n",
       "<style scoped>\n",
       "    .dataframe tbody tr th:only-of-type {\n",
       "        vertical-align: middle;\n",
       "    }\n",
       "\n",
       "    .dataframe tbody tr th {\n",
       "        vertical-align: top;\n",
       "    }\n",
       "\n",
       "    .dataframe thead th {\n",
       "        text-align: right;\n",
       "    }\n",
       "</style>\n",
       "<table border=\"1\" class=\"dataframe\">\n",
       "  <thead>\n",
       "    <tr style=\"text-align: right;\">\n",
       "      <th></th>\n",
       "      <th>MSE</th>\n",
       "      <th>RMSE</th>\n",
       "      <th>MAE</th>\n",
       "    </tr>\n",
       "  </thead>\n",
       "  <tbody>\n",
       "    <tr>\n",
       "      <th>Fold 1</th>\n",
       "      <td>37.639095</td>\n",
       "      <td>6.135071</td>\n",
       "      <td>4.531947</td>\n",
       "    </tr>\n",
       "    <tr>\n",
       "      <th>Fold 2</th>\n",
       "      <td>42.441380</td>\n",
       "      <td>6.514705</td>\n",
       "      <td>4.847640</td>\n",
       "    </tr>\n",
       "    <tr>\n",
       "      <th>Fold 3</th>\n",
       "      <td>42.130489</td>\n",
       "      <td>6.490800</td>\n",
       "      <td>4.769778</td>\n",
       "    </tr>\n",
       "    <tr>\n",
       "      <th>Fold 4</th>\n",
       "      <td>43.630100</td>\n",
       "      <td>6.605309</td>\n",
       "      <td>4.949745</td>\n",
       "    </tr>\n",
       "    <tr>\n",
       "      <th>Fold 5</th>\n",
       "      <td>40.507881</td>\n",
       "      <td>6.364580</td>\n",
       "      <td>4.866424</td>\n",
       "    </tr>\n",
       "  </tbody>\n",
       "</table>\n",
       "</div>"
      ],
      "text/plain": [
       "              MSE      RMSE       MAE\n",
       "Fold 1  37.639095  6.135071  4.531947\n",
       "Fold 2  42.441380  6.514705  4.847640\n",
       "Fold 3  42.130489  6.490800  4.769778\n",
       "Fold 4  43.630100  6.605309  4.949745\n",
       "Fold 5  40.507881  6.364580  4.866424"
      ]
     },
     "execution_count": 87,
     "metadata": {},
     "output_type": "execute_result"
    }
   ],
   "source": [
    "# Store the MLP CV evaluation scores in a Pandas data frame\n",
    "# which we will use for some beautiful plots later on\n",
    "mlp_cv_df = pd.DataFrame(mlp_error_scores, index=[f'Fold {i+1}' for i in range(folds)])\n",
    "mlp_cv_df"
   ]
  },
  {
   "cell_type": "code",
   "execution_count": 88,
   "id": "e4a52a51",
   "metadata": {},
   "outputs": [
    {
     "data": {
      "text/html": [
       "<div>\n",
       "<style scoped>\n",
       "    .dataframe tbody tr th:only-of-type {\n",
       "        vertical-align: middle;\n",
       "    }\n",
       "\n",
       "    .dataframe tbody tr th {\n",
       "        vertical-align: top;\n",
       "    }\n",
       "\n",
       "    .dataframe thead th {\n",
       "        text-align: right;\n",
       "    }\n",
       "</style>\n",
       "<table border=\"1\" class=\"dataframe\">\n",
       "  <thead>\n",
       "    <tr style=\"text-align: right;\">\n",
       "      <th></th>\n",
       "      <th>MSE</th>\n",
       "      <th>RMSE</th>\n",
       "      <th>MAE</th>\n",
       "    </tr>\n",
       "  </thead>\n",
       "  <tbody>\n",
       "    <tr>\n",
       "      <th>count</th>\n",
       "      <td>5.000000</td>\n",
       "      <td>5.000000</td>\n",
       "      <td>5.000000</td>\n",
       "    </tr>\n",
       "    <tr>\n",
       "      <th>mean</th>\n",
       "      <td>41.269789</td>\n",
       "      <td>6.422093</td>\n",
       "      <td>4.793107</td>\n",
       "    </tr>\n",
       "    <tr>\n",
       "      <th>std</th>\n",
       "      <td>2.315542</td>\n",
       "      <td>0.182041</td>\n",
       "      <td>0.159400</td>\n",
       "    </tr>\n",
       "    <tr>\n",
       "      <th>min</th>\n",
       "      <td>37.639095</td>\n",
       "      <td>6.135071</td>\n",
       "      <td>4.531947</td>\n",
       "    </tr>\n",
       "    <tr>\n",
       "      <th>25%</th>\n",
       "      <td>40.507881</td>\n",
       "      <td>6.364580</td>\n",
       "      <td>4.769778</td>\n",
       "    </tr>\n",
       "    <tr>\n",
       "      <th>50%</th>\n",
       "      <td>42.130489</td>\n",
       "      <td>6.490800</td>\n",
       "      <td>4.847640</td>\n",
       "    </tr>\n",
       "    <tr>\n",
       "      <th>75%</th>\n",
       "      <td>42.441380</td>\n",
       "      <td>6.514705</td>\n",
       "      <td>4.866424</td>\n",
       "    </tr>\n",
       "    <tr>\n",
       "      <th>max</th>\n",
       "      <td>43.630100</td>\n",
       "      <td>6.605309</td>\n",
       "      <td>4.949745</td>\n",
       "    </tr>\n",
       "  </tbody>\n",
       "</table>\n",
       "</div>"
      ],
      "text/plain": [
       "             MSE      RMSE       MAE\n",
       "count   5.000000  5.000000  5.000000\n",
       "mean   41.269789  6.422093  4.793107\n",
       "std     2.315542  0.182041  0.159400\n",
       "min    37.639095  6.135071  4.531947\n",
       "25%    40.507881  6.364580  4.769778\n",
       "50%    42.130489  6.490800  4.847640\n",
       "75%    42.441380  6.514705  4.866424\n",
       "max    43.630100  6.605309  4.949745"
      ]
     },
     "execution_count": 88,
     "metadata": {},
     "output_type": "execute_result"
    }
   ],
   "source": [
    "# Describe the MLP CV evaluation data frame\n",
    "# showing the mean, max, std etc. values of each column\n",
    "mlp_cv_df.describe()"
   ]
  },
  {
   "cell_type": "markdown",
   "id": "e6dcf19c",
   "metadata": {},
   "source": [
    "The `MLP` hypermodel evaluation data frame description displays the following critical info:\n",
    "\n",
    "- Mean `MSE` $= 41.2698$\n",
    "\n",
    "\n",
    "- Mean `RMSE` $= 6.4221$\n",
    "\n",
    "\n",
    "- Mean `MAE` $= 4.7931$"
   ]
  },
  {
   "cell_type": "markdown",
   "id": "31a366cd",
   "metadata": {},
   "source": [
    "### Analysing the `MLP` and `CNN` Cross-Validation Results\n",
    "\n",
    "In this part (for the sake of simplicity and to save words) we will mention and compare only the `RMSE` metric evaluation performances of both models.\n",
    "\n",
    "Obviously, the `MLP` model is significantly outperformed by the optimised `CNN` model. Specifically, the more sophisticated `CNN` architecture displays an improvement (decrease) of $\\approx 6.60\\%$ as opposed to the `MLP` mean validation `RMSE`. This confirms the statement that when dealing with images the `CNN` achieves a better performance. This is because it can understand the image pixel relations and is often the preffered choice for image or video classification tasks.\n",
    "\n",
    "On the other hand, the `MLP` is generally employed in simple image classification tasks. Its simple architecture allows for fast model training which realise good overall output performance.\n",
    "\n",
    "Finally, the obtained CV results (displayed above) depict that the `CNN` hypermodel is definitely more stable and will make better predictions on completely unseen data. Nevertheless, there is still room for improvement as will be detailed in-depth in the following last section."
   ]
  },
  {
   "cell_type": "markdown",
   "id": "e3de0b5f",
   "metadata": {},
   "source": [
    "#### MLP vs CNN Mean CV Loss"
   ]
  },
  {
   "cell_type": "code",
   "execution_count": 296,
   "id": "c9d7adcc",
   "metadata": {},
   "outputs": [
    {
     "data": {
      "image/png": "[encoded data removed]",
      "text/plain": [
       "<Figure size 504x432 with 1 Axes>"
      ]
     },
     "metadata": {},
     "output_type": "display_data"
    }
   ],
   "source": [
    "# Initialise a matplot figure\n",
    "fig = plt.figure(figsize=(7,6))\n",
    "\n",
    "# Create matplotlib axes, define the figure and plot\n",
    "# (code is rather straightforward)\n",
    "ax_bar = fig.add_subplot(111)\n",
    "plt.title('MLP vs CNN CV Mean Evaluation Loss (all metrics)', fontsize=16)\n",
    "\n",
    "# Plot the mean metric values on the axes\n",
    "cnn_cv_df.mean(axis=0).plot(kind='bar', ax=ax_bar, width=.2, position=1)\n",
    "mlp_cv_df.mean(axis=0).plot(kind='bar', ax=ax_bar, color='orange', width=.2, position=0)\n",
    "plt.legend(['CNN', 'MLP'], prop={'size': 13})\n",
    "plt.xticks(fontsize=12, rotation=0)\n",
    "plt.yticks(fontsize=12)\n",
    "plt.xlim(-0.5,2.5)\n",
    "plt.xlabel('\\nMetric', fontsize=14)\n",
    "plt.ylabel('Loss (RMSE)', fontsize=14)\n",
    "plt.show()"
   ]
  },
  {
   "cell_type": "markdown",
   "id": "b178c820",
   "metadata": {},
   "source": [
    "We can clearly see the difference between the `CNN` and `MLP` mean CV results where the former are superior."
   ]
  },
  {
   "cell_type": "markdown",
   "id": "fitted-extreme",
   "metadata": {
    "id": "fitted-extreme"
   },
   "source": [
    "## Subtask d. Inference\n",
    "\n",
    "Since we already evaluated both hypertuned models in Subtask b., here, we present some graphs to visualise the achieved results. We visualise the various metric value of the predictions obtained by the models.\n",
    "\n",
    "**Note**: Your results may vary given the stochastic nature of the algorithm, evaluation procedure, or differences in numerical precision. \n",
    "\n",
    "\n",
    "### Discussing the Results and Proposing Future Work\n",
    "\n",
    "#### The CNN Hypermodel\n",
    "\n",
    "As we saw previously, the `CNN` hypertuning resulted in a decent generalisation performance increase ($\\approx 3.2\\%$) as to the baseline model. Let us now look at the hyperparameters of our baseline and best hypermodel:\n",
    "\n",
    "- `Conv2D` layer 1 &ndash; 64 (hypermodel) vs 32 (baseline)\n",
    "\n",
    "\n",
    "- `Conv2D` layer 2 &ndash; 128 (hypermodel) vs 64 (baseline)\n",
    "\n",
    "\n",
    "- `Dense` layer &ndash; 128 (hypermodel) vs 256 (baseline)\n",
    "\n",
    "\n",
    "- Batch size &ndash; both the hypermodel and the baseline architecture adopt a batch size of 32 (default).\n",
    "\n",
    "- Learning rate &ndash; both adopt a learning rate of 0.001 or the default for the `Adam` optimiser.\n",
    "\n",
    "Therefore, we infer that the more filters we have in the `Conv2D` layers, the better the model generalises on unseen data. Also, in this case it is better to have a simpler (less units) `Dense` layer.\n",
    "\n",
    "\n",
    "\n",
    "Future work\n",
    "adding and removing layers should be tried\n",
    "\n",
    "#### The MLP Hypermodel\n",
    "\n",
    "The hypertuned `MLP` architecture failed to surpass the evaluation `RMSE` of the baseline model. Both models performed identically with a negligible difference in `RMSE` of only 0.011.\n",
    "\n",
    "- `Dense` layer 1 &ndash; 128 (hypermodel) vs 64 (baseline)\n",
    "\n",
    "\n",
    "- `Dense` layer 2 &ndash; 96 (hypermodel) vs 32 (baseline)\n",
    "\n",
    "\n",
    "- Batch size &ndash; both the hypermodel and the baseline architecture adopt a batch size of 32 (default).\n",
    "\n",
    "\n",
    "- Learning rate &ndash; both adopt a learning rate of 0.001 or the default for the `Adam` optimiser.\n",
    "\n",
    "This implies that either the model is suboptimal for such a real-world dataset or we have not observed a sufficient number of candidate models.\n",
    "\n",
    "#### Conclusion and Future Work\n",
    "\n",
    "At the end of the day, there is no such model that fits all tasks. Therefore, every optimisation done should be adapted to the specific case and its data. Here, we are not trying to develop a model that outperforms the state-of-the art ones (due to time constraints at least) but to demonstrate our understanding of how a model should be developed and evaluated. Some points to consider in the future which might improve the results achieved in this research:\n",
    "\n",
    "- Introduction of new layers to the model architectures we tested &ndash; this could be achieved via hypertuning or manually and could lead to better generalisation performance on this or similar problem domains.\n",
    "\n",
    "\n",
    "- Trying different optimisers with learning rate decay &ndash; we employed one of the most widely adopted optimiser in machine learning. However, we did not experiment with any other which might provide better results.\n",
    "\n",
    "\n",
    "- Adjusting early stopping &ndash; we set `patience=3` which might be too harsh of a value for early stopping the training process.\n",
    "\n",
    "\n",
    "- Using a wider range of values when tuning &ndash; we should apply that to the current and future hyperparameters.\n",
    "\n",
    "\n",
    "- Experimenting with the hypertuning procedure &ndash; we could adopt a method which combines the Keras Tuner class with a k-fold cross-validation, or use a nested cross-validation loop instead.  \n",
    "\n",
    "\n",
    "- Running on CPU? &ndash; painfully slow and we do not know if it would make any difference at all...\n",
    "\n",
    "\n",
    "### Final Plots"
   ]
  },
  {
   "cell_type": "markdown",
   "id": "000abadb",
   "metadata": {},
   "source": [
    "#### Per Fold `MLP` vs `CNN` Cross-Validation Loss Results"
   ]
  },
  {
   "cell_type": "code",
   "execution_count": 284,
   "id": "9b14108d",
   "metadata": {},
   "outputs": [
    {
     "data": {
      "image/png": "[encoded data removed]",
      "text/plain": [
       "<Figure size 504x432 with 1 Axes>"
      ]
     },
     "metadata": {},
     "output_type": "display_data"
    }
   ],
   "source": [
    "# Plot the MLP vs CNN CV per fold evaluation loss line graph\n",
    "plt.figure(figsize=(7,6))\n",
    "ax = cnn_cv_df['RMSE'].plot()\n",
    "mlp_cv_df['RMSE'].plot(ax=ax)\n",
    "plt.title('MLP vs CNN CV Evaluation Loss (per fold)', fontsize=16)\n",
    "plt.xlabel('Fold No.', fontsize=13)\n",
    "plt.ylabel('Loss (RMSE)', fontsize=13)\n",
    "plt.legend(['CNN', 'MLP'], prop={'size': 13})\n",
    "plt.xticks(fontsize=12)\n",
    "plt.yticks(fontsize=12)\n",
    "plt.show()"
   ]
  },
  {
   "cell_type": "markdown",
   "id": "e91dd3fc",
   "metadata": {},
   "source": [
    "The `MLP` seems more stable over the folds, but the `CNN` demonstrates lower `RMSE` on average."
   ]
  },
  {
   "cell_type": "markdown",
   "id": "e187e07b",
   "metadata": {},
   "source": [
    "#### Baseline vs Final `RMSE` Model Results"
   ]
  },
  {
   "cell_type": "code",
   "execution_count": 301,
   "id": "652120b6",
   "metadata": {},
   "outputs": [
    {
     "data": {
      "image/png": "[encoded data removed]",
      "text/plain": [
       "<Figure size 504x360 with 1 Axes>"
      ]
     },
     "metadata": {},
     "output_type": "display_data"
    }
   ],
   "source": [
    "# Store the results of the baseline and final models in a data frame\n",
    "final_data = [cnn_base_df.iloc[1][0], cnn_final_df.iloc[1][0], mlp_base_df.iloc[1][0], mlp_final_df.iloc[1][0]]\n",
    "cnn_vs_mlp_df = pd.DataFrame(final_data, index=['Baseline CNN','Final CNN','Baseline MLP','Final MLP'])\n",
    "\n",
    "# Visualise the overall RMSE evaluation results of the baseline and final models\n",
    "cnn_vs_mlp_df.T.plot(kind='bar', legend=False, figsize=(7,5), ylim=(0,7), width=.5)\n",
    "plt.title('CNN vs MLP Generalisation Loss (baseline and final models)', fontsize=16)\n",
    "plt.xlim(-0.4,0.4)\n",
    "plt.xticks([-0.185,-0.065,0.065,0.185], \n",
    "           labels=cnn_vs_mlp_df.index,\n",
    "           fontsize=13,\n",
    "          rotation=75)\n",
    "plt.yticks(fontsize=13)\n",
    "plt.xlabel('\\nMetric', fontsize=14)\n",
    "plt.ylabel('Loss (RMSE)', fontsize=14)\n",
    "plt.show()"
   ]
  },
  {
   "cell_type": "markdown",
   "id": "b5a3a09e",
   "metadata": {},
   "source": [
    "The hypertuned `CNN` model generalises best on the unseen holdout test set as seen above."
   ]
  }
 ],
 "metadata": {
  "accelerator": "GPU",
  "colab": {
   "collapsed_sections": [],
   "history_visible": true,
   "name": "task_2_gpu.ipynb",
   "provenance": []
  },
  "kernelspec": {
   "display_name": "GPU",
   "language": "python",
   "name": "gpu"
  },
  "language_info": {
   "codemirror_mode": {
    "name": "ipython",
    "version": 3
   },
   "file_extension": ".py",
   "mimetype": "text/x-python",
   "name": "python",
   "nbconvert_exporter": "python",
   "pygments_lexer": "ipython3",
   "version": "3.8.7"
  }
 },
 "nbformat": 4,
 "nbformat_minor": 5
}
